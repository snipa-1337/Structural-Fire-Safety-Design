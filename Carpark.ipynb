{
 "cells": [
  {
   "cell_type": "code",
   "execution_count": 1,
   "id": "187cf8ae-8fe0-4281-bd7d-61a05cce8d48",
   "metadata": {},
   "outputs": [],
   "source": [
    "import numpy as np\n",
    "import sympy as sp\n",
    "import handcalcs.render\n",
    "import forallpeople as si\n",
    "import matplotlib.pyplot as plt\n",
    "from math import tan, sin,cos, pi, radians, sqrt, trunc\n",
    "from IPython.display import display, Markdown\n",
    "si.environment('thermal', top_level=True)"
   ]
  },
  {
   "cell_type": "code",
   "execution_count": 2,
   "id": "8e380317-d3b7-4543-bdb0-ac7eda950718",
   "metadata": {},
   "outputs": [],
   "source": [
    "def Fire_load(building_type):\n",
    "    # Fire load densities according to EN 1991-1-2 DK Annex\n",
    "    if building_type == 'hospital' or building_type == 'cinema' or building_type == 'lecture hall':\n",
    "        q = 150  # MJ/m^2\n",
    "    elif building_type == 'office' or building_type == 'residence':\n",
    "        q = 200  # MJ/m^2\n",
    "    elif building_type == 'car park':\n",
    "        q = 300  # MJ/m^2\n",
    "    else:\n",
    "        raise ValueError(\"Please input a valid building type\")\n",
    "    return q*10**6*J_m2"
   ]
  },
  {
   "cell_type": "markdown",
   "id": "b7f5deda-5198-4b47-893e-ca2416c070a3",
   "metadata": {},
   "source": [
    "<h4>Fuel load density</h4>"
   ]
  },
  {
   "cell_type": "code",
   "execution_count": 3,
   "id": "d87a0d8c-083e-41da-ba5e-5ff93a1170ac",
   "metadata": {},
   "outputs": [],
   "source": [
    "q = Fire_load('car park')"
   ]
  },
  {
   "cell_type": "code",
   "execution_count": 4,
   "id": "ab33fb6c-2d33-4c66-8c46-416c034aae02",
   "metadata": {},
   "outputs": [
    {
     "data": {
      "text/latex": [
       "\\[\n",
       "\\begin{aligned}\n",
       "q &= 300.00\\ \\text{MJ} \\cdot \\text{m⁻²} \\; \n",
       "\\end{aligned}\n",
       "\\]"
      ],
      "text/plain": [
       "<IPython.core.display.Latex object>"
      ]
     },
     "metadata": {},
     "output_type": "display_data"
    }
   ],
   "source": [
    "%%render 2\n",
    "q"
   ]
  },
  {
   "cell_type": "markdown",
   "id": "21143c4b-fa86-4108-a0ef-fcfed8276730",
   "metadata": {},
   "source": [
    "<h4>Opening factor</h4>\n",
    "\n",
    "Enclosure area\n",
    "\n",
    "* Add picture of corner"
   ]
  },
  {
   "cell_type": "code",
   "execution_count": 5,
   "id": "60a01264-cd81-432b-b9e3-063774941c2c",
   "metadata": {
    "tags": []
   },
   "outputs": [
    {
     "data": {
      "text/latex": [
       "\\[\n",
       "\\begin{aligned}\n",
       "B &= 10.00\\ \\text{m} \\; \n",
       " &L &= 12.75\\ \\text{m} \\; \n",
       " &H &= 2.20\\ \\text{m} \\; \n",
       "\\\\[10pt]\\end{aligned}\n",
       "\\]"
      ],
      "text/plain": [
       "<IPython.core.display.Latex object>"
      ]
     },
     "metadata": {},
     "output_type": "display_data"
    }
   ],
   "source": [
    "%%render param 2\n",
    "#Area of the \"cube\" of the compartment\n",
    "\n",
    "B = 10*m\n",
    "L = 25.5/2*m\n",
    "H = 2.2*m\n"
   ]
  },
  {
   "cell_type": "code",
   "execution_count": 6,
   "id": "e63b8281-e1cf-43c1-b041-d04882f5d526",
   "metadata": {
    "tags": []
   },
   "outputs": [
    {
     "data": {
      "text/latex": [
       "\\[\n",
       "\\begin{aligned}\n",
       "A_{t} &= 2 \\cdot \\left( B \\cdot L + B \\cdot H + L \\cdot H \\right)  = 2 \\cdot \\left( 10.00\\ \\text{m} \\cdot 12.75\\ \\text{m} + 10.00\\ \\text{m} \\cdot 2.20\\ \\text{m} + 12.75\\ \\text{m} \\cdot 2.20\\ \\text{m} \\right) &= 355.10\\ \\text{m}^{2}  \n",
       "\\\\[10pt]\n",
       "A_{f} &= B \\cdot L  = 10.00\\ \\text{m} \\cdot 12.75\\ \\text{m} &= 127.50\\ \\text{m}^{2}  \n",
       "\\end{aligned}\n",
       "\\]"
      ],
      "text/plain": [
       "<IPython.core.display.Latex object>"
      ]
     },
     "metadata": {},
     "output_type": "display_data"
    }
   ],
   "source": [
    "%%render 2\n",
    "\n",
    "A_t = 2*(B*L + B*H + L*H)\n",
    "A_f = B*L"
   ]
  },
  {
   "cell_type": "code",
   "execution_count": 7,
   "id": "f7dd0ea0-bcba-4759-b12b-4e7a66f48199",
   "metadata": {
    "tags": []
   },
   "outputs": [
    {
     "data": {
      "text/latex": [
       "\\[\n",
       "\\begin{aligned}\n",
       "O &= \\left( 0.02 \\cdot \\left( m \\right) ^{ 0.5 } \\right)  = \\left( 0.02 \\cdot \\left( m \\right) ^{ 0.5 } \\right) &= 0.02\\ \\text{m}^{0.5}  \n",
       "\\end{aligned}\n",
       "\\]"
      ],
      "text/plain": [
       "<IPython.core.display.Latex object>"
      ]
     },
     "metadata": {},
     "output_type": "display_data"
    }
   ],
   "source": [
    "%%render 2\n",
    "\n",
    "O = (0.02*m**0.5).prefix('unity')"
   ]
  },
  {
   "cell_type": "markdown",
   "id": "50cb4336-6540-4a4f-aa35-838d52b69611",
   "metadata": {
    "tags": []
   },
   "source": [
    "<h4>Thermal inertia</h4>"
   ]
  },
  {
   "cell_type": "code",
   "execution_count": 8,
   "id": "c5ee8256-e5bf-4f4f-924f-dc11fd54549f",
   "metadata": {
    "tags": []
   },
   "outputs": [
    {
     "data": {
      "text/latex": [
       "\\[\n",
       "\\begin{aligned}\n",
       "b &= 1160.00\\ \\text{kg} \\cdot \\text{s}^{-2.5} \\cdot \\text{K}^{-1.0} \\; \n",
       "\\end{aligned}\n",
       "\\]"
      ],
      "text/plain": [
       "<IPython.core.display.Latex object>"
      ]
     },
     "metadata": {},
     "output_type": "display_data"
    }
   ],
   "source": [
    "%%render 2\n",
    "\n",
    "b = (1160*W_m_K*s**0.5/m)"
   ]
  },
  {
   "cell_type": "code",
   "execution_count": 9,
   "id": "40a071c4-bc56-4530-9b4d-981cafc85c27",
   "metadata": {},
   "outputs": [],
   "source": [
    "def gamma_f(O,b):\n",
    "    return (O.value/0.04/(b.value/1160))**2"
   ]
  },
  {
   "cell_type": "code",
   "execution_count": 10,
   "id": "8ef6e188-7c28-4997-9e66-b586c665efd4",
   "metadata": {},
   "outputs": [
    {
     "data": {
      "image/png": "[encoded data removed]",
      "text/plain": [
       "<Figure size 432x288 with 1 Axes>"
      ]
     },
     "metadata": {},
     "output_type": "display_data"
    }
   ],
   "source": [
    "t_max = 0.0078*(q.value/10**6)/O.value\n",
    "t = np.arange(0,t_max*5)\n",
    "T = 20+345*np.log10(8*gamma_f(O,b)*t+1)/(1+0.04*(t/t_max)**3.5)\n",
    "T_max = T.max()\n",
    "plt.style.use('ggplot')\n",
    "plt.plot(t,T, label=\"Parking garage compartment\", color = 'red')\n",
    "plt.ylim(ymax=max(T)*1.2)\n",
    "plt.legend()\n",
    "plt.xlabel(\"Time [min]\")\n",
    "plt.ylabel(\"Temperature [C]\")\n",
    "plt.text(0.5 * (0 + t_max), 0.1 * (0 + T_max),\n",
    "     r\"$T=20 + \\frac{345\\cdot log_{10}(8\\Gamma \\cdot t+1)}{1+0.04(t/t_{max})^{3.5}}$\", horizontalalignment='left',\n",
    "     fontsize=20)\n",
    "plt.show()"
   ]
  },
  {
   "cell_type": "code",
   "execution_count": 14,
   "id": "57b6c03b-ec7e-4043-b2e8-f1f14e01bad8",
   "metadata": {},
   "outputs": [
    {
     "data": {
      "text/plain": [
       "(808.245 °C, 117.000 minutes)"
      ]
     },
     "execution_count": 14,
     "metadata": {},
     "output_type": "execute_result"
    }
   ],
   "source": [
    "T_max*dC, t_max*minute"
   ]
  },
  {
   "cell_type": "code",
   "execution_count": null,
   "id": "f615a137-efbf-429e-9512-465d0a21776f",
   "metadata": {},
   "outputs": [],
   "source": []
  }
 ],
 "metadata": {
  "kernelspec": {
   "display_name": "Python 3 (ipykernel)",
   "language": "python",
   "name": "python3"
  },
  "language_info": {
   "codemirror_mode": {
    "name": "ipython",
    "version": 3
   },
   "file_extension": ".py",
   "mimetype": "text/x-python",
   "name": "python",
   "nbconvert_exporter": "python",
   "pygments_lexer": "ipython3",
   "version": "3.8.12"
  }
 },
 "nbformat": 4,
 "nbformat_minor": 5
}
