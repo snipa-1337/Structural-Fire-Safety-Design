{
 "cells": [
  {
   "cell_type": "code",
   "execution_count": 66,
   "metadata": {},
   "outputs": [],
   "source": [
    "import numpy as np\n",
    "import pandas as pd\n",
    "pd.options.mode.chained_assignment = None  # default='warn'\n",
    "import sympy as sp\n",
    "import handcalcs.render\n",
    "import forallpeople as si\n",
    "import matplotlib.pyplot as plt\n",
    "%matplotlib inline\n",
    "from math import tan, sin,cos, pi, radians, sqrt, trunc\n",
    "from IPython.display import display, Markdown\n",
    "si.environment('structural', top_level=True)"
   ]
  },
  {
   "cell_type": "markdown",
   "metadata": {},
   "source": [
    "<h2>TT Slab verification</h2>\n",
    "\n",
    "<h3>Compartment: Car park</h3>\n",
    "\n",
    "<img src = \"TT-slab.png\" width=800>"
   ]
  },
  {
   "cell_type": "markdown",
   "metadata": {},
   "source": [
    "<h4>Loads</h4>"
   ]
  },
  {
   "cell_type": "code",
   "execution_count": 67,
   "metadata": {},
   "outputs": [
    {
     "data": {
      "text/latex": [
       "\\[\n",
       "\\begin{aligned}\n",
       "\\psi_{11} &= 0.4 \\; \n",
       "\\\\[10pt]\n",
       "G_{k} &= \\left( 7.3 + 1.21 \\right) \\cdot \\frac{ \\mathrm{kN} }{ \\left( m \\right) ^{ 2 } }  = \\left( 7.3 + 1.21 \\right) \\cdot \\frac{ kN }{ \\left( m \\right) ^{ 2 } } &= 8.51\\ \\text{kPa}  \n",
       "\\\\[10pt]\n",
       "Q_{k} &= 2.5 \\cdot \\frac{ \\mathrm{kN} }{ \\left( m \\right) ^{ 2 } }  = 2.5 \\cdot \\frac{ kN }{ \\left( m \\right) ^{ 2 } } &= 2.50\\ \\text{kPa}  \n",
       "\\end{aligned}\n",
       "\\]"
      ],
      "text/plain": [
       "<IPython.core.display.Latex object>"
      ]
     },
     "metadata": {},
     "output_type": "display_data"
    }
   ],
   "source": [
    "%%render 2\n",
    "\n",
    "psi_11 = 0.4\n",
    "G_k = (7.3+1.21)*kN/m**2\n",
    "Q_k = 2.5*kN/m**2\n"
   ]
  },
  {
   "cell_type": "markdown",
   "metadata": {},
   "source": [
    "Load combination for fire:"
   ]
  },
  {
   "cell_type": "code",
   "execution_count": 68,
   "metadata": {},
   "outputs": [
    {
     "data": {
      "text/latex": [
       "\\[\n",
       "\\begin{aligned}\n",
       "q_{d} &= G_{k} + \\psi_{11} \\cdot Q_{k}  = 8.51\\ \\text{kPa} + 0.4 \\cdot 2.50\\ \\text{kPa} &= 9.51\\ \\text{kPa}  \n",
       "\\end{aligned}\n",
       "\\]"
      ],
      "text/plain": [
       "<IPython.core.display.Latex object>"
      ]
     },
     "metadata": {},
     "output_type": "display_data"
    }
   ],
   "source": [
    "%%render 2\n",
    "q_d = G_k+psi_11*Q_k"
   ]
  },
  {
   "cell_type": "markdown",
   "metadata": {},
   "source": [
    "<h4>Slab parameters</h4>"
   ]
  },
  {
   "cell_type": "code",
   "execution_count": 69,
   "metadata": {},
   "outputs": [
    {
     "data": {
      "text/latex": [
       "\\[\n",
       "\\begin{aligned}\n",
       "L &= 14.40\\ \\text{m} \\; \n",
       " &b_{w} &= 160.00\\ \\text{mm} \\; \n",
       " &h_{w} &= 440.00\\ \\text{mm} \\; \n",
       "\\\\[10pt]\n",
       " b_{flange} &= 2.40\\ \\text{m} \\; \n",
       " &h_{flange} &= 60.00\\ \\text{mm} \\; \n",
       " &h &= 500.00\\ \\text{mm} \\; \n",
       "\\\\[10pt]\n",
       " d &= 405.60\\ \\text{mm} \\; \n",
       " &d_{1} &= 450.00\\ \\text{mm} \\; \n",
       " &d_{2} &= 400.00\\ \\text{mm} \\; \n",
       "\\\\[10pt]\n",
       " d_{3} &= 350.00\\ \\text{mm} \\; \n",
       " &A_{t} &= 314000.00\\ \\text{mm}^{2} \\; \n",
       " &\\mathrm{fck}_{20} &= 45.00\\ \\text{MPa} \\; \n",
       "\\\\[10pt]\n",
       " \\phi_{s} &= 12.50\\ \\text{mm} \\; \n",
       " &A_{w} &= 93.00\\ \\text{mm}^{2} \\; \n",
       " &A_{p} &= 1674.00\\ \\text{mm}^{2} \\; \n",
       "\\\\[10pt]\n",
       " E_{s20} &= 195.00\\ \\text{GPa} \\;\\end{aligned}\n",
       "\\]"
      ],
      "text/plain": [
       "<IPython.core.display.Latex object>"
      ]
     },
     "metadata": {},
     "output_type": "display_data"
    }
   ],
   "source": [
    "%%render param 2\n",
    "\n",
    "L = 14.4*m\n",
    "b_w = 160*mm\n",
    "h_w = 440*mm\n",
    "b_flange = 2400*mm\n",
    "h_flange = 60*mm\n",
    "h = h_flange+h_w\n",
    "d = 405.6*mm\n",
    "d_1 = h-50*mm\n",
    "d_2 = h-2*50*mm\n",
    "d_3 = h-3*50*mm\n",
    "A_t = 3.14*10**5*mm**2\n",
    "fck_20 = 45*MPa\n",
    "phi_s = 12.5*mm\n",
    "A_w = 93*mm**2\n",
    "A_p = 18*A_w\n",
    "E_s20 = 195*GPa\n"
   ]
  },
  {
   "cell_type": "markdown",
   "metadata": {},
   "source": [
    "From CONFIRE\n",
    "\n",
    "The top flange section is considered as a slab in CONFIRE in order to find the concrete damage factor, W  = $h_{flange}$ and H = 1\n",
    "\n",
    "<img src = \"Confire-tt-fl.png\" width=300>\n"
   ]
  },
  {
   "cell_type": "code",
   "execution_count": 70,
   "metadata": {},
   "outputs": [
    {
     "data": {
      "text/latex": [
       "\\[\n",
       "\\begin{aligned}\n",
       "\\xi_{CMH} &= 4.99 \\times 10 ^ {-1 } \\; \n",
       "\\\\[10pt]\n",
       "\\xi_{CMC} &= 8.19 \\times 10 ^ {-2 } \\; \n",
       "\\end{aligned}\n",
       "\\]"
      ],
      "text/plain": [
       "<IPython.core.display.Latex object>"
      ]
     },
     "metadata": {},
     "output_type": "display_data"
    }
   ],
   "source": [
    "%%render 2\n",
    "xi_CMH = 0.4992\n",
    "xi_CMC = 0.0819"
   ]
  },
  {
   "cell_type": "markdown",
   "metadata": {},
   "source": [
    "The web section is considered as 3-side exposed beam, W = $\\frac{b_w}{2}$ and H = $h_w$\n",
    "\n",
    "For bar in position I\n",
    "\n",
    "<img src = \"Confire-ttI.png\" width=300>"
   ]
  },
  {
   "cell_type": "code",
   "execution_count": 71,
   "metadata": {
    "jupyter": {
     "source_hidden": true
    },
    "tags": []
   },
   "outputs": [
    {
     "data": {
      "text/latex": [
       "\\[\n",
       "\\begin{aligned}\n",
       "T_{max_{I}} &= 591.00\\ \\text{°C} \\; \n",
       " &T_{cold_{I}} &= 598.00\\ \\text{°C} \\;\\end{aligned}\n",
       "\\]"
      ],
      "text/plain": [
       "<IPython.core.display.Latex object>"
      ]
     },
     "metadata": {},
     "output_type": "display_data"
    }
   ],
   "source": [
    "%%render param 2\n",
    "\n",
    "T_max_I = (591*dC)\n",
    "T_cold_I = (598*dC) "
   ]
  },
  {
   "cell_type": "code",
   "execution_count": 72,
   "metadata": {
    "jupyter": {
     "source_hidden": true
    },
    "tags": []
   },
   "outputs": [],
   "source": [
    "cte = pd.read_excel('strength-reduction-constants.xlsx')"
   ]
  },
  {
   "cell_type": "code",
   "execution_count": 73,
   "metadata": {
    "jupyter": {
     "source_hidden": true
    },
    "tags": []
   },
   "outputs": [],
   "source": [
    "def material_constants(mat_index):\n",
    "    k = cte['k '][mat_index]\n",
    "    T1 = cte['T1 '][mat_index]*dC\n",
    "    T2 = cte['T2 '][mat_index]*dC\n",
    "    T8 = cte['T8 '][mat_index]*dC\n",
    "    T64 = cte['T64'][mat_index]*dC\n",
    "    return k, T1, T2, T8, T64\n",
    "\n"
   ]
  },
  {
   "cell_type": "code",
   "execution_count": 74,
   "metadata": {
    "jupyter": {
     "source_hidden": true
    },
    "tags": []
   },
   "outputs": [],
   "source": [
    "from handcalcs import handcalc\n",
    "@handcalc(jupyter_display = True)\n",
    "def material_deterioration(T,k,T1,T2,T8,T64):\n",
    "    \"\"\"\n",
    "    Calculate the deterioration of a material.\n",
    "    \"\"\"\n",
    "    xi = k + (1-k)/(1+T/T1+(T/T2)**2+(T/T8)**8+(T/T64)**64)\n",
    "    return xi\n"
   ]
  },
  {
   "cell_type": "code",
   "execution_count": 75,
   "metadata": {
    "jupyter": {
     "source_hidden": true
    },
    "tags": []
   },
   "outputs": [
    {
     "data": {
      "text/latex": [
       "\\[\n",
       "\\begin{aligned}\n",
       "\\xi &= k + \\frac{ 1 - k }{ 1 + \\frac{ T }{ \\mathrm{T1} } + \\left( \\frac{ T }{ \\mathrm{T2} } \\right) ^{ 2 } + \\left( \\frac{ T }{ \\mathrm{T8} } \\right) ^{ 8 } + \\left( \\frac{ T }{ \\mathrm{T64} } \\right) ^{ 64 } } \\\\&= 0.0 + \\frac{ 1 - 0.0 }{ 1 + \\frac{ 591.000\\ \\text{°C} }{ 100.000\\ \\text{k°C} } + \\left( \\frac{ 591.000\\ \\text{°C} }{ 490.000\\ \\text{°C} } \\right) ^{ 2 } + \\left( \\frac{ 591.000\\ \\text{°C} }{ 450.000\\ \\text{°C} } \\right) ^{ 8 } + \\left( \\frac{ 591.000\\ \\text{°C} }{ 100.000\\ \\text{k°C} } \\right) ^{ 64 } } \\\\&= 8.840 \\times 10 ^ {-2 }  \\\\\n",
       "\\end{aligned}\n",
       "\\]"
      ],
      "text/plain": [
       "<IPython.core.display.Latex object>"
      ]
     },
     "metadata": {},
     "output_type": "display_data"
    }
   ],
   "source": [
    "k, T1, T2, T8, T64 = material_constants(9)\n",
    "xi_sH_I = material_deterioration(T_max_I,k,T1,T2,T8,T64)\n"
   ]
  },
  {
   "cell_type": "code",
   "execution_count": 76,
   "metadata": {
    "jupyter": {
     "source_hidden": true
    },
    "tags": []
   },
   "outputs": [
    {
     "data": {
      "text/latex": [
       "\\[\n",
       "\\begin{aligned}\n",
       "\\xi_{sH_{I}} &= 8.84 \\times 10 ^ {-2 } \\; \n",
       "\\end{aligned}\n",
       "\\]"
      ],
      "text/plain": [
       "<IPython.core.display.Latex object>"
      ]
     },
     "metadata": {},
     "output_type": "display_data"
    }
   ],
   "source": [
    "%%render 2\n",
    "xi_sH_I"
   ]
  },
  {
   "cell_type": "code",
   "execution_count": 77,
   "metadata": {
    "jupyter": {
     "source_hidden": true
    },
    "tags": []
   },
   "outputs": [
    {
     "data": {
      "text/latex": [
       "\\[\n",
       "\\begin{aligned}\n",
       "\\xi &= k + \\frac{ 1 - k }{ 1 + \\frac{ T }{ \\mathrm{T1} } + \\left( \\frac{ T }{ \\mathrm{T2} } \\right) ^{ 2 } + \\left( \\frac{ T }{ \\mathrm{T8} } \\right) ^{ 8 } + \\left( \\frac{ T }{ \\mathrm{T64} } \\right) ^{ 64 } } \\\\&= 0.2 + \\frac{ 1 - 0.2 }{ 1 + \\frac{ 598.000\\ \\text{°C} }{ 100.000\\ \\text{k°C} } + \\left( \\frac{ 598.000\\ \\text{°C} }{ 950.000\\ \\text{°C} } \\right) ^{ 2 } + \\left( \\frac{ 598.000\\ \\text{°C} }{ 550.000\\ \\text{°C} } \\right) ^{ 8 } + \\left( \\frac{ 598.000\\ \\text{°C} }{ 650.000\\ \\text{°C} } \\right) ^{ 64 } } \\\\&= 4.381 \\times 10 ^ {-1 }  \\\\\n",
       "\\end{aligned}\n",
       "\\]"
      ],
      "text/plain": [
       "<IPython.core.display.Latex object>"
      ]
     },
     "metadata": {},
     "output_type": "display_data"
    }
   ],
   "source": [
    "k, T1, T2, T8, T64 = material_constants(11)\n",
    "xi_sC_I = material_deterioration(T_cold_I,k,T1,T2,T8,T64)"
   ]
  },
  {
   "cell_type": "code",
   "execution_count": null,
   "metadata": {
    "jupyter": {
     "source_hidden": true
    },
    "tags": []
   },
   "outputs": [
    {
     "data": {
      "text/latex": [
       "\\[\n",
       "\\begin{aligned}\n",
       "\\xi_{sC_{I}} &= 4.38 \\times 10 ^ {-1 } \\; \n",
       "\\end{aligned}\n",
       "\\]"
      ],
      "text/plain": [
       "<IPython.core.display.Latex object>"
      ]
     },
     "metadata": {},
     "output_type": "display_data"
    }
   ],
   "source": [
    "%%render 2\n",
    "xi_sC_I"
   ]
  },
  {
   "cell_type": "markdown",
   "metadata": {},
   "source": [
    "For position II\n",
    "\n",
    "<img src = \"Confire-ttII.png\" width=300>"
   ]
  },
  {
   "cell_type": "code",
   "execution_count": null,
   "metadata": {
    "tags": []
   },
   "outputs": [
    {
     "data": {
      "text/latex": [
       "\\[\n",
       "\\begin{aligned}\n",
       "T_{max_{II}} &= 583.00\\ \\text{°C} \\; \n",
       "\\\\[10pt]\n",
       "T_{cold_{II}} &= 587.00\\ \\text{°C} \\; \n",
       "\\end{aligned}\n",
       "\\]"
      ],
      "text/plain": [
       "<IPython.core.display.Latex object>"
      ]
     },
     "metadata": {},
     "output_type": "display_data"
    }
   ],
   "source": [
    "%%render 2\n",
    "T_max_II = (583*dC)\n",
    "T_cold_II = (587*dC) "
   ]
  },
  {
   "cell_type": "code",
   "execution_count": null,
   "metadata": {},
   "outputs": [
    {
     "data": {
      "text/latex": [
       "\\[\n",
       "\\begin{aligned}\n",
       "\\xi &= k + \\frac{ 1 - k }{ 1 + \\frac{ T }{ \\mathrm{T1} } + \\left( \\frac{ T }{ \\mathrm{T2} } \\right) ^{ 2 } + \\left( \\frac{ T }{ \\mathrm{T8} } \\right) ^{ 8 } + \\left( \\frac{ T }{ \\mathrm{T64} } \\right) ^{ 64 } } \\\\&= 0.0 + \\frac{ 1 - 0.0 }{ 1 + \\frac{ 583.000\\ \\text{°C} }{ 100.000\\ \\text{k°C} } + \\left( \\frac{ 583.000\\ \\text{°C} }{ 490.000\\ \\text{°C} } \\right) ^{ 2 } + \\left( \\frac{ 583.000\\ \\text{°C} }{ 450.000\\ \\text{°C} } \\right) ^{ 8 } + \\left( \\frac{ 583.000\\ \\text{°C} }{ 100.000\\ \\text{k°C} } \\right) ^{ 64 } } \\\\&= 9.654 \\times 10 ^ {-2 }  \\\\\n",
       "\\end{aligned}\n",
       "\\]"
      ],
      "text/plain": [
       "<IPython.core.display.Latex object>"
      ]
     },
     "metadata": {},
     "output_type": "display_data"
    }
   ],
   "source": [
    "k, T1, T2, T8, T64 = material_constants(9)\n",
    "xi_sH_II = material_deterioration(T_max_II,k,T1,T2,T8,T64)"
   ]
  },
  {
   "cell_type": "code",
   "execution_count": null,
   "metadata": {},
   "outputs": [
    {
     "data": {
      "text/latex": [
       "\\[\n",
       "\\begin{aligned}\n",
       "\\xi_{sH_{II}} &= 9.65 \\times 10 ^ {-2 } \\; \n",
       "\\end{aligned}\n",
       "\\]"
      ],
      "text/plain": [
       "<IPython.core.display.Latex object>"
      ]
     },
     "metadata": {},
     "output_type": "display_data"
    }
   ],
   "source": [
    "%%render 2\n",
    "xi_sH_II"
   ]
  },
  {
   "cell_type": "code",
   "execution_count": null,
   "metadata": {},
   "outputs": [
    {
     "data": {
      "text/latex": [
       "\\[\n",
       "\\begin{aligned}\n",
       "\\xi &= k + \\frac{ 1 - k }{ 1 + \\frac{ T }{ \\mathrm{T1} } + \\left( \\frac{ T }{ \\mathrm{T2} } \\right) ^{ 2 } + \\left( \\frac{ T }{ \\mathrm{T8} } \\right) ^{ 8 } + \\left( \\frac{ T }{ \\mathrm{T64} } \\right) ^{ 64 } } \\\\&= 0.2 + \\frac{ 1 - 0.2 }{ 1 + \\frac{ 587.000\\ \\text{°C} }{ 100.000\\ \\text{k°C} } + \\left( \\frac{ 587.000\\ \\text{°C} }{ 950.000\\ \\text{°C} } \\right) ^{ 2 } + \\left( \\frac{ 587.000\\ \\text{°C} }{ 550.000\\ \\text{°C} } \\right) ^{ 8 } + \\left( \\frac{ 587.000\\ \\text{°C} }{ 650.000\\ \\text{°C} } \\right) ^{ 64 } } \\\\&= 4.604 \\times 10 ^ {-1 }  \\\\\n",
       "\\end{aligned}\n",
       "\\]"
      ],
      "text/plain": [
       "<IPython.core.display.Latex object>"
      ]
     },
     "metadata": {},
     "output_type": "display_data"
    }
   ],
   "source": [
    "k, T1, T2, T8, T64 = material_constants(11)\n",
    "xi_sC_II = material_deterioration(T_cold_II,k,T1,T2,T8,T64)"
   ]
  },
  {
   "cell_type": "code",
   "execution_count": null,
   "metadata": {},
   "outputs": [
    {
     "data": {
      "text/latex": [
       "\\[\n",
       "\\begin{aligned}\n",
       "\\xi_{sC_{II}} &= 0.46 \\; \n",
       "\\end{aligned}\n",
       "\\]"
      ],
      "text/plain": [
       "<IPython.core.display.Latex object>"
      ]
     },
     "metadata": {},
     "output_type": "display_data"
    }
   ],
   "source": [
    "%%render 2\n",
    "xi_sC_II"
   ]
  },
  {
   "cell_type": "markdown",
   "metadata": {},
   "source": [
    "For position III\n",
    "\n",
    "<img src = \"Confire-ttIII.png\" width=300>"
   ]
  },
  {
   "cell_type": "code",
   "execution_count": null,
   "metadata": {
    "tags": []
   },
   "outputs": [
    {
     "data": {
      "text/latex": [
       "\\[\n",
       "\\begin{aligned}\n",
       "T_{max_{III}} &= 567.00\\ \\text{°C} \\; \n",
       "\\\\[10pt]\n",
       "T_{cold_{III}} &= 568.00\\ \\text{°C} \\; \n",
       "\\end{aligned}\n",
       "\\]"
      ],
      "text/plain": [
       "<IPython.core.display.Latex object>"
      ]
     },
     "metadata": {},
     "output_type": "display_data"
    }
   ],
   "source": [
    "%%render 2\n",
    "T_max_III = (567*dC)\n",
    "T_cold_III = (568*dC) "
   ]
  },
  {
   "cell_type": "code",
   "execution_count": null,
   "metadata": {},
   "outputs": [
    {
     "data": {
      "text/latex": [
       "\\[\n",
       "\\begin{aligned}\n",
       "\\xi &= k + \\frac{ 1 - k }{ 1 + \\frac{ T }{ \\mathrm{T1} } + \\left( \\frac{ T }{ \\mathrm{T2} } \\right) ^{ 2 } + \\left( \\frac{ T }{ \\mathrm{T8} } \\right) ^{ 8 } + \\left( \\frac{ T }{ \\mathrm{T64} } \\right) ^{ 64 } } \\\\&= 0.0 + \\frac{ 1 - 0.0 }{ 1 + \\frac{ 567.000\\ \\text{°C} }{ 100.000\\ \\text{k°C} } + \\left( \\frac{ 567.000\\ \\text{°C} }{ 490.000\\ \\text{°C} } \\right) ^{ 2 } + \\left( \\frac{ 567.000\\ \\text{°C} }{ 450.000\\ \\text{°C} } \\right) ^{ 8 } + \\left( \\frac{ 567.000\\ \\text{°C} }{ 100.000\\ \\text{k°C} } \\right) ^{ 64 } } \\\\&= 0.115  \\\\\n",
       "\\end{aligned}\n",
       "\\]"
      ],
      "text/plain": [
       "<IPython.core.display.Latex object>"
      ]
     },
     "metadata": {},
     "output_type": "display_data"
    }
   ],
   "source": [
    "k, T1, T2, T8, T64 = material_constants(9)\n",
    "xi_sH_III = material_deterioration(T_max_III,k,T1,T2,T8,T64)"
   ]
  },
  {
   "cell_type": "code",
   "execution_count": null,
   "metadata": {},
   "outputs": [
    {
     "data": {
      "text/latex": [
       "\\[\n",
       "\\begin{aligned}\n",
       "\\xi_{sH_{III}} &= 1.15 \\times 10 ^ {-1 } \\; \n",
       "\\end{aligned}\n",
       "\\]"
      ],
      "text/plain": [
       "<IPython.core.display.Latex object>"
      ]
     },
     "metadata": {},
     "output_type": "display_data"
    }
   ],
   "source": [
    "%%render 2\n",
    "xi_sH_III"
   ]
  },
  {
   "cell_type": "code",
   "execution_count": null,
   "metadata": {},
   "outputs": [
    {
     "data": {
      "text/latex": [
       "\\[\n",
       "\\begin{aligned}\n",
       "\\xi &= k + \\frac{ 1 - k }{ 1 + \\frac{ T }{ \\mathrm{T1} } + \\left( \\frac{ T }{ \\mathrm{T2} } \\right) ^{ 2 } + \\left( \\frac{ T }{ \\mathrm{T8} } \\right) ^{ 8 } + \\left( \\frac{ T }{ \\mathrm{T64} } \\right) ^{ 64 } } \\\\&= 0.2 + \\frac{ 1 - 0.2 }{ 1 + \\frac{ 568.000\\ \\text{°C} }{ 100.000\\ \\text{k°C} } + \\left( \\frac{ 568.000\\ \\text{°C} }{ 950.000\\ \\text{°C} } \\right) ^{ 2 } + \\left( \\frac{ 568.000\\ \\text{°C} }{ 550.000\\ \\text{°C} } \\right) ^{ 8 } + \\left( \\frac{ 568.000\\ \\text{°C} }{ 650.000\\ \\text{°C} } \\right) ^{ 64 } } \\\\&= 5.011 \\times 10 ^ {-1 }  \\\\\n",
       "\\end{aligned}\n",
       "\\]"
      ],
      "text/plain": [
       "<IPython.core.display.Latex object>"
      ]
     },
     "metadata": {},
     "output_type": "display_data"
    }
   ],
   "source": [
    "k, T1, T2, T8, T64 = material_constants(11)\n",
    "xi_sC_III = material_deterioration(T_cold_III,k,T1,T2,T8,T64)"
   ]
  },
  {
   "cell_type": "code",
   "execution_count": null,
   "metadata": {},
   "outputs": [
    {
     "data": {
      "text/latex": [
       "\\[\n",
       "\\begin{aligned}\n",
       "\\xi_{sC_{III}} &= 5.01 \\times 10 ^ {-1 } \\; \n",
       "\\end{aligned}\n",
       "\\]"
      ],
      "text/plain": [
       "<IPython.core.display.Latex object>"
      ]
     },
     "metadata": {},
     "output_type": "display_data"
    }
   ],
   "source": [
    "%%render 2\n",
    "xi_sC_III"
   ]
  },
  {
   "cell_type": "markdown",
   "metadata": {},
   "source": [
    "For position IV\n",
    "\n",
    "<img src = \"Confire-ttIV.png\" width=300>"
   ]
  },
  {
   "cell_type": "code",
   "execution_count": null,
   "metadata": {
    "tags": []
   },
   "outputs": [
    {
     "data": {
      "text/latex": [
       "\\[\n",
       "\\begin{aligned}\n",
       "T_{max_{IV}} &= 555.00\\ \\text{°C} \\; \n",
       "\\\\[10pt]\n",
       "T_{cold_{IV}} &= 559.00\\ \\text{°C} \\; \n",
       "\\end{aligned}\n",
       "\\]"
      ],
      "text/plain": [
       "<IPython.core.display.Latex object>"
      ]
     },
     "metadata": {},
     "output_type": "display_data"
    }
   ],
   "source": [
    "%%render 2\n",
    "T_max_IV = (555*dC)\n",
    "T_cold_IV = (559*dC) "
   ]
  },
  {
   "cell_type": "code",
   "execution_count": null,
   "metadata": {},
   "outputs": [
    {
     "data": {
      "text/latex": [
       "\\[\n",
       "\\begin{aligned}\n",
       "\\xi &= k + \\frac{ 1 - k }{ 1 + \\frac{ T }{ \\mathrm{T1} } + \\left( \\frac{ T }{ \\mathrm{T2} } \\right) ^{ 2 } + \\left( \\frac{ T }{ \\mathrm{T8} } \\right) ^{ 8 } + \\left( \\frac{ T }{ \\mathrm{T64} } \\right) ^{ 64 } } \\\\&= 0.0 + \\frac{ 1 - 0.0 }{ 1 + \\frac{ 555.000\\ \\text{°C} }{ 100.000\\ \\text{k°C} } + \\left( \\frac{ 555.000\\ \\text{°C} }{ 490.000\\ \\text{°C} } \\right) ^{ 2 } + \\left( \\frac{ 555.000\\ \\text{°C} }{ 450.000\\ \\text{°C} } \\right) ^{ 8 } + \\left( \\frac{ 555.000\\ \\text{°C} }{ 100.000\\ \\text{k°C} } \\right) ^{ 64 } } \\\\&= 1.309 \\times 10 ^ {-1 }  \\\\\n",
       "\\end{aligned}\n",
       "\\]"
      ],
      "text/plain": [
       "<IPython.core.display.Latex object>"
      ]
     },
     "metadata": {},
     "output_type": "display_data"
    }
   ],
   "source": [
    "k, T1, T2, T8, T64 = material_constants(9)\n",
    "xi_sH_IV = material_deterioration(T_max_IV,k,T1,T2,T8,T64)"
   ]
  },
  {
   "cell_type": "code",
   "execution_count": null,
   "metadata": {},
   "outputs": [
    {
     "data": {
      "text/latex": [
       "\\[\n",
       "\\begin{aligned}\n",
       "\\xi_{sH_{IV}} &= 1.31 \\times 10 ^ {-1 } \\; \n",
       "\\end{aligned}\n",
       "\\]"
      ],
      "text/plain": [
       "<IPython.core.display.Latex object>"
      ]
     },
     "metadata": {},
     "output_type": "display_data"
    }
   ],
   "source": [
    "%%render 2\n",
    "xi_sH_IV"
   ]
  },
  {
   "cell_type": "code",
   "execution_count": null,
   "metadata": {},
   "outputs": [
    {
     "data": {
      "text/latex": [
       "\\[\n",
       "\\begin{aligned}\n",
       "\\xi &= k + \\frac{ 1 - k }{ 1 + \\frac{ T }{ \\mathrm{T1} } + \\left( \\frac{ T }{ \\mathrm{T2} } \\right) ^{ 2 } + \\left( \\frac{ T }{ \\mathrm{T8} } \\right) ^{ 8 } + \\left( \\frac{ T }{ \\mathrm{T64} } \\right) ^{ 64 } } \\\\&= 0.2 + \\frac{ 1 - 0.2 }{ 1 + \\frac{ 559.000\\ \\text{°C} }{ 100.000\\ \\text{k°C} } + \\left( \\frac{ 559.000\\ \\text{°C} }{ 950.000\\ \\text{°C} } \\right) ^{ 2 } + \\left( \\frac{ 559.000\\ \\text{°C} }{ 550.000\\ \\text{°C} } \\right) ^{ 8 } + \\left( \\frac{ 559.000\\ \\text{°C} }{ 650.000\\ \\text{°C} } \\right) ^{ 64 } } \\\\&= 5.212 \\times 10 ^ {-1 }  \\\\\n",
       "\\end{aligned}\n",
       "\\]"
      ],
      "text/plain": [
       "<IPython.core.display.Latex object>"
      ]
     },
     "metadata": {},
     "output_type": "display_data"
    }
   ],
   "source": [
    "k, T1, T2, T8, T64 = material_constants(11)\n",
    "xi_sC_IV = material_deterioration(T_cold_IV,k,T1,T2,T8,T64)"
   ]
  },
  {
   "cell_type": "code",
   "execution_count": null,
   "metadata": {},
   "outputs": [
    {
     "data": {
      "text/latex": [
       "\\[\n",
       "\\begin{aligned}\n",
       "\\xi_{sC_{IV}} &= 5.21 \\times 10 ^ {-1 } \\; \n",
       "\\end{aligned}\n",
       "\\]"
      ],
      "text/plain": [
       "<IPython.core.display.Latex object>"
      ]
     },
     "metadata": {},
     "output_type": "display_data"
    }
   ],
   "source": [
    "%%render 2\n",
    "xi_sC_IV"
   ]
  },
  {
   "cell_type": "markdown",
   "metadata": {},
   "source": [
    "For position V\n",
    "\n",
    "<img src = \"Confire-ttV.png\" width=300>"
   ]
  },
  {
   "cell_type": "code",
   "execution_count": null,
   "metadata": {
    "tags": []
   },
   "outputs": [
    {
     "data": {
      "text/latex": [
       "\\[\n",
       "\\begin{aligned}\n",
       "T_{max_{V}} &= 555.00\\ \\text{°C} \\; \n",
       "\\\\[10pt]\n",
       "T_{cold_{V}} &= 562.00\\ \\text{°C} \\; \n",
       "\\end{aligned}\n",
       "\\]"
      ],
      "text/plain": [
       "<IPython.core.display.Latex object>"
      ]
     },
     "metadata": {},
     "output_type": "display_data"
    }
   ],
   "source": [
    "%%render 2\n",
    "T_max_V = (555*dC)\n",
    "T_cold_V = (562*dC) "
   ]
  },
  {
   "cell_type": "code",
   "execution_count": null,
   "metadata": {},
   "outputs": [
    {
     "data": {
      "text/latex": [
       "\\[\n",
       "\\begin{aligned}\n",
       "\\xi &= k + \\frac{ 1 - k }{ 1 + \\frac{ T }{ \\mathrm{T1} } + \\left( \\frac{ T }{ \\mathrm{T2} } \\right) ^{ 2 } + \\left( \\frac{ T }{ \\mathrm{T8} } \\right) ^{ 8 } + \\left( \\frac{ T }{ \\mathrm{T64} } \\right) ^{ 64 } } \\\\&= 0.0 + \\frac{ 1 - 0.0 }{ 1 + \\frac{ 555.000\\ \\text{°C} }{ 100.000\\ \\text{k°C} } + \\left( \\frac{ 555.000\\ \\text{°C} }{ 490.000\\ \\text{°C} } \\right) ^{ 2 } + \\left( \\frac{ 555.000\\ \\text{°C} }{ 450.000\\ \\text{°C} } \\right) ^{ 8 } + \\left( \\frac{ 555.000\\ \\text{°C} }{ 100.000\\ \\text{k°C} } \\right) ^{ 64 } } \\\\&= 1.309 \\times 10 ^ {-1 }  \\\\\n",
       "\\end{aligned}\n",
       "\\]"
      ],
      "text/plain": [
       "<IPython.core.display.Latex object>"
      ]
     },
     "metadata": {},
     "output_type": "display_data"
    }
   ],
   "source": [
    "k, T1, T2, T8, T64 = material_constants(9)\n",
    "xi_sH_V = material_deterioration(T_max_V,k,T1,T2,T8,T64)"
   ]
  },
  {
   "cell_type": "code",
   "execution_count": null,
   "metadata": {},
   "outputs": [
    {
     "data": {
      "text/latex": [
       "\\[\n",
       "\\begin{aligned}\n",
       "\\xi_{sH_{V}} &= 1.31 \\times 10 ^ {-1 } \\; \n",
       "\\end{aligned}\n",
       "\\]"
      ],
      "text/plain": [
       "<IPython.core.display.Latex object>"
      ]
     },
     "metadata": {},
     "output_type": "display_data"
    }
   ],
   "source": [
    "%%render 2\n",
    "xi_sH_V"
   ]
  },
  {
   "cell_type": "code",
   "execution_count": null,
   "metadata": {},
   "outputs": [
    {
     "data": {
      "text/latex": [
       "\\[\n",
       "\\begin{aligned}\n",
       "\\xi &= k + \\frac{ 1 - k }{ 1 + \\frac{ T }{ \\mathrm{T1} } + \\left( \\frac{ T }{ \\mathrm{T2} } \\right) ^{ 2 } + \\left( \\frac{ T }{ \\mathrm{T8} } \\right) ^{ 8 } + \\left( \\frac{ T }{ \\mathrm{T64} } \\right) ^{ 64 } } \\\\&= 0.2 + \\frac{ 1 - 0.2 }{ 1 + \\frac{ 562.000\\ \\text{°C} }{ 100.000\\ \\text{k°C} } + \\left( \\frac{ 562.000\\ \\text{°C} }{ 950.000\\ \\text{°C} } \\right) ^{ 2 } + \\left( \\frac{ 562.000\\ \\text{°C} }{ 550.000\\ \\text{°C} } \\right) ^{ 8 } + \\left( \\frac{ 562.000\\ \\text{°C} }{ 650.000\\ \\text{°C} } \\right) ^{ 64 } } \\\\&= 5.144 \\times 10 ^ {-1 }  \\\\\n",
       "\\end{aligned}\n",
       "\\]"
      ],
      "text/plain": [
       "<IPython.core.display.Latex object>"
      ]
     },
     "metadata": {},
     "output_type": "display_data"
    }
   ],
   "source": [
    "k, T1, T2, T8, T64 = material_constants(11)\n",
    "xi_sC_V = material_deterioration(T_cold_V,k,T1,T2,T8,T64)"
   ]
  },
  {
   "cell_type": "code",
   "execution_count": null,
   "metadata": {},
   "outputs": [
    {
     "data": {
      "text/latex": [
       "\\[\n",
       "\\begin{aligned}\n",
       "\\xi_{sC_{V}} &= 5.14 \\times 10 ^ {-1 } \\; \n",
       "\\end{aligned}\n",
       "\\]"
      ],
      "text/plain": [
       "<IPython.core.display.Latex object>"
      ]
     },
     "metadata": {},
     "output_type": "display_data"
    }
   ],
   "source": [
    "%%render 2\n",
    "xi_sC_V"
   ]
  },
  {
   "cell_type": "markdown",
   "metadata": {},
   "source": [
    "For position VI\n",
    "\n",
    "<img src = \"Confire-ttVI.png\" width=300>"
   ]
  },
  {
   "cell_type": "code",
   "execution_count": null,
   "metadata": {
    "tags": []
   },
   "outputs": [
    {
     "data": {
      "text/latex": [
       "\\[\n",
       "\\begin{aligned}\n",
       "T_{max_{VI}} &= 540.00\\ \\text{°C} \\; \n",
       "\\\\[10pt]\n",
       "T_{cold_{VI}} &= 556.00\\ \\text{°C} \\; \n",
       "\\end{aligned}\n",
       "\\]"
      ],
      "text/plain": [
       "<IPython.core.display.Latex object>"
      ]
     },
     "metadata": {},
     "output_type": "display_data"
    }
   ],
   "source": [
    "%%render 2\n",
    "T_max_VI = (540*dC)\n",
    "T_cold_VI = (556*dC) "
   ]
  },
  {
   "cell_type": "code",
   "execution_count": null,
   "metadata": {},
   "outputs": [
    {
     "data": {
      "text/latex": [
       "\\[\n",
       "\\begin{aligned}\n",
       "\\xi &= k + \\frac{ 1 - k }{ 1 + \\frac{ T }{ \\mathrm{T1} } + \\left( \\frac{ T }{ \\mathrm{T2} } \\right) ^{ 2 } + \\left( \\frac{ T }{ \\mathrm{T8} } \\right) ^{ 8 } + \\left( \\frac{ T }{ \\mathrm{T64} } \\right) ^{ 64 } } \\\\&= 0.0 + \\frac{ 1 - 0.0 }{ 1 + \\frac{ 540.000\\ \\text{°C} }{ 100.000\\ \\text{k°C} } + \\left( \\frac{ 540.000\\ \\text{°C} }{ 490.000\\ \\text{°C} } \\right) ^{ 2 } + \\left( \\frac{ 540.000\\ \\text{°C} }{ 450.000\\ \\text{°C} } \\right) ^{ 8 } + \\left( \\frac{ 540.000\\ \\text{°C} }{ 100.000\\ \\text{k°C} } \\right) ^{ 64 } } \\\\&= 1.534 \\times 10 ^ {-1 }  \\\\\n",
       "\\end{aligned}\n",
       "\\]"
      ],
      "text/plain": [
       "<IPython.core.display.Latex object>"
      ]
     },
     "metadata": {},
     "output_type": "display_data"
    }
   ],
   "source": [
    "k, T1, T2, T8, T64 = material_constants(9)\n",
    "xi_sH_VI = material_deterioration(T_max_VI,k,T1,T2,T8,T64)"
   ]
  },
  {
   "cell_type": "code",
   "execution_count": null,
   "metadata": {},
   "outputs": [
    {
     "data": {
      "text/latex": [
       "\\[\n",
       "\\begin{aligned}\n",
       "\\xi_{sH_{VI}} &= 1.53 \\times 10 ^ {-1 } \\; \n",
       "\\end{aligned}\n",
       "\\]"
      ],
      "text/plain": [
       "<IPython.core.display.Latex object>"
      ]
     },
     "metadata": {},
     "output_type": "display_data"
    }
   ],
   "source": [
    "%%render 2\n",
    "xi_sH_VI"
   ]
  },
  {
   "cell_type": "code",
   "execution_count": null,
   "metadata": {},
   "outputs": [
    {
     "data": {
      "text/latex": [
       "\\[\n",
       "\\begin{aligned}\n",
       "\\xi &= k + \\frac{ 1 - k }{ 1 + \\frac{ T }{ \\mathrm{T1} } + \\left( \\frac{ T }{ \\mathrm{T2} } \\right) ^{ 2 } + \\left( \\frac{ T }{ \\mathrm{T8} } \\right) ^{ 8 } + \\left( \\frac{ T }{ \\mathrm{T64} } \\right) ^{ 64 } } \\\\&= 0.2 + \\frac{ 1 - 0.2 }{ 1 + \\frac{ 556.000\\ \\text{°C} }{ 100.000\\ \\text{k°C} } + \\left( \\frac{ 556.000\\ \\text{°C} }{ 950.000\\ \\text{°C} } \\right) ^{ 2 } + \\left( \\frac{ 556.000\\ \\text{°C} }{ 550.000\\ \\text{°C} } \\right) ^{ 8 } + \\left( \\frac{ 556.000\\ \\text{°C} }{ 650.000\\ \\text{°C} } \\right) ^{ 64 } } \\\\&= 0.528  \\\\\n",
       "\\end{aligned}\n",
       "\\]"
      ],
      "text/plain": [
       "<IPython.core.display.Latex object>"
      ]
     },
     "metadata": {},
     "output_type": "display_data"
    }
   ],
   "source": [
    "k, T1, T2, T8, T64 = material_constants(11)\n",
    "xi_sC_VI = material_deterioration(T_cold_VI,k,T1,T2,T8,T64)"
   ]
  },
  {
   "cell_type": "code",
   "execution_count": null,
   "metadata": {},
   "outputs": [
    {
     "data": {
      "text/latex": [
       "\\[\n",
       "\\begin{aligned}\n",
       "\\xi_{sC_{VI}} &= 5.28 \\times 10 ^ {-1 } \\; \n",
       "\\end{aligned}\n",
       "\\]"
      ],
      "text/plain": [
       "<IPython.core.display.Latex object>"
      ]
     },
     "metadata": {},
     "output_type": "display_data"
    }
   ],
   "source": [
    "%%render 2\n",
    "xi_sC_VI"
   ]
  },
  {
   "cell_type": "markdown",
   "metadata": {},
   "source": [
    "**Before fire**"
   ]
  },
  {
   "cell_type": "markdown",
   "metadata": {},
   "source": [
    "Using effective prestress strength per wire = 110 kN, provided by the supplier"
   ]
  },
  {
   "cell_type": "code",
   "execution_count": null,
   "metadata": {},
   "outputs": [
    {
     "name": "stdout",
     "output_type": "stream",
     "text": [
      "\\[\n",
      "\\begin{aligned}\n",
      "M_{max_{ALS}} &= q_{d} \\cdot \\frac{ \\left( L \\right) ^{ 2 } }{ 8 } \\cdot b_{flange} \\; \n",
      "\\\\[10pt]\n",
      "F_{su20} &= \\left( 110 \\cdot \\mathrm{kN} \\right) \\; \n",
      "\\\\[10pt]\n",
      "y_{20} &= 18 \\cdot \\frac{ F_{su20} }{ \\mathrm{fck}_{20} \\cdot b_{flange} } \\; \n",
      "\\end{aligned}\n",
      "\\]\n"
     ]
    }
   ],
   "source": [
    "%%tex symbolic\n",
    "\n",
    "M_max_ALS = q_d*L**2/8*b_flange\n",
    "F_su20 = (110*kN)\n",
    "y_20 = 18*F_su20/(fck_20*b_flange)\n",
    "\n"
   ]
  },
  {
   "cell_type": "code",
   "execution_count": null,
   "metadata": {
    "tags": []
   },
   "outputs": [
    {
     "data": {
      "text/markdown": [
       "Compression zone in the flange"
      ],
      "text/plain": [
       "<IPython.core.display.Markdown object>"
      ]
     },
     "metadata": {},
     "output_type": "display_data"
    }
   ],
   "source": [
    "if y_20<h_flange:\n",
    "    display(Markdown('Compression zone in the flange'))\n",
    "else:\n",
    "    display(Markdown('Compression zone higher than flange, web must also be applied'))"
   ]
  },
  {
   "cell_type": "code",
   "execution_count": null,
   "metadata": {
    "tags": []
   },
   "outputs": [
    {
     "data": {
      "text/latex": [
       "\\[\n",
       "\\begin{aligned}\n",
       "F_{1} &= 6 \\cdot F_{su20} \\\\&= 6 \\cdot 110.00\\ \\text{kN} \\\\&= 660.00\\ \\text{kN}  \\\\\n",
       "\\\\[10pt]\n",
       "F_{2} &= 6 \\cdot F_{su20} \\\\&= 6 \\cdot 110.00\\ \\text{kN} \\\\&= 660.00\\ \\text{kN}  \\\\\n",
       "\\\\[10pt]\n",
       "F_{3} &= 6 \\cdot F_{su20} \\\\&= 6 \\cdot 110.00\\ \\text{kN} \\\\&= 660.00\\ \\text{kN}  \\\\\n",
       "\\\\[10pt]\n",
       "M_{u20} &= F_{1} \\cdot \\left( d_{1} - \\frac{ y_{20} }{ 2 } \\right) + F_{2} \\cdot \\left( d_{2} - \\frac{ y_{20} }{ 2 } \\right) + F_{3} \\cdot \\left( d_{3} - \\frac{ y_{20} }{ 2 } \\right) \\\\&= 660.00\\ \\text{kN} \\cdot \\left( 450.00\\ \\text{mm} - \\frac{ 18.33\\ \\text{mm} }{ 2 } \\right) + 660.00\\ \\text{kN} \\cdot \\left( 400.00\\ \\text{mm} - \\frac{ 18.33\\ \\text{mm} }{ 2 } \\right) + 660.00\\ \\text{kN} \\cdot \\left( 350.00\\ \\text{mm} - \\frac{ 18.33\\ \\text{mm} }{ 2 } \\right) \\\\&= 773.85\\ \\text{kN} \\cdot \\text{m}  \\\\\n",
       "\\end{aligned}\n",
       "\\]"
      ],
      "text/plain": [
       "<IPython.core.display.Latex object>"
      ]
     },
     "metadata": {},
     "output_type": "display_data"
    }
   ],
   "source": [
    "%%render long 2\n",
    "F_1 = 6*F_su20\n",
    "F_2 = 6*F_su20\n",
    "F_3 = 6*F_su20\n",
    "M_u20 = F_1*(d_1-y_20/2)+F_2*(d_2-y_20/2)+F_3*(d_3-y_20/2)"
   ]
  },
  {
   "cell_type": "code",
   "execution_count": null,
   "metadata": {},
   "outputs": [
    {
     "data": {
      "text/latex": [
       "\\[\n",
       "\\begin{aligned}\n",
       "\\mu_{20} &= \\frac{ M_{max_{ALS}} }{ M_{u20} }  = \\frac{ 591.60\\ \\text{kN} \\cdot \\text{m} }{ 773.85\\ \\text{kN} \\cdot \\text{m} } &= 7.64 \\times 10 ^ {-1 }  \n",
       "\\end{aligned}\n",
       "\\]"
      ],
      "text/plain": [
       "<IPython.core.display.Latex object>"
      ]
     },
     "metadata": {},
     "output_type": "display_data"
    }
   ],
   "source": [
    "%%render 2\n",
    "mu_20 = M_max_ALS/M_u20"
   ]
  },
  {
   "cell_type": "markdown",
   "metadata": {},
   "source": [
    "**HOT - During fire**"
   ]
  },
  {
   "cell_type": "code",
   "execution_count": null,
   "metadata": {},
   "outputs": [
    {
     "data": {
      "text/latex": [
       "\\[\n",
       "\\begin{aligned}\n",
       "F_{suH} &= \\left( 4 \\cdot \\xi_{sH_{I}} + 2 \\cdot \\xi_{sH_{II}} + 4 \\cdot \\xi_{sH_{III}} + 2 \\cdot \\xi_{sH_{IV}} + 4 \\cdot \\xi_{sH_{V}} + 2 \\cdot \\xi_{sH_{VI}} \\right) \\cdot F_{su20} \\\\&= \\left( 4 \\cdot 8.84 \\times 10 ^ {-2 } + 2 \\cdot 9.65 \\times 10 ^ {-2 } + 4 \\cdot 1.15 \\times 10 ^ {-1 } + 2 \\cdot 1.31 \\times 10 ^ {-1 } + 4 \\cdot 1.31 \\times 10 ^ {-1 } + 2 \\cdot 1.53 \\times 10 ^ {-1 } \\right) \\cdot 110.00\\ \\text{kN} \\\\&= 230.83\\ \\text{kN}  \\\\\n",
       "\\\\[10pt]\n",
       "F_{H1} &= \\left( 4 \\cdot \\xi_{sH_{I}} + 2 \\cdot \\xi_{sH_{II}} \\right) \\cdot F_{su20} \\\\&= \\left( 4 \\cdot 8.84 \\times 10 ^ {-2 } + 2 \\cdot 9.65 \\times 10 ^ {-2 } \\right) \\cdot 110.00\\ \\text{kN} \\\\&= 60.14\\ \\text{kN}  \\\\\n",
       "\\\\[10pt]\n",
       "F_{H2} &= \\left( 4 \\cdot \\xi_{sH_{III}} + 2 \\cdot \\xi_{sH_{IV}} \\right) \\cdot F_{su20} \\\\&= \\left( 4 \\cdot 1.15 \\times 10 ^ {-1 } + 2 \\cdot 1.31 \\times 10 ^ {-1 } \\right) \\cdot 110.00\\ \\text{kN} \\\\&= 79.38\\ \\text{kN}  \\\\\n",
       "\\\\[10pt]\n",
       "F_{H3} &= \\left( 4 \\cdot \\xi_{sH_{V}} + 2 \\cdot \\xi_{sH_{VI}} \\right) \\cdot F_{su20} \\\\&= \\left( 4 \\cdot 1.31 \\times 10 ^ {-1 } + 2 \\cdot 1.53 \\times 10 ^ {-1 } \\right) \\cdot 110.00\\ \\text{kN} \\\\&= 91.32\\ \\text{kN}  \\\\\n",
       "\\end{aligned}\n",
       "\\]"
      ],
      "text/plain": [
       "<IPython.core.display.Latex object>"
      ]
     },
     "metadata": {},
     "output_type": "display_data"
    }
   ],
   "source": [
    "%%render long 2\n",
    "\n",
    "F_suH = (4*xi_sH_I+2*xi_sH_II+4*xi_sH_III+2*xi_sH_IV+4*xi_sH_V+2*xi_sH_VI)*F_su20\n",
    "F_H1 = (4*xi_sH_I+ 2*xi_sH_II)*F_su20\n",
    "F_H2 = (4*xi_sH_III+2*xi_sH_IV)*F_su20\n",
    "F_H3 = (4*xi_sH_V+2*xi_sH_VI)*F_su20\n"
   ]
  },
  {
   "cell_type": "code",
   "execution_count": null,
   "metadata": {},
   "outputs": [
    {
     "data": {
      "text/latex": [
       "\\[\n",
       "\\begin{aligned}\n",
       "y_{H} &= \\frac{ F_{suH} }{ \\xi_{CMH} \\cdot \\mathrm{fck}_{20} \\cdot b_{flange} } \\\\&= \\frac{ 230.83\\ \\text{kN} }{ 4.99 \\times 10 ^ {-1 } \\cdot 45.00\\ \\text{MPa} \\cdot 2.40\\ \\text{m} } \\\\&= 4.28\\ \\text{mm}  \\\\\n",
       "\\\\[10pt]\n",
       "M_{u_{H}} &= F_{H1} \\cdot \\left( d_{1} - \\frac{ y_{H} }{ 2 } \\right) + F_{H2} \\cdot \\left( d_{2} - \\frac{ y_{H} }{ 2 } \\right) + F_{H3} \\cdot \\left( d_{3} - \\frac{ y_{H} }{ 2 } \\right) \\\\&= 60.14\\ \\text{kN} \\cdot \\left( 450.00\\ \\text{mm} - \\frac{ 4.28\\ \\text{mm} }{ 2 } \\right) + 79.38\\ \\text{kN} \\cdot \\left( 400.00\\ \\text{mm} - \\frac{ 4.28\\ \\text{mm} }{ 2 } \\right) + 91.32\\ \\text{kN} \\cdot \\left( 350.00\\ \\text{mm} - \\frac{ 4.28\\ \\text{mm} }{ 2 } \\right) \\\\&= 90.28\\ \\text{kN} \\cdot \\text{m}  \\\\\n",
       "\\\\[10pt]\n",
       "\\mu_{H} &= \\frac{ M_{max_{ALS}} }{ M_{u_{H}} } \\\\&= \\frac{ 591.60\\ \\text{kN} \\cdot \\text{m} }{ 90.28\\ \\text{kN} \\cdot \\text{m} } \\\\&= 6.55  \\\\\n",
       "\\end{aligned}\n",
       "\\]"
      ],
      "text/plain": [
       "<IPython.core.display.Latex object>"
      ]
     },
     "metadata": {},
     "output_type": "display_data"
    }
   ],
   "source": [
    "%%render long 2\n",
    "y_H = F_suH/(xi_CMH*fck_20*b_flange)\n",
    "M_u_H = F_H1*(d_1-y_H/2)+F_H2*(d_2-y_H/2)+F_H3*(d_3-y_H/2)\n",
    "mu_H = M_max_ALS/M_u_H"
   ]
  },
  {
   "cell_type": "markdown",
   "metadata": {},
   "source": [
    "**COLD - After fire**"
   ]
  },
  {
   "cell_type": "code",
   "execution_count": null,
   "metadata": {},
   "outputs": [
    {
     "data": {
      "text/latex": [
       "\\[\n",
       "\\begin{aligned}\n",
       "F_{suC} &= \\left( 4 \\cdot \\xi_{sC_{I}} + 2 \\cdot \\xi_{sC_{II}} + 4 \\cdot \\xi_{sC_{III}} + 2 \\cdot \\xi_{sC_{IV}} + 4 \\cdot \\xi_{sC_{V}} + 2 \\cdot \\xi_{sC_{VI}} \\right) \\cdot F_{su20} \\\\&= \\left( 4 \\cdot 4.38 \\times 10 ^ {-1 } + 2 \\cdot 0.46 + 4 \\cdot 5.01 \\times 10 ^ {-1 } + 2 \\cdot 5.21 \\times 10 ^ {-1 } + 4 \\cdot 5.14 \\times 10 ^ {-1 } + 2 \\cdot 5.28 \\times 10 ^ {-1 } \\right) \\cdot 110.00\\ \\text{kN} \\\\&= 971.70\\ \\text{kN}  \\\\\n",
       "\\\\[10pt]\n",
       "y_{C} &= \\frac{ F_{suC} }{ \\xi_{CMC} \\cdot \\mathrm{fck}_{20} \\cdot b_{flange} } \\\\&= \\frac{ 971.70\\ \\text{kN} }{ 8.19 \\times 10 ^ {-2 } \\cdot 45.00\\ \\text{MPa} \\cdot 2.40\\ \\text{m} } \\\\&= 109.86\\ \\text{mm}  \\\\\n",
       "\\end{aligned}\n",
       "\\]"
      ],
      "text/plain": [
       "<IPython.core.display.Latex object>"
      ]
     },
     "metadata": {},
     "output_type": "display_data"
    }
   ],
   "source": [
    "%%render long 2\n",
    "\n",
    "F_suC = (4*xi_sC_I+2*xi_sC_II+4*xi_sC_III+2*xi_sC_IV+4*xi_sC_V+2*xi_sC_VI)*F_su20\n",
    "y_C = F_suC/(xi_CMC*fck_20*b_flange)"
   ]
  },
  {
   "cell_type": "code",
   "execution_count": null,
   "metadata": {},
   "outputs": [
    {
     "data": {
      "text/markdown": [
       "Compression zone higher than flange, web must also be applied"
      ],
      "text/plain": [
       "<IPython.core.display.Markdown object>"
      ]
     },
     "metadata": {},
     "output_type": "display_data"
    }
   ],
   "source": [
    "if y_C<h_flange:\n",
    "    display(Markdown('Compression zone in the flange'))\n",
    "else:\n",
    "    display(Markdown('Compression zone higher than flange, web must also be applied'))"
   ]
  },
  {
   "cell_type": "code",
   "execution_count": null,
   "metadata": {},
   "outputs": [
    {
     "data": {
      "text/latex": [
       "\\[\n",
       "\\begin{aligned}\n",
       "y_{C} &= \\frac{ \\frac{ F_{suC} }{ \\xi_{CMC} \\cdot \\mathrm{fck}_{20} } - b_{flange} \\cdot h_{flange} }{ 2 \\cdot b_{w} }  = \\frac{ \\frac{ 1.88\\ \\text{MN} }{ 0.83 \\cdot 45.00\\ \\text{MPa} } - 2.40\\ \\text{m} \\cdot 60.00\\ \\text{mm} }{ 2 \\cdot 160.00\\ \\text{mm} } &= -292.63\\ \\text{mm}  \n",
       "\\end{aligned}\n",
       "\\]"
      ],
      "text/plain": [
       "<IPython.core.display.Latex object>"
      ]
     },
     "metadata": {},
     "output_type": "display_data"
    }
   ],
   "source": [
    "%%render 2\n",
    "y_C = (F_suC/(xi_CMC*fck_20)-b_flange*h_flange)/(2*b_w)"
   ]
  },
  {
   "cell_type": "code",
   "execution_count": null,
   "metadata": {},
   "outputs": [
    {
     "data": {
      "text/latex": [
       "\\[\n",
       "\\begin{aligned}\n",
       "F_{C1} &= \\left( 4 \\cdot \\xi_{sC_{I}} + 2 \\cdot \\xi_{sC_{II}} \\right) \\cdot F_{su20} \\\\&= \\left( 4 \\cdot 4.38 \\times 10 ^ {-1 } + 2 \\cdot 0.46 \\right) \\cdot 110.00\\ \\text{kN} \\\\&= 294.04\\ \\text{kN}  \\\\\n",
       "\\\\[10pt]\n",
       "F_{C2} &= \\left( 4 \\cdot \\xi_{sC_{III}} + 2 \\cdot \\xi_{sC_{IV}} \\right) \\cdot F_{su20} \\\\&= \\left( 4 \\cdot 5.01 \\times 10 ^ {-1 } + 2 \\cdot 5.21 \\times 10 ^ {-1 } \\right) \\cdot 110.00\\ \\text{kN} \\\\&= 335.14\\ \\text{kN}  \\\\\n",
       "\\\\[10pt]\n",
       "F_{C3} &= \\left( 4 \\cdot \\xi_{sC_{V}} + 2 \\cdot \\xi_{sC_{VI}} \\right) \\cdot F_{su20} \\\\&= \\left( 4 \\cdot 5.14 \\times 10 ^ {-1 } + 2 \\cdot 5.28 \\times 10 ^ {-1 } \\right) \\cdot 110.00\\ \\text{kN} \\\\&= 342.52\\ \\text{kN}  \\\\\n",
       "\\\\[10pt]\n",
       "M_{u_{C}} &= F_{C1} \\cdot \\left( d_{1} - \\frac{ y_{C} }{ 2 } \\right) + F_{C2} \\cdot \\left( d_{2} - \\frac{ y_{C} }{ 2 } \\right) + F_{C3} \\cdot \\left( d_{3} - \\frac{ y_{C} }{ 2 } \\right) \\\\&= 294.04\\ \\text{kN} \\cdot \\left( 450.00\\ \\text{mm} - \\frac{ 373.92\\ \\text{mm} }{ 2 } \\right) + 335.14\\ \\text{kN} \\cdot \\left( 400.00\\ \\text{mm} - \\frac{ 373.92\\ \\text{mm} }{ 2 } \\right) + 342.52\\ \\text{kN} \\cdot \\left( 350.00\\ \\text{mm} - \\frac{ 373.92\\ \\text{mm} }{ 2 } \\right) \\\\&= 204.59\\ \\text{kN} \\cdot \\text{m}  \\\\\n",
       "\\end{aligned}\n",
       "\\]"
      ],
      "text/plain": [
       "<IPython.core.display.Latex object>"
      ]
     },
     "metadata": {},
     "output_type": "display_data"
    }
   ],
   "source": [
    "%%render long 2\n",
    "F_C1 = (4*xi_sC_I+ 2*xi_sC_II)*F_su20\n",
    "F_C2 = (4*xi_sC_III+2*xi_sC_IV)*F_su20\n",
    "F_C3 = (4*xi_sC_V+2*xi_sC_VI)*F_su20\n",
    "M_u_C = F_C1*(d_1-y_C/2)+F_C2*(d_2-y_C/2)+F_C3*(d_3-y_C/2)"
   ]
  },
  {
   "cell_type": "code",
   "execution_count": null,
   "metadata": {},
   "outputs": [
    {
     "data": {
      "text/latex": [
       "\\[\n",
       "\\begin{aligned}\n",
       "\\mu_{C} &= \\frac{ M_{max_{ALS}} }{ M_{u_{C}} }  = \\frac{ 591.60\\ \\text{kN} \\cdot \\text{m} }{ 204.59\\ \\text{kN} \\cdot \\text{m} } &= 2.89  \n",
       "\\end{aligned}\n",
       "\\]"
      ],
      "text/plain": [
       "<IPython.core.display.Latex object>"
      ]
     },
     "metadata": {},
     "output_type": "display_data"
    }
   ],
   "source": [
    "%%render 2\n",
    "mu_C = M_max_ALS/M_u_C"
   ]
  },
  {
   "cell_type": "code",
   "execution_count": null,
   "metadata": {},
   "outputs": [
    {
     "data": {
      "text/markdown": [
       "The slab is not verified for fire"
      ],
      "text/plain": [
       "<IPython.core.display.Markdown object>"
      ]
     },
     "metadata": {},
     "output_type": "display_data"
    }
   ],
   "source": [
    "if mu_C and mu_H<1:\n",
    "    display(Markdown('The slab is verified for fire'))\n",
    "else:\n",
    "    display(Markdown('The slab is not verified for fire'))"
   ]
  },
  {
   "cell_type": "markdown",
   "metadata": {},
   "source": [
    "A sprayed mineral wool is then added to insulate the slab and reduce the steel temperatures.\n",
    "\n",
    "Following the same procedure, the Confire temperatures are now:"
   ]
  },
  {
   "cell_type": "code",
   "execution_count": null,
   "metadata": {},
   "outputs": [
    {
     "data": {
      "text/html": [
       "<div>\n",
       "<style scoped>\n",
       "    .dataframe tbody tr th:only-of-type {\n",
       "        vertical-align: middle;\n",
       "    }\n",
       "\n",
       "    .dataframe tbody tr th {\n",
       "        vertical-align: top;\n",
       "    }\n",
       "\n",
       "    .dataframe thead th {\n",
       "        text-align: right;\n",
       "    }\n",
       "</style>\n",
       "<table border=\"1\" class=\"dataframe\">\n",
       "  <thead>\n",
       "    <tr style=\"text-align: right;\">\n",
       "      <th></th>\n",
       "      <th>THOT(x,y)</th>\n",
       "      <th>TCOLD(x,y)</th>\n",
       "      <th>xi_sH</th>\n",
       "      <th>xi_sC</th>\n",
       "    </tr>\n",
       "    <tr>\n",
       "      <th>Position</th>\n",
       "      <th></th>\n",
       "      <th></th>\n",
       "      <th></th>\n",
       "      <th></th>\n",
       "    </tr>\n",
       "  </thead>\n",
       "  <tbody>\n",
       "    <tr>\n",
       "      <th>I</th>\n",
       "      <td>241</td>\n",
       "      <td>241</td>\n",
       "      <td>0.7994</td>\n",
       "      <td>0.9488</td>\n",
       "    </tr>\n",
       "    <tr>\n",
       "      <th>II</th>\n",
       "      <td>240</td>\n",
       "      <td>240</td>\n",
       "      <td>0.8004</td>\n",
       "      <td>0.9492</td>\n",
       "    </tr>\n",
       "    <tr>\n",
       "      <th>III</th>\n",
       "      <td>240</td>\n",
       "      <td>240</td>\n",
       "      <td>0.8009</td>\n",
       "      <td>0.9494</td>\n",
       "    </tr>\n",
       "    <tr>\n",
       "      <th>IV</th>\n",
       "      <td>239</td>\n",
       "      <td>239</td>\n",
       "      <td>0.8022</td>\n",
       "      <td>0.9497</td>\n",
       "    </tr>\n",
       "    <tr>\n",
       "      <th>V</th>\n",
       "      <td>239</td>\n",
       "      <td>239</td>\n",
       "      <td>0.8021</td>\n",
       "      <td>0.9496</td>\n",
       "    </tr>\n",
       "    <tr>\n",
       "      <th>VI</th>\n",
       "      <td>238</td>\n",
       "      <td>239</td>\n",
       "      <td>0.8037</td>\n",
       "      <td>0.9498</td>\n",
       "    </tr>\n",
       "  </tbody>\n",
       "</table>\n",
       "</div>"
      ],
      "text/plain": [
       "          THOT(x,y)  TCOLD(x,y)   xi_sH   xi_sC\n",
       "Position                                       \n",
       "I               241         241  0.7994  0.9488\n",
       "II              240         240  0.8004  0.9492\n",
       "III             240         240  0.8009  0.9494\n",
       "IV              239         239  0.8022  0.9497\n",
       "V               239         239  0.8021  0.9496\n",
       "VI              238         239  0.8037  0.9498"
      ]
     },
     "execution_count": 51,
     "metadata": {},
     "output_type": "execute_result"
    }
   ],
   "source": [
    "tp = pd.read_excel(\"confire-tt.xlsx\" , sheet_name = \"temp\")\n",
    "tp = tp.set_index(\"Position\")\n",
    "tp"
   ]
  },
  {
   "cell_type": "code",
   "execution_count": null,
   "metadata": {},
   "outputs": [],
   "source": [
    "#for each xi_sH create a variable with the name of the xi_sH_index and the value of the xi_sH\n",
    "for i in tp.index:\n",
    "    exec(\"xi_sH_\"+str(i)+\" = tp.loc[i,'xi_sH']\")\n",
    "\n",
    "for i in tp.index:\n",
    "    exec(\"xi_sC_\"+str(i)+\" = tp.loc[i,'xi_sC']\")\n",
    "\n"
   ]
  },
  {
   "cell_type": "markdown",
   "metadata": {},
   "source": [
    "And the concrete reduction factors:"
   ]
  },
  {
   "cell_type": "markdown",
   "metadata": {},
   "source": [
    "<img src = \"Confire-tt-fl-ins.png\" width=300>"
   ]
  },
  {
   "cell_type": "code",
   "execution_count": null,
   "metadata": {},
   "outputs": [
    {
     "data": {
      "text/latex": [
       "\\[\n",
       "\\begin{aligned}\n",
       "\\xi_{CMH} &= 9.22 \\times 10 ^ {-1 } \\; \n",
       "\\\\[10pt]\n",
       "\\xi_{CMC} &= 0.83 \\; \n",
       "\\end{aligned}\n",
       "\\]"
      ],
      "text/plain": [
       "<IPython.core.display.Latex object>"
      ]
     },
     "metadata": {},
     "output_type": "display_data"
    }
   ],
   "source": [
    "%%render 2\n",
    "xi_CMH = 0.9224\n",
    "xi_CMC = 0.8295"
   ]
  },
  {
   "cell_type": "markdown",
   "metadata": {},
   "source": [
    "**HOT - During fire**"
   ]
  },
  {
   "cell_type": "code",
   "execution_count": null,
   "metadata": {},
   "outputs": [
    {
     "data": {
      "text/latex": [
       "\\[\n",
       "\\begin{aligned}\n",
       "F_{suH} &= \\left( 4 \\cdot \\xi_{sH_{I}} + 2 \\cdot \\xi_{sH_{II}} + 4 \\cdot \\xi_{sH_{III}} + 2 \\cdot \\xi_{sH_{IV}} + 4 \\cdot \\xi_{sH_{V}} + 2 \\cdot \\xi_{sH_{VI}} \\right) \\cdot F_{su20} \\\\&= \\left( 4 \\cdot 7.99 \\times 10 ^ {-1 } + 2 \\cdot 0.8 + 4 \\cdot 8.01 \\times 10 ^ {-1 } + 2 \\cdot 8.02 \\times 10 ^ {-1 } + 4 \\cdot 8.02 \\times 10 ^ {-1 } + 2 \\cdot 8.04 \\times 10 ^ {-1 } \\right) \\cdot 110.00\\ \\text{kN} \\\\&= 1.59\\ \\text{MN}  \\\\\n",
       "\\\\[10pt]\n",
       "F_{H1} &= \\left( 4 \\cdot \\xi_{sH_{I}} + 2 \\cdot \\xi_{sH_{II}} \\right) \\cdot F_{su20} \\\\&= \\left( 4 \\cdot 7.99 \\times 10 ^ {-1 } + 2 \\cdot 0.8 \\right) \\cdot 110.00\\ \\text{kN} \\\\&= 527.82\\ \\text{kN}  \\\\\n",
       "\\\\[10pt]\n",
       "F_{H2} &= \\left( 4 \\cdot \\xi_{sH_{III}} + 2 \\cdot \\xi_{sH_{IV}} \\right) \\cdot F_{su20} \\\\&= \\left( 4 \\cdot 8.01 \\times 10 ^ {-1 } + 2 \\cdot 8.02 \\times 10 ^ {-1 } \\right) \\cdot 110.00\\ \\text{kN} \\\\&= 528.88\\ \\text{kN}  \\\\\n",
       "\\\\[10pt]\n",
       "F_{H3} &= \\left( 4 \\cdot \\xi_{sH_{V}} + 2 \\cdot \\xi_{sH_{VI}} \\right) \\cdot F_{su20} \\\\&= \\left( 4 \\cdot 8.02 \\times 10 ^ {-1 } + 2 \\cdot 8.04 \\times 10 ^ {-1 } \\right) \\cdot 110.00\\ \\text{kN} \\\\&= 529.74\\ \\text{kN}  \\\\\n",
       "\\end{aligned}\n",
       "\\]"
      ],
      "text/plain": [
       "<IPython.core.display.Latex object>"
      ]
     },
     "metadata": {},
     "output_type": "display_data"
    }
   ],
   "source": [
    "%%render long 2\n",
    "\n",
    "F_suH = (4*xi_sH_I+2*xi_sH_II+4*xi_sH_III+2*xi_sH_IV+4*xi_sH_V+2*xi_sH_VI)*F_su20\n",
    "F_H1 = (4*xi_sH_I+ 2*xi_sH_II)*F_su20\n",
    "F_H2 = (4*xi_sH_III+2*xi_sH_IV)*F_su20\n",
    "F_H3 = (4*xi_sH_V+2*xi_sH_VI)*F_su20\n"
   ]
  },
  {
   "cell_type": "code",
   "execution_count": null,
   "metadata": {},
   "outputs": [
    {
     "data": {
      "text/latex": [
       "\\[\n",
       "\\begin{aligned}\n",
       "y_{H} &= \\frac{ F_{suH} }{ \\xi_{CMH} \\cdot \\mathrm{fck}_{20} \\cdot b_{flange} } \\\\&= \\frac{ 1.59\\ \\text{MN} }{ 9.22 \\times 10 ^ {-1 } \\cdot 45.00\\ \\text{MPa} \\cdot 2.40\\ \\text{m} } \\\\&= 15.93\\ \\text{mm}  \\\\\n",
       "\\\\[10pt]\n",
       "M_{u_{H}} &= F_{H1} \\cdot \\left( d_{1} - \\frac{ y_{H} }{ 2 } \\right) + F_{H2} \\cdot \\left( d_{2} - \\frac{ y_{H} }{ 2 } \\right) + F_{H3} \\cdot \\left( d_{3} - \\frac{ y_{H} }{ 2 } \\right) \\\\&= 527.82\\ \\text{kN} \\cdot \\left( 450.00\\ \\text{mm} - \\frac{ 15.93\\ \\text{mm} }{ 2 } \\right) + 528.88\\ \\text{kN} \\cdot \\left( 400.00\\ \\text{mm} - \\frac{ 15.93\\ \\text{mm} }{ 2 } \\right) + 529.74\\ \\text{kN} \\cdot \\left( 350.00\\ \\text{mm} - \\frac{ 15.93\\ \\text{mm} }{ 2 } \\right) \\\\&= 621.85\\ \\text{kN} \\cdot \\text{m}  \\\\\n",
       "\\\\[10pt]\n",
       "\\mu_{H} &= \\frac{ M_{max_{ALS}} }{ M_{u_{H}} } \\\\&= \\frac{ 591.60\\ \\text{kN} \\cdot \\text{m} }{ 621.85\\ \\text{kN} \\cdot \\text{m} } \\\\&= 9.51 \\times 10 ^ {-1 }  \\\\\n",
       "\\end{aligned}\n",
       "\\]"
      ],
      "text/plain": [
       "<IPython.core.display.Latex object>"
      ]
     },
     "metadata": {},
     "output_type": "display_data"
    }
   ],
   "source": [
    "%%render long 2\n",
    "y_H = F_suH/(xi_CMH*fck_20*b_flange)\n",
    "M_u_H = F_H1*(d_1-y_H/2)+F_H2*(d_2-y_H/2)+F_H3*(d_3-y_H/2)\n",
    "mu_H = M_max_ALS/M_u_H"
   ]
  },
  {
   "cell_type": "markdown",
   "metadata": {},
   "source": [
    "**COLD - After fire**"
   ]
  },
  {
   "cell_type": "code",
   "execution_count": null,
   "metadata": {},
   "outputs": [
    {
     "data": {
      "text/latex": [
       "\\[\n",
       "\\begin{aligned}\n",
       "F_{suC} &= \\left( 4 \\cdot \\xi_{sC_{I}} + 2 \\cdot \\xi_{sC_{II}} + 4 \\cdot \\xi_{sC_{III}} + 2 \\cdot \\xi_{sC_{IV}} + 4 \\cdot \\xi_{sC_{V}} + 2 \\cdot \\xi_{sC_{VI}} \\right) \\cdot F_{su20} \\\\&= \\left( 4 \\cdot 9.49 \\times 10 ^ {-1 } + 2 \\cdot 9.49 \\times 10 ^ {-1 } + 4 \\cdot 9.49 \\times 10 ^ {-1 } + 2 \\cdot 0.95 + 4 \\cdot 0.95 + 2 \\cdot 0.95 \\right) \\cdot 110.00\\ \\text{kN} \\\\&= 1.88\\ \\text{MN}  \\\\\n",
       "\\\\[10pt]\n",
       "y_{C} &= \\frac{ F_{suC} }{ \\xi_{CMC} \\cdot \\mathrm{fck}_{20} \\cdot b_{flange} } \\\\&= \\frac{ 1.88\\ \\text{MN} }{ 0.83 \\cdot 45.00\\ \\text{MPa} \\cdot 2.40\\ \\text{m} } \\\\&= 20.98\\ \\text{mm}  \\\\\n",
       "\\end{aligned}\n",
       "\\]"
      ],
      "text/plain": [
       "<IPython.core.display.Latex object>"
      ]
     },
     "metadata": {},
     "output_type": "display_data"
    }
   ],
   "source": [
    "%%render long 2\n",
    "\n",
    "F_suC = (4*xi_sC_I+2*xi_sC_II+4*xi_sC_III+2*xi_sC_IV+4*xi_sC_V+2*xi_sC_VI)*F_su20\n",
    "y_C = F_suC/(xi_CMC*fck_20*b_flange)"
   ]
  },
  {
   "cell_type": "code",
   "execution_count": null,
   "metadata": {},
   "outputs": [
    {
     "data": {
      "text/markdown": [
       "Compression zone in the flange"
      ],
      "text/plain": [
       "<IPython.core.display.Markdown object>"
      ]
     },
     "metadata": {},
     "output_type": "display_data"
    }
   ],
   "source": [
    "if y_C<h_flange:\n",
    "    display(Markdown('Compression zone in the flange'))\n",
    "else:\n",
    "    display(Markdown('Compression zone higher than flange, web must also be applied'))"
   ]
  },
  {
   "cell_type": "code",
   "execution_count": null,
   "metadata": {},
   "outputs": [
    {
     "data": {
      "text/latex": [
       "\\[\n",
       "\\begin{aligned}\n",
       "F_{C1} &= \\left( 4 \\cdot \\xi_{sC_{I}} + 2 \\cdot \\xi_{sC_{II}} \\right) \\cdot F_{su20} \\\\&= \\left( 4 \\cdot 9.49 \\times 10 ^ {-1 } + 2 \\cdot 9.49 \\times 10 ^ {-1 } \\right) \\cdot 110.00\\ \\text{kN} \\\\&= 626.30\\ \\text{kN}  \\\\\n",
       "\\\\[10pt]\n",
       "F_{C2} &= \\left( 4 \\cdot \\xi_{sC_{III}} + 2 \\cdot \\xi_{sC_{IV}} \\right) \\cdot F_{su20} \\\\&= \\left( 4 \\cdot 9.49 \\times 10 ^ {-1 } + 2 \\cdot 0.95 \\right) \\cdot 110.00\\ \\text{kN} \\\\&= 626.67\\ \\text{kN}  \\\\\n",
       "\\\\[10pt]\n",
       "F_{C3} &= \\left( 4 \\cdot \\xi_{sC_{V}} + 2 \\cdot \\xi_{sC_{VI}} \\right) \\cdot F_{su20} \\\\&= \\left( 4 \\cdot 0.95 + 2 \\cdot 0.95 \\right) \\cdot 110.00\\ \\text{kN} \\\\&= 626.78\\ \\text{kN}  \\\\\n",
       "\\\\[10pt]\n",
       "M_{u_{C}} &= F_{C1} \\cdot \\left( d_{1} - \\frac{ y_{C} }{ 2 } \\right) + F_{C2} \\cdot \\left( d_{2} - \\frac{ y_{C} }{ 2 } \\right) + F_{C3} \\cdot \\left( d_{3} - \\frac{ y_{C} }{ 2 } \\right) \\\\&= 626.30\\ \\text{kN} \\cdot \\left( 450.00\\ \\text{mm} - \\frac{ 20.98\\ \\text{mm} }{ 2 } \\right) + 626.67\\ \\text{kN} \\cdot \\left( 400.00\\ \\text{mm} - \\frac{ 20.98\\ \\text{mm} }{ 2 } \\right) + 626.78\\ \\text{kN} \\cdot \\left( 350.00\\ \\text{mm} - \\frac{ 20.98\\ \\text{mm} }{ 2 } \\right) \\\\&= 732.15\\ \\text{kN} \\cdot \\text{m}  \\\\\n",
       "\\end{aligned}\n",
       "\\]"
      ],
      "text/plain": [
       "<IPython.core.display.Latex object>"
      ]
     },
     "metadata": {},
     "output_type": "display_data"
    }
   ],
   "source": [
    "%%render long 2\n",
    "F_C1 = (4*xi_sC_I+ 2*xi_sC_II)*F_su20\n",
    "F_C2 = (4*xi_sC_III+2*xi_sC_IV)*F_su20\n",
    "F_C3 = (4*xi_sC_V+2*xi_sC_VI)*F_su20\n",
    "M_u_C = F_C1*(d_1-y_C/2)+F_C2*(d_2-y_C/2)+F_C3*(d_3-y_C/2)"
   ]
  },
  {
   "cell_type": "code",
   "execution_count": null,
   "metadata": {},
   "outputs": [
    {
     "data": {
      "text/latex": [
       "\\[\n",
       "\\begin{aligned}\n",
       "\\mu_{C} &= \\frac{ M_{max_{ALS}} }{ M_{u_{C}} }  = \\frac{ 591.60\\ \\text{kN} \\cdot \\text{m} }{ 732.15\\ \\text{kN} \\cdot \\text{m} } &= 8.08 \\times 10 ^ {-1 }  \n",
       "\\end{aligned}\n",
       "\\]"
      ],
      "text/plain": [
       "<IPython.core.display.Latex object>"
      ]
     },
     "metadata": {},
     "output_type": "display_data"
    }
   ],
   "source": [
    "%%render 2\n",
    "mu_C = M_max_ALS/M_u_C"
   ]
  },
  {
   "cell_type": "code",
   "execution_count": null,
   "metadata": {},
   "outputs": [
    {
     "data": {
      "text/markdown": [
       "The slab is verified for fire"
      ],
      "text/plain": [
       "<IPython.core.display.Markdown object>"
      ]
     },
     "metadata": {},
     "output_type": "display_data"
    }
   ],
   "source": [
    "if mu_C<1 and mu_H<1:\n",
    "    display(Markdown('The slab is verified for fire'))\n",
    "else:\n",
    "    display(Markdown('The slab is not verified for fire'))"
   ]
  }
 ],
 "metadata": {
  "interpreter": {
   "hash": "e42634819b8c191a5d07eaf23810ff32516dd8d3875f28ec3e488928fbd3c187"
  },
  "kernelspec": {
   "display_name": "Python 3 (ipykernel)",
   "language": "python",
   "name": "python3"
  },
  "language_info": {
   "codemirror_mode": {
    "name": "ipython",
    "version": 3
   },
   "file_extension": ".py",
   "mimetype": "text/x-python",
   "name": "python",
   "nbconvert_exporter": "python",
   "pygments_lexer": "ipython3",
   "version": "3.8.13"
  }
 },
 "nbformat": 4,
 "nbformat_minor": 4
}
