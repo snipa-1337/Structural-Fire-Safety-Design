{
 "cells": [
  {
   "cell_type": "code",
   "execution_count": 21,
   "metadata": {},
   "outputs": [],
   "source": [
    "import numpy as np\n",
    "import pandas as pd\n",
    "pd.options.mode.chained_assignment = None  # default='warn'\n",
    "import sympy as sp\n",
    "import handcalcs.render\n",
    "import forallpeople as si\n",
    "import matplotlib.pyplot as plt\n",
    "%matplotlib inline\n",
    "from math import tan, sin,cos, pi, radians, sqrt, trunc\n",
    "from IPython.display import display, Markdown\n",
    "si.environment('structural', top_level=True)"
   ]
  },
  {
   "cell_type": "markdown",
   "metadata": {},
   "source": [
    "<h2>KBE Beam verification</h2>\n",
    "\n",
    "<h3>Compartment: Gym</h3>\n",
    "\n",
    "<img src = \"KBE_beam_E4.png\" width=700>"
   ]
  },
  {
   "cell_type": "markdown",
   "metadata": {},
   "source": [
    "<h4>Loads</h4>"
   ]
  },
  {
   "cell_type": "code",
   "execution_count": 22,
   "metadata": {},
   "outputs": [
    {
     "data": {
      "text/latex": [
       "\\[\n",
       "\\begin{aligned}\n",
       "l_{influence} &= 2.58\\ \\text{m} \\; \n",
       "\\\\[10pt]\n",
       "\\psi_{11} &= 0.4 \\; \n",
       "\\\\[10pt]\n",
       "G_{k} &= \\left( 4.67 + 1.21 \\right) \\cdot \\frac{ \\mathrm{kN} }{ \\left( m \\right) ^{ 2 } } \\cdot l_{influence} + 3.31 \\cdot \\frac{ \\mathrm{kN} }{ m } \\\\&= \\left( 4.67 + 1.21 \\right) \\cdot \\frac{ kN }{ \\left( m \\right) ^{ 2 } } \\cdot 2.58\\ \\text{m} + 3.31 \\cdot \\frac{ kN }{ m } \\\\&= 18.48\\ \\text{kN/m}  \\\\\n",
       "\\\\[10pt]\n",
       "Q_{k} &= 5.8 \\cdot \\frac{ \\mathrm{kN} }{ \\left( m \\right) ^{ 2 } } \\cdot l_{influence}  = 5.8 \\cdot \\frac{ kN }{ \\left( m \\right) ^{ 2 } } \\cdot 2.58\\ \\text{m} &= 14.96\\ \\text{kN/m}  \n",
       "\\end{aligned}\n",
       "\\]"
      ],
      "text/plain": [
       "<IPython.core.display.Latex object>"
      ]
     },
     "metadata": {},
     "output_type": "display_data"
    }
   ],
   "source": [
    "%%render 2\n",
    "\n",
    "l_influence = (2.58*m)\n",
    "psi_11 = 0.4\n",
    "G_k = (4.67+1.21)*kN/m**2*l_influence+3.31*kN/m\n",
    "Q_k = 5.8*kN/m**2*l_influence\n"
   ]
  },
  {
   "cell_type": "markdown",
   "metadata": {},
   "source": [
    "Load combination for fire:"
   ]
  },
  {
   "cell_type": "code",
   "execution_count": 23,
   "metadata": {},
   "outputs": [
    {
     "data": {
      "text/latex": [
       "\\[\n",
       "\\begin{aligned}\n",
       "q_{d} &= G_{k} + \\psi_{11} \\cdot Q_{k}  = 18.48\\ \\text{kN/m} + 0.4 \\cdot 14.96\\ \\text{kN/m} &= 24.47\\ \\text{kN/m}  \n",
       "\\end{aligned}\n",
       "\\]"
      ],
      "text/plain": [
       "<IPython.core.display.Latex object>"
      ]
     },
     "metadata": {},
     "output_type": "display_data"
    }
   ],
   "source": [
    "%%render 2\n",
    "q_d = G_k+psi_11*Q_k"
   ]
  },
  {
   "cell_type": "markdown",
   "metadata": {},
   "source": [
    "<h4>Beam parameters</h4>"
   ]
  },
  {
   "cell_type": "code",
   "execution_count": 24,
   "metadata": {},
   "outputs": [
    {
     "data": {
      "text/latex": [
       "\\[\n",
       "\\begin{aligned}\n",
       "L &= 8.40\\ \\text{m} \\; \n",
       " &b &= 360.00\\ \\text{mm} \\; \n",
       " &b_{top} &= 235.00\\ \\text{mm} \\; \n",
       "\\\\[10pt]\n",
       " h &= 470.00\\ \\text{mm} \\; \n",
       " &d_{1} &= 420.00\\ \\text{mm} \\; \n",
       " &d_{2} &= 370.00\\ \\text{mm} \\; \n",
       "\\\\[10pt]\n",
       " A_{t} &= 142000.00\\ \\text{mm}^{2} \\; \n",
       " &\\mathrm{fck}_{20} &= 45.00\\ \\text{MPa} \\; \n",
       " &\\phi_{s} &= 12.50\\ \\text{mm} \\; \n",
       "\\\\[10pt]\n",
       " E_{s20} &= 200.00\\ \\text{GPa} \\;\\end{aligned}\n",
       "\\]"
      ],
      "text/plain": [
       "<IPython.core.display.Latex object>"
      ]
     },
     "metadata": {},
     "output_type": "display_data"
    }
   ],
   "source": [
    "%%render param 2\n",
    "\n",
    "L = 8.4*m\n",
    "b = 360*mm\n",
    "b_top = b-125*mm\n",
    "h = 470*mm\n",
    "d_1 = h-50*mm\n",
    "d_2 = h-100*mm\n",
    "A_t = 1.42*10**5*mm**2\n",
    "fck_20 = 45*MPa\n",
    "phi_s = 12.5*mm\n",
    "E_s20 = 200*GPa\n"
   ]
  },
  {
   "cell_type": "code",
   "execution_count": 25,
   "metadata": {},
   "outputs": [],
   "source": [
    "fyk_20 = 500*MPa"
   ]
  },
  {
   "cell_type": "markdown",
   "metadata": {},
   "source": [
    "From CONFIRE the following temperatures and parameters were obtained. An example of input (Position I) is shown in the next figure\n",
    "\n",
    "<img src = \"confire-kbe1.png\" width=300>\n"
   ]
  },
  {
   "cell_type": "code",
   "execution_count": 26,
   "metadata": {},
   "outputs": [
    {
     "data": {
      "text/html": [
       "<div>\n",
       "<style scoped>\n",
       "    .dataframe tbody tr th:only-of-type {\n",
       "        vertical-align: middle;\n",
       "    }\n",
       "\n",
       "    .dataframe tbody tr th {\n",
       "        vertical-align: top;\n",
       "    }\n",
       "\n",
       "    .dataframe thead th {\n",
       "        text-align: right;\n",
       "    }\n",
       "</style>\n",
       "<table border=\"1\" class=\"dataframe\">\n",
       "  <thead>\n",
       "    <tr style=\"text-align: right;\">\n",
       "      <th></th>\n",
       "      <th>THOT(x,y)</th>\n",
       "      <th>TCOLD(x,y)</th>\n",
       "      <th>xi_sH</th>\n",
       "      <th>xi_sC</th>\n",
       "    </tr>\n",
       "    <tr>\n",
       "      <th>Position</th>\n",
       "      <th></th>\n",
       "      <th></th>\n",
       "      <th></th>\n",
       "      <th></th>\n",
       "    </tr>\n",
       "  </thead>\n",
       "  <tbody>\n",
       "    <tr>\n",
       "      <th>I</th>\n",
       "      <td>503</td>\n",
       "      <td>503</td>\n",
       "      <td>0.1491</td>\n",
       "      <td>0.6109</td>\n",
       "    </tr>\n",
       "    <tr>\n",
       "      <th>II</th>\n",
       "      <td>391</td>\n",
       "      <td>405</td>\n",
       "      <td>0.3523</td>\n",
       "      <td>0.7787</td>\n",
       "    </tr>\n",
       "    <tr>\n",
       "      <th>III</th>\n",
       "      <td>348</td>\n",
       "      <td>366</td>\n",
       "      <td>0.4363</td>\n",
       "      <td>0.8247</td>\n",
       "    </tr>\n",
       "    <tr>\n",
       "      <th>IV</th>\n",
       "      <td>338</td>\n",
       "      <td>354</td>\n",
       "      <td>0.4562</td>\n",
       "      <td>0.8370</td>\n",
       "    </tr>\n",
       "    <tr>\n",
       "      <th>V</th>\n",
       "      <td>336</td>\n",
       "      <td>351</td>\n",
       "      <td>0.4596</td>\n",
       "      <td>0.8399</td>\n",
       "    </tr>\n",
       "    <tr>\n",
       "      <th>VI</th>\n",
       "      <td>336</td>\n",
       "      <td>351</td>\n",
       "      <td>0.4601</td>\n",
       "      <td>0.8404</td>\n",
       "    </tr>\n",
       "    <tr>\n",
       "      <th>VII</th>\n",
       "      <td>212</td>\n",
       "      <td>278</td>\n",
       "      <td>0.6865</td>\n",
       "      <td>0.8989</td>\n",
       "    </tr>\n",
       "    <tr>\n",
       "      <th>VIII</th>\n",
       "      <td>144</td>\n",
       "      <td>224</td>\n",
       "      <td>0.8116</td>\n",
       "      <td>0.9322</td>\n",
       "    </tr>\n",
       "    <tr>\n",
       "      <th>IX</th>\n",
       "      <td>127</td>\n",
       "      <td>203</td>\n",
       "      <td>0.8411</td>\n",
       "      <td>0.9436</td>\n",
       "    </tr>\n",
       "    <tr>\n",
       "      <th>X</th>\n",
       "      <td>124</td>\n",
       "      <td>196</td>\n",
       "      <td>0.8461</td>\n",
       "      <td>0.9475</td>\n",
       "    </tr>\n",
       "    <tr>\n",
       "      <th>XI</th>\n",
       "      <td>124</td>\n",
       "      <td>193</td>\n",
       "      <td>0.8467</td>\n",
       "      <td>0.9487</td>\n",
       "    </tr>\n",
       "  </tbody>\n",
       "</table>\n",
       "</div>"
      ],
      "text/plain": [
       "          THOT(x,y)  TCOLD(x,y)   xi_sH   xi_sC\n",
       "Position                                       \n",
       "I               503         503  0.1491  0.6109\n",
       "II              391         405  0.3523  0.7787\n",
       "III             348         366  0.4363  0.8247\n",
       "IV              338         354  0.4562  0.8370\n",
       "V               336         351  0.4596  0.8399\n",
       "VI              336         351  0.4601  0.8404\n",
       "VII             212         278  0.6865  0.8989\n",
       "VIII            144         224  0.8116  0.9322\n",
       "IX              127         203  0.8411  0.9436\n",
       "X               124         196  0.8461  0.9475\n",
       "XI              124         193  0.8467  0.9487"
      ]
     },
     "execution_count": 26,
     "metadata": {},
     "output_type": "execute_result"
    }
   ],
   "source": [
    "tp = pd.read_excel(\"confire-kbe.xlsx\" , sheet_name = \"temp\")\n",
    "tp = tp.set_index(\"Position\")\n",
    "tp"
   ]
  },
  {
   "cell_type": "code",
   "execution_count": 27,
   "metadata": {},
   "outputs": [],
   "source": [
    "#for each xi_sH create a variable with the name of the xi_sH_index and the value of the xi_sH\n",
    "for i in tp.index:\n",
    "    exec(\"xi_sH_\"+str(i)+\" = tp.loc[i,'xi_sH']\")\n",
    "\n",
    "for i in tp.index:\n",
    "    exec(\"xi_sC_\"+str(i)+\" = tp.loc[i,'xi_sC']\")\n",
    "\n"
   ]
  },
  {
   "cell_type": "markdown",
   "metadata": {},
   "source": [
    "And the concrete reduction factors:"
   ]
  },
  {
   "cell_type": "markdown",
   "metadata": {},
   "source": [
    "<img src = \"confire-kbexi.png\" width=300>"
   ]
  },
  {
   "cell_type": "code",
   "execution_count": 28,
   "metadata": {},
   "outputs": [
    {
     "data": {
      "text/latex": [
       "\\[\n",
       "\\begin{aligned}\n",
       "\\xi_{CMH} &= 1 \\; \n",
       "\\\\[10pt]\n",
       "\\xi_{CMC} &= 9.68 \\times 10 ^ {-1 } \\; \n",
       "\\\\[10pt]\n",
       "\\eta_{H} &= 9.16 \\times 10 ^ {-1 } \\; \n",
       "\\\\[10pt]\n",
       "\\eta_{C} &= 8.16 \\times 10 ^ {-1 } \\; \n",
       "\\end{aligned}\n",
       "\\]"
      ],
      "text/plain": [
       "<IPython.core.display.Latex object>"
      ]
     },
     "metadata": {},
     "output_type": "display_data"
    }
   ],
   "source": [
    "%%render 2\n",
    "xi_CMH = 1\n",
    "xi_CMC = 0.9680\n",
    "eta_H = 0.9159\n",
    "eta_C = 0.8161"
   ]
  },
  {
   "cell_type": "markdown",
   "metadata": {},
   "source": [
    "**Before fire**"
   ]
  },
  {
   "cell_type": "markdown",
   "metadata": {},
   "source": [
    "Using effective prestress strength per wire = 110 kN, provided by the supplier"
   ]
  },
  {
   "cell_type": "code",
   "execution_count": 29,
   "metadata": {},
   "outputs": [
    {
     "data": {
      "text/latex": [
       "\\[\n",
       "\\begin{aligned}\n",
       "M_{max_{ALS}} &= q_{d} \\cdot \\frac{ \\left( L \\right) ^{ 2 } }{ 8 }  = 24.47\\ \\text{kN/m} \\cdot \\frac{ \\left( 8.40\\ \\text{m} \\right) ^{ 2 } }{ 8 } &= 215.79\\ \\text{kN} \\cdot \\text{m}  \n",
       "\\\\[10pt]\n",
       "F_{su20} &= 110.00\\ \\text{kN} \\; \n",
       "\\\\[10pt]\n",
       "y_{20} &= 11 \\cdot \\frac{ F_{su20} }{ \\mathrm{fck}_{20} \\cdot b_{top} }  = 11 \\cdot \\frac{ 110.00\\ \\text{kN} }{ 45.00\\ \\text{MPa} \\cdot 235.00\\ \\text{mm} } &= 114.42\\ \\text{mm}  \n",
       "\\end{aligned}\n",
       "\\]"
      ],
      "text/plain": [
       "<IPython.core.display.Latex object>"
      ]
     },
     "metadata": {},
     "output_type": "display_data"
    }
   ],
   "source": [
    "%%render 2\n",
    "\n",
    "M_max_ALS = q_d*L**2/8\n",
    "F_su20 = (110*kN)\n",
    "y_20 = 11*F_su20/(fck_20*b_top)"
   ]
  },
  {
   "cell_type": "code",
   "execution_count": 30,
   "metadata": {},
   "outputs": [
    {
     "data": {
      "text/latex": [
       "\\[\n",
       "\\begin{aligned}\n",
       "F_{1} &= 6 \\cdot F_{su20} \\\\&= 6 \\cdot 110.00\\ \\text{kN} \\\\&= 660.00\\ \\text{kN}  \\\\\n",
       "\\\\[10pt]\n",
       "F_{2} &= 5 \\cdot F_{su20} \\\\&= 5 \\cdot 110.00\\ \\text{kN} \\\\&= 550.00\\ \\text{kN}  \\\\\n",
       "\\\\[10pt]\n",
       "M_{u20} &= F_{1} \\cdot \\left( d_{1} - \\frac{ y_{20} }{ 2 } \\right) + F_{2} \\cdot \\left( d_{2} - \\frac{ y_{20} }{ 2 } \\right) \\\\&= 660.00\\ \\text{kN} \\cdot \\left( 420.00\\ \\text{mm} - \\frac{ 114.42\\ \\text{mm} }{ 2 } \\right) + 550.00\\ \\text{kN} \\cdot \\left( 370.00\\ \\text{mm} - \\frac{ 114.42\\ \\text{mm} }{ 2 } \\right) \\\\&= 411.48\\ \\text{kN} \\cdot \\text{m}  \\\\\n",
       "\\\\[10pt]\n",
       "\\mu_{20} &= \\frac{ M_{max_{ALS}} }{ M_{u20} } \\\\&= \\frac{ 215.79\\ \\text{kN} \\cdot \\text{m} }{ 411.48\\ \\text{kN} \\cdot \\text{m} } \\\\&= 5.24 \\times 10 ^ {-1 }  \\\\\n",
       "\\end{aligned}\n",
       "\\]"
      ],
      "text/plain": [
       "<IPython.core.display.Latex object>"
      ]
     },
     "metadata": {},
     "output_type": "display_data"
    }
   ],
   "source": [
    "%%render long 2\n",
    "\n",
    "F_1 = 6*F_su20\n",
    "F_2 = 5*F_su20\n",
    "M_u20 = F_1*(d_1-y_20/2)+F_2*(d_2-y_20/2)\n",
    "mu_20 = M_max_ALS/M_u20"
   ]
  },
  {
   "cell_type": "markdown",
   "metadata": {},
   "source": [
    "**HOT - During fire**"
   ]
  },
  {
   "cell_type": "code",
   "execution_count": 31,
   "metadata": {},
   "outputs": [
    {
     "data": {
      "text/latex": [
       "\\[\n",
       "\\begin{aligned}\n",
       "F_{suH} &= \\left( \\xi_{sH_{I}} + \\xi_{sH_{II}} + \\xi_{sH_{III}} + \\xi_{sH_{IV}} + \\xi_{sH_{V}} + \\xi_{sH_{VI}} + \\xi_{sH_{VII}} + \\xi_{sH_{VIII}} + \\xi_{sH_{IX}} + \\xi_{sH_{X}} + \\xi_{sH_{XI}} \\right) \\cdot F_{su20} \\; \n",
       "\\end{aligned}\n",
       "\\]"
      ],
      "text/plain": [
       "<IPython.core.display.Latex object>"
      ]
     },
     "metadata": {},
     "output_type": "display_data"
    }
   ],
   "source": [
    "%%render symbolic\n",
    "F_suH = (xi_sH_I+xi_sH_II+xi_sH_III+xi_sH_IV+xi_sH_V+xi_sH_VI+xi_sH_VII+xi_sH_VIII+xi_sH_IX+xi_sH_X+xi_sH_XI)*F_su20"
   ]
  },
  {
   "cell_type": "code",
   "execution_count": 32,
   "metadata": {},
   "outputs": [
    {
     "data": {
      "text/latex": [
       "\\[\n",
       "\\begin{aligned}\n",
       "F_{suH} &= 698.016\\ \\text{kN} \\; \n",
       "\\end{aligned}\n",
       "\\]"
      ],
      "text/plain": [
       "<IPython.core.display.Latex object>"
      ]
     },
     "metadata": {},
     "output_type": "display_data"
    }
   ],
   "source": [
    "%%render\n",
    "F_suH"
   ]
  },
  {
   "cell_type": "code",
   "execution_count": 33,
   "metadata": {},
   "outputs": [
    {
     "data": {
      "text/latex": [
       "\\[\n",
       "\\begin{aligned}\n",
       "F_{H1} &= \\left( \\xi_{sH_{I}} + \\xi_{sH_{II}} + \\xi_{sH_{III}} + \\xi_{sH_{IV}} + \\xi_{sH_{V}} + \\xi_{sH_{VI}} \\right) \\cdot F_{su20} \\\\&= \\left( 1.49 \\times 10 ^ {-1 } + 3.52 \\times 10 ^ {-1 } + 4.36 \\times 10 ^ {-1 } + 4.56 \\times 10 ^ {-1 } + 0.46 + 0.46 \\right) \\cdot 110.00\\ \\text{kN} \\\\&= 254.50\\ \\text{kN}  \\\\\n",
       "\\\\[10pt]\n",
       "F_{H2} &= \\left( \\xi_{sH_{VII}} + \\xi_{sH_{VIII}} + \\xi_{sH_{IX}} + \\xi_{sH_{X}} + \\xi_{sH_{XI}} \\right) \\cdot F_{su20} \\\\&= \\left( 6.86 \\times 10 ^ {-1 } + 8.12 \\times 10 ^ {-1 } + 8.41 \\times 10 ^ {-1 } + 8.46 \\times 10 ^ {-1 } + 8.47 \\times 10 ^ {-1 } \\right) \\cdot 110.00\\ \\text{kN} \\\\&= 443.52\\ \\text{kN}  \\\\\n",
       "\\end{aligned}\n",
       "\\]"
      ],
      "text/plain": [
       "<IPython.core.display.Latex object>"
      ]
     },
     "metadata": {},
     "output_type": "display_data"
    }
   ],
   "source": [
    "%%render 2\n",
    "\n",
    "F_H1 = (xi_sH_I+xi_sH_II+xi_sH_III+xi_sH_IV+xi_sH_V+xi_sH_VI)*F_su20\n",
    "F_H2 = (xi_sH_VII+xi_sH_VIII+xi_sH_IX+xi_sH_X+xi_sH_XI)*F_su20"
   ]
  },
  {
   "cell_type": "code",
   "execution_count": 34,
   "metadata": {},
   "outputs": [
    {
     "data": {
      "text/latex": [
       "\\[\n",
       "\\begin{aligned}\n",
       "y_{H} &= \\frac{ F_{suH} }{ \\xi_{CMH} \\cdot \\mathrm{fck}_{20} \\cdot b_{top} \\cdot \\eta_{H} }  = \\frac{ 698.02\\ \\text{kN} }{ 1 \\cdot 45.00\\ \\text{MPa} \\cdot 235.00\\ \\text{mm} \\cdot 9.16 \\times 10 ^ {-1 } } &= 72.07\\ \\text{mm}  \n",
       "\\\\[10pt]\n",
       "M_{u_{H}} &= F_{H1} \\cdot \\left( d_{1} - 0.5 \\cdot y_{H} \\right) + F_{H2} \\cdot \\left( d_{2} - 0.5 \\cdot y_{H} \\right) \\\\&= 254.50\\ \\text{kN} \\cdot \\left( 420.00\\ \\text{mm} - 0.5 \\cdot 72.07\\ \\text{mm} \\right) + 443.52\\ \\text{kN} \\cdot \\left( 370.00\\ \\text{mm} - 0.5 \\cdot 72.07\\ \\text{mm} \\right) \\\\&= 245.84\\ \\text{kN} \\cdot \\text{m}  \\\\\n",
       "\\\\[10pt]\n",
       "\\mu_{H} &= \\frac{ M_{max_{ALS}} }{ M_{u_{H}} }  = \\frac{ 215.79\\ \\text{kN} \\cdot \\text{m} }{ 245.84\\ \\text{kN} \\cdot \\text{m} } &= 8.78 \\times 10 ^ {-1 }  \n",
       "\\end{aligned}\n",
       "\\]"
      ],
      "text/plain": [
       "<IPython.core.display.Latex object>"
      ]
     },
     "metadata": {},
     "output_type": "display_data"
    }
   ],
   "source": [
    "%%render 2\n",
    "y_H = F_suH/(xi_CMH*fck_20*b_top*eta_H)\n",
    "M_u_H = F_H1*(d_1-0.5*y_H)+F_H2*(d_2-0.5*y_H)\n",
    "mu_H = M_max_ALS/M_u_H"
   ]
  },
  {
   "cell_type": "markdown",
   "metadata": {},
   "source": [
    "**COLD - After fire**"
   ]
  },
  {
   "cell_type": "code",
   "execution_count": 35,
   "metadata": {},
   "outputs": [
    {
     "data": {
      "text/latex": [
       "\\[\n",
       "\\begin{aligned}\n",
       "F_{suC} &= \\left( \\xi_{sC_{I}} + \\xi_{sC_{II}} + \\xi_{sC_{III}} + \\xi_{sC_{IV}} + \\xi_{sC_{V}} + \\xi_{sC_{VI}} + \\xi_{sC_{VII}} + \\xi_{sC_{VIII}} + \\xi_{sC_{IX}} + \\xi_{sC_{X}} + \\xi_{sC_{XI}} \\right) \\cdot F_{su20} \\; \n",
       "\\end{aligned}\n",
       "\\]"
      ],
      "text/plain": [
       "<IPython.core.display.Latex object>"
      ]
     },
     "metadata": {},
     "output_type": "display_data"
    }
   ],
   "source": [
    "%%render symbolic\n",
    "F_suC = (xi_sC_I+xi_sC_II+xi_sC_III+xi_sC_IV+xi_sC_V+xi_sC_VI+xi_sC_VII+xi_sC_VIII+xi_sC_IX+xi_sC_X+xi_sC_XI)*F_su20\n"
   ]
  },
  {
   "cell_type": "code",
   "execution_count": 36,
   "metadata": {},
   "outputs": [
    {
     "data": {
      "text/latex": [
       "\\[\n",
       "\\begin{aligned}\n",
       "y_{C} &= \\frac{ F_{suC} }{ \\xi_{CMC} \\cdot \\mathrm{fck}_{20} \\cdot b_{top} \\cdot \\eta_{C} }  = \\frac{ 1.03\\ \\text{MN} }{ 9.68 \\times 10 ^ {-1 } \\cdot 45.00\\ \\text{MPa} \\cdot 235.00\\ \\text{mm} \\cdot 8.16 \\times 10 ^ {-1 } } &= 123.80\\ \\text{mm}  \n",
       "\\end{aligned}\n",
       "\\]"
      ],
      "text/plain": [
       "<IPython.core.display.Latex object>"
      ]
     },
     "metadata": {},
     "output_type": "display_data"
    }
   ],
   "source": [
    "%%render 2\n",
    "y_C = F_suC/(xi_CMC*fck_20*b_top*eta_C)"
   ]
  },
  {
   "cell_type": "code",
   "execution_count": 37,
   "metadata": {},
   "outputs": [
    {
     "data": {
      "text/markdown": [
       "Compression zone lower than slab thickness (270 mm), only $b_{top}$ considered"
      ],
      "text/plain": [
       "<IPython.core.display.Markdown object>"
      ]
     },
     "metadata": {},
     "output_type": "display_data"
    }
   ],
   "source": [
    "if y_C<d_2:\n",
    "    display(Markdown('Compression zone lower than slab thickness (270 mm), only $b_{top}$ considered'))\n",
    "else:\n",
    "    display(Markdown('Compression zone higher than slab thickness (270 mm), lower width must be considered'))"
   ]
  },
  {
   "cell_type": "code",
   "execution_count": 38,
   "metadata": {},
   "outputs": [
    {
     "data": {
      "text/latex": [
       "\\[\n",
       "\\begin{aligned}\n",
       "F_{C1} &= \\left( \\xi_{sC_{I}} + \\xi_{sC_{II}} + \\xi_{sC_{III}} + \\xi_{sC_{IV}} + \\xi_{sC_{V}} + \\xi_{sC_{VI}} \\right) \\cdot F_{su20} \\\\&= \\left( 6.11 \\times 10 ^ {-1 } + 7.79 \\times 10 ^ {-1 } + 8.25 \\times 10 ^ {-1 } + 8.37 \\times 10 ^ {-1 } + 0.84 + 0.84 \\right) \\cdot 110.00\\ \\text{kN} \\\\&= 520.48\\ \\text{kN}  \\\\\n",
       "\\\\[10pt]\n",
       "F_{C2} &= \\left( \\xi_{sC_{VII}} + \\xi_{sC_{VIII}} + \\xi_{sC_{IX}} + \\xi_{sC_{X}} + \\xi_{sC_{XI}} \\right) \\cdot F_{su20} \\\\&= \\left( 8.99 \\times 10 ^ {-1 } + 9.32 \\times 10 ^ {-1 } + 9.44 \\times 10 ^ {-1 } + 9.48 \\times 10 ^ {-1 } + 9.49 \\times 10 ^ {-1 } \\right) \\cdot 110.00\\ \\text{kN} \\\\&= 513.80\\ \\text{kN}  \\\\\n",
       "\\\\[10pt]\n",
       "M_{u_{C}} &= F_{C1} \\cdot \\left( d_{1} - 0.5 \\cdot y_{C} \\right) + F_{C2} \\cdot \\left( d_{2} - 0.5 \\cdot y_{H} \\right) \\\\&= 520.48\\ \\text{kN} \\cdot \\left( 420.00\\ \\text{mm} - 0.5 \\cdot 123.80\\ \\text{mm} \\right) + 513.80\\ \\text{kN} \\cdot \\left( 370.00\\ \\text{mm} - 0.5 \\cdot 72.07\\ \\text{mm} \\right) \\\\&= 357.97\\ \\text{kN} \\cdot \\text{m}  \\\\\n",
       "\\\\[10pt]\n",
       "\\mu_{C} &= \\frac{ M_{max_{ALS}} }{ M_{u_{C}} } \\\\&= \\frac{ 215.79\\ \\text{kN} \\cdot \\text{m} }{ 357.97\\ \\text{kN} \\cdot \\text{m} } \\\\&= 6.03 \\times 10 ^ {-1 }  \\\\\n",
       "\\end{aligned}\n",
       "\\]"
      ],
      "text/plain": [
       "<IPython.core.display.Latex object>"
      ]
     },
     "metadata": {},
     "output_type": "display_data"
    }
   ],
   "source": [
    "%%render long 2\n",
    "F_C1 = (xi_sC_I+xi_sC_II+xi_sC_III+xi_sC_IV+xi_sC_V+xi_sC_VI)*F_su20\n",
    "F_C2 = (xi_sC_VII+xi_sC_VIII+xi_sC_IX+xi_sC_X+xi_sC_XI)*F_su20\n",
    "M_u_C = F_C1*(d_1-0.5*y_C)+F_C2*(d_2-0.5*y_H)\n",
    "mu_C = M_max_ALS/M_u_C"
   ]
  },
  {
   "cell_type": "markdown",
   "metadata": {},
   "source": [
    "Over-reinforcment check"
   ]
  },
  {
   "cell_type": "code",
   "execution_count": 39,
   "metadata": {},
   "outputs": [
    {
     "data": {
      "text/latex": [
       "\\[\n",
       "\\begin{aligned}\n",
       "\\varepsilon_{s} &= \\frac{ d_{1} - \\frac{ 5 }{ 4 } \\cdot y_{C} }{ \\frac{ 5 }{ 4 } \\cdot y_{C} } \\cdot \\frac{ 0.35 }{ 100 } \\cdot \\frac{1} { \\xi_{CMC} } \\\\&= \\frac{ 420.00\\ \\text{mm} - \\frac{ 5 }{ 4 } \\cdot 123.80\\ \\text{mm} }{ \\frac{ 5 }{ 4 } \\cdot 123.80\\ \\text{mm} } \\cdot \\frac{ 0.35 }{ 100 } \\cdot \\frac{1} { 9.68 \\times 10 ^ {-1 } } \\\\&= 6.20 \\times 10 ^ {-3 }  \\\\\n",
       "\\\\[10pt]\n",
       "\\varepsilon_{smin} &= \\frac{ \\mathrm{fyk}_{20} }{ E_{s20} } + \\frac{ 0.2 }{ 100 }  = \\frac{ 500.00\\ \\text{MPa} }{ 200.00\\ \\text{GPa} } + \\frac{ 0.2 }{ 100 } &= 4.50 \\times 10 ^ {-3 }  \n",
       "\\end{aligned}\n",
       "\\]"
      ],
      "text/plain": [
       "<IPython.core.display.Latex object>"
      ]
     },
     "metadata": {},
     "output_type": "display_data"
    }
   ],
   "source": [
    "%%render 2\n",
    "\n",
    "varepsilon_s = (d_1-5/4*y_C)/(5/4*y_C)*0.35/100/xi_CMC\n",
    "varepsilon_smin = fyk_20/E_s20 + 0.2/100"
   ]
  },
  {
   "cell_type": "code",
   "execution_count": 40,
   "metadata": {},
   "outputs": [
    {
     "data": {
      "text/markdown": [
       "The beam is verified for fire"
      ],
      "text/plain": [
       "<IPython.core.display.Markdown object>"
      ]
     },
     "metadata": {},
     "output_type": "display_data"
    }
   ],
   "source": [
    "if varepsilon_s>varepsilon_smin and mu_H<1 and mu_C<1:\n",
    "    display(Markdown('The beam is verified for fire'))\n",
    "else:\n",
    "    display(Markdown('The beam is not verified for fire'))"
   ]
  }
 ],
 "metadata": {
  "interpreter": {
   "hash": "e42634819b8c191a5d07eaf23810ff32516dd8d3875f28ec3e488928fbd3c187"
  },
  "kernelspec": {
   "display_name": "Python 3 (ipykernel)",
   "language": "python",
   "name": "python3"
  },
  "language_info": {
   "codemirror_mode": {
    "name": "ipython",
    "version": 3
   },
   "file_extension": ".py",
   "mimetype": "text/x-python",
   "name": "python",
   "nbconvert_exporter": "python",
   "pygments_lexer": "ipython3",
   "version": "3.8.13"
  }
 },
 "nbformat": 4,
 "nbformat_minor": 4
}
