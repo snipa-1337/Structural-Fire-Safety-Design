{
 "cells": [
  {
   "cell_type": "code",
   "execution_count": 18,
   "metadata": {},
   "outputs": [],
   "source": [
    "import numpy as np\n",
    "import pandas as pd\n",
    "pd.options.mode.chained_assignment = None  # default='warn'\n",
    "import sympy as sp\n",
    "import handcalcs.render\n",
    "import forallpeople as si\n",
    "import matplotlib.pyplot as plt\n",
    "%matplotlib inline\n",
    "from math import tan, sin,cos, pi, radians, sqrt, trunc\n",
    "from IPython.display import display, Markdown\n",
    "si.environment('structural', top_level=True)"
   ]
  },
  {
   "cell_type": "markdown",
   "metadata": {},
   "source": [
    "<h2>KBE Beam verification</h2>\n",
    "\n",
    "<h3>Compartment: Gym</h3>\n",
    "\n",
    "* Add picture of beam"
   ]
  },
  {
   "cell_type": "markdown",
   "metadata": {},
   "source": [
    "<h4>Loads</h4>"
   ]
  },
  {
   "cell_type": "code",
   "execution_count": 19,
   "metadata": {},
   "outputs": [
    {
     "data": {
      "text/latex": [
       "\\[\n",
       "\\begin{aligned}\n",
       "\\psi_{11} &= 0.4 \\; \n",
       "\\\\[10pt]\n",
       "G_{k} &= \\frac{ 27.49 }{ 1.1 } \\cdot \\frac{ \\mathrm{kN} }{ m }  = \\frac{ 27.49 }{ 1.1 } \\cdot \\frac{ kN }{ m } &= 24.99\\ \\text{kN/m}  \n",
       "\\\\[10pt]\n",
       "Q_{k} &= 5.8 \\cdot 4.6 \\cdot \\frac{ \\mathrm{kN} }{ m }  = 5.8 \\cdot 4.6 \\cdot \\frac{ kN }{ m } &= 26.68\\ \\text{kN/m}  \n",
       "\\end{aligned}\n",
       "\\]"
      ],
      "text/plain": [
       "<IPython.core.display.Latex object>"
      ]
     },
     "metadata": {},
     "output_type": "display_data"
    }
   ],
   "source": [
    "%%render 2\n",
    "\n",
    "psi_11 = 0.4\n",
    "G_k = 27.49/1.1*kN/m\n",
    "Q_k = 5.8*4.6*kN/m"
   ]
  },
  {
   "cell_type": "markdown",
   "metadata": {},
   "source": [
    "Load combination for fire:"
   ]
  },
  {
   "cell_type": "code",
   "execution_count": 20,
   "metadata": {},
   "outputs": [
    {
     "data": {
      "text/latex": [
       "\\[\n",
       "\\begin{aligned}\n",
       "q_{d} &= G_{k} + \\psi_{11} \\cdot Q_{k}  = 24.99\\ \\text{kN/m} + 0.4 \\cdot 26.68\\ \\text{kN/m} &= 35.66\\ \\text{kN/m}  \n",
       "\\end{aligned}\n",
       "\\]"
      ],
      "text/plain": [
       "<IPython.core.display.Latex object>"
      ]
     },
     "metadata": {},
     "output_type": "display_data"
    }
   ],
   "source": [
    "%%render 2\n",
    "q_d = G_k+psi_11*Q_k"
   ]
  },
  {
   "cell_type": "markdown",
   "metadata": {},
   "source": [
    "<h4>Beam parameters</h4>"
   ]
  },
  {
   "cell_type": "code",
   "execution_count": 33,
   "metadata": {},
   "outputs": [
    {
     "data": {
      "text/latex": [
       "\\[\n",
       "\\begin{aligned}\n",
       "L &= 9.60\\ \\text{m} \\; \n",
       " &b &= 270.00\\ \\text{mm} \\; \n",
       " &d &= 585.00\\ \\text{mm} \\; \n",
       "\\\\[10pt]\n",
       " A_{t} &= 234000.00\\ \\text{mm}^{2} \\; \n",
       " &\\mathrm{fck}_{20} &= 45.00\\ \\text{MPa} \\; \n",
       " &\\mathrm{fyk}_{20} &= 500.00\\ \\text{MPa} \\; \n",
       "\\\\[10pt]\n",
       " \\phi_{s} &= 12.50\\ \\text{mm} \\; \n",
       " &A_{w} &= 93.00\\ \\text{mm}^{2} \\; \n",
       " &A_{p} &= 1488.00\\ \\text{mm}^{2} \\; \n",
       "\\\\[10pt]\n",
       " E_{s20} &= 195.00\\ \\text{GPa} \\;\\end{aligned}\n",
       "\\]"
      ],
      "text/plain": [
       "<IPython.core.display.Latex object>"
      ]
     },
     "metadata": {},
     "output_type": "display_data"
    }
   ],
   "source": [
    "%%render param 2\n",
    "\n",
    "L = 9.6*m\n",
    "b = 270*mm\n",
    "d = 585*mm\n",
    "A_t = 2.34*10**5*mm**2\n",
    "fck_20 = 45*MPa\n",
    "fyk_20 = 500*MPa\n",
    "phi_s = 12.5*mm\n",
    "A_w = 93*mm**2\n",
    "A_p = 16*A_w\n",
    "E_s20 = 195*GPa\n"
   ]
  },
  {
   "cell_type": "markdown",
   "metadata": {},
   "source": [
    "From CONFIRE"
   ]
  },
  {
   "cell_type": "markdown",
   "metadata": {},
   "source": [
    "* Add correct cross section geometry in CONFIRE and compartment properties"
   ]
  },
  {
   "cell_type": "code",
   "execution_count": 22,
   "metadata": {},
   "outputs": [
    {
     "data": {
      "text/latex": [
       "\\[\n",
       "\\begin{aligned}\n",
       "T_{max} &= 284.00\\ \\text{°C} \\; \n",
       " &T_{cold} &= 286.00\\ \\text{°C} \\; \n",
       " &\\xi_{CMH} &= 1.0 \\; \n",
       "\\\\[10pt]\n",
       " \\xi_{CMC} &= 9.66 \\times 10 ^ {-1 } \\;\\end{aligned}\n",
       "\\]"
      ],
      "text/plain": [
       "<IPython.core.display.Latex object>"
      ]
     },
     "metadata": {},
     "output_type": "display_data"
    }
   ],
   "source": [
    "%%render param 2\n",
    "\n",
    "T_max = (284*dC)\n",
    "T_cold = (286*dC) \n",
    "xi_CMH = 0.9983\n",
    "xi_CMC = 0.9659"
   ]
  },
  {
   "cell_type": "code",
   "execution_count": 23,
   "metadata": {},
   "outputs": [],
   "source": [
    "cte = pd.read_excel('strength-reduction-constants.xlsx')"
   ]
  },
  {
   "cell_type": "code",
   "execution_count": 24,
   "metadata": {},
   "outputs": [
    {
     "data": {
      "text/html": [
       "<div>\n",
       "<style scoped>\n",
       "    .dataframe tbody tr th:only-of-type {\n",
       "        vertical-align: middle;\n",
       "    }\n",
       "\n",
       "    .dataframe tbody tr th {\n",
       "        vertical-align: top;\n",
       "    }\n",
       "\n",
       "    .dataframe thead th {\n",
       "        text-align: right;\n",
       "    }\n",
       "</style>\n",
       "<table border=\"1\" class=\"dataframe\">\n",
       "  <thead>\n",
       "    <tr style=\"text-align: right;\">\n",
       "      <th></th>\n",
       "      <th>Material</th>\n",
       "      <th>k</th>\n",
       "      <th>T1</th>\n",
       "      <th>T2</th>\n",
       "      <th>T8</th>\n",
       "      <th>T64</th>\n",
       "    </tr>\n",
       "  </thead>\n",
       "  <tbody>\n",
       "    <tr>\n",
       "      <th>0</th>\n",
       "      <td>Hot rolled bars 0.2 % stress</td>\n",
       "      <td>0.000</td>\n",
       "      <td>6000</td>\n",
       "      <td>620</td>\n",
       "      <td>565</td>\n",
       "      <td>1100</td>\n",
       "    </tr>\n",
       "    <tr>\n",
       "      <th>1</th>\n",
       "      <td>Hot rolled bars 2.0 % stress</td>\n",
       "      <td>0.000</td>\n",
       "      <td>100000</td>\n",
       "      <td>100000</td>\n",
       "      <td>593</td>\n",
       "      <td>100000</td>\n",
       "    </tr>\n",
       "    <tr>\n",
       "      <th>2</th>\n",
       "      <td>Hot rolled bars 0.2 % residual stress</td>\n",
       "      <td>1.000</td>\n",
       "      <td>100000</td>\n",
       "      <td>100000</td>\n",
       "      <td>100000</td>\n",
       "      <td>100000</td>\n",
       "    </tr>\n",
       "    <tr>\n",
       "      <th>3</th>\n",
       "      <td>Hot rolled bars 2.0 % residual stress</td>\n",
       "      <td>1.000</td>\n",
       "      <td>100000</td>\n",
       "      <td>100000</td>\n",
       "      <td>100000</td>\n",
       "      <td>100000</td>\n",
       "    </tr>\n",
       "    <tr>\n",
       "      <th>4</th>\n",
       "      <td>Cold worked bars 0.2 % stress</td>\n",
       "      <td>0.000</td>\n",
       "      <td>100000</td>\n",
       "      <td>900</td>\n",
       "      <td>555</td>\n",
       "      <td>100000</td>\n",
       "    </tr>\n",
       "    <tr>\n",
       "      <th>5</th>\n",
       "      <td>Cold worked bars 2.0 % stress</td>\n",
       "      <td>0.000</td>\n",
       "      <td>100000</td>\n",
       "      <td>5000</td>\n",
       "      <td>560</td>\n",
       "      <td>100000</td>\n",
       "    </tr>\n",
       "    <tr>\n",
       "      <th>6</th>\n",
       "      <td>Cold worked bars 0.2 % residual stress</td>\n",
       "      <td>0.580</td>\n",
       "      <td>100000</td>\n",
       "      <td>5000</td>\n",
       "      <td>590</td>\n",
       "      <td>730</td>\n",
       "    </tr>\n",
       "    <tr>\n",
       "      <th>7</th>\n",
       "      <td>Cold worked bars 2.0 % residual stress</td>\n",
       "      <td>0.520</td>\n",
       "      <td>100000</td>\n",
       "      <td>1500</td>\n",
       "      <td>580</td>\n",
       "      <td>650</td>\n",
       "    </tr>\n",
       "    <tr>\n",
       "      <th>8</th>\n",
       "      <td>C-w prestressing steel 0.2 % stress</td>\n",
       "      <td>0.000</td>\n",
       "      <td>2000</td>\n",
       "      <td>360</td>\n",
       "      <td>430</td>\n",
       "      <td>100000</td>\n",
       "    </tr>\n",
       "    <tr>\n",
       "      <th>9</th>\n",
       "      <td>C-w prestressing steel 2.0 % stress</td>\n",
       "      <td>0.000</td>\n",
       "      <td>100000</td>\n",
       "      <td>490</td>\n",
       "      <td>450</td>\n",
       "      <td>100000</td>\n",
       "    </tr>\n",
       "    <tr>\n",
       "      <th>10</th>\n",
       "      <td>C-w prestressing steel 0.2 % residual stress</td>\n",
       "      <td>0.200</td>\n",
       "      <td>100000</td>\n",
       "      <td>750</td>\n",
       "      <td>550</td>\n",
       "      <td>650</td>\n",
       "    </tr>\n",
       "    <tr>\n",
       "      <th>11</th>\n",
       "      <td>C-w prestressing steel 2.0 % residual stress</td>\n",
       "      <td>0.200</td>\n",
       "      <td>100000</td>\n",
       "      <td>950</td>\n",
       "      <td>550</td>\n",
       "      <td>650</td>\n",
       "    </tr>\n",
       "    <tr>\n",
       "      <th>12</th>\n",
       "      <td>Quenched and Tempered 1500 MPa 0.2% stress</td>\n",
       "      <td>0.000</td>\n",
       "      <td>1100</td>\n",
       "      <td>100000</td>\n",
       "      <td>430</td>\n",
       "      <td>100000</td>\n",
       "    </tr>\n",
       "    <tr>\n",
       "      <th>13</th>\n",
       "      <td>Quenched and Tempered 1500 MPa 2.0% stress</td>\n",
       "      <td>0.000</td>\n",
       "      <td>3000</td>\n",
       "      <td>1400</td>\n",
       "      <td>450</td>\n",
       "      <td>100000</td>\n",
       "    </tr>\n",
       "    <tr>\n",
       "      <th>14</th>\n",
       "      <td>Quenched and Temp 1500 MPa 0.2% res stress</td>\n",
       "      <td>0.213</td>\n",
       "      <td>100000</td>\n",
       "      <td>10000</td>\n",
       "      <td>590</td>\n",
       "      <td>660</td>\n",
       "    </tr>\n",
       "    <tr>\n",
       "      <th>15</th>\n",
       "      <td>Quenched and Temp 1500 MPa 2.0% resstress</td>\n",
       "      <td>0.213</td>\n",
       "      <td>100000</td>\n",
       "      <td>10000</td>\n",
       "      <td>590</td>\n",
       "      <td>660</td>\n",
       "    </tr>\n",
       "    <tr>\n",
       "      <th>16</th>\n",
       "      <td>Quenched and Self-temp 550 MPa 0.2% stress</td>\n",
       "      <td>0.000</td>\n",
       "      <td>100000</td>\n",
       "      <td>1150</td>\n",
       "      <td>540</td>\n",
       "      <td>700</td>\n",
       "    </tr>\n",
       "    <tr>\n",
       "      <th>17</th>\n",
       "      <td>Quenched and Self-temp 550 MPa 2.0% stress</td>\n",
       "      <td>0.000</td>\n",
       "      <td>100000</td>\n",
       "      <td>100000</td>\n",
       "      <td>590</td>\n",
       "      <td>700</td>\n",
       "    </tr>\n",
       "    <tr>\n",
       "      <th>18</th>\n",
       "      <td>Quenched and Self-temp 550 MPa 0.2% res stress</td>\n",
       "      <td>0.418</td>\n",
       "      <td>100000</td>\n",
       "      <td>100000</td>\n",
       "      <td>700</td>\n",
       "      <td>900</td>\n",
       "    </tr>\n",
       "    <tr>\n",
       "      <th>19</th>\n",
       "      <td>Quenched and Self-temp 550 MPa 2.0% resstress</td>\n",
       "      <td>0.437</td>\n",
       "      <td>100000</td>\n",
       "      <td>100000</td>\n",
       "      <td>700</td>\n",
       "      <td>900</td>\n",
       "    </tr>\n",
       "    <tr>\n",
       "      <th>20</th>\n",
       "      <td>Siliceous concrete HOT</td>\n",
       "      <td>0.000</td>\n",
       "      <td>15000</td>\n",
       "      <td>800</td>\n",
       "      <td>570</td>\n",
       "      <td>100000</td>\n",
       "    </tr>\n",
       "    <tr>\n",
       "      <th>21</th>\n",
       "      <td>Siliceous concrete COLD</td>\n",
       "      <td>0.000</td>\n",
       "      <td>3500</td>\n",
       "      <td>600</td>\n",
       "      <td>480</td>\n",
       "      <td>680</td>\n",
       "    </tr>\n",
       "    <tr>\n",
       "      <th>22</th>\n",
       "      <td>Main group concrete HOT</td>\n",
       "      <td>0.000</td>\n",
       "      <td>100000</td>\n",
       "      <td>1080</td>\n",
       "      <td>690</td>\n",
       "      <td>1000</td>\n",
       "    </tr>\n",
       "    <tr>\n",
       "      <th>23</th>\n",
       "      <td>Main group concrete COLD</td>\n",
       "      <td>0.000</td>\n",
       "      <td>10000</td>\n",
       "      <td>780</td>\n",
       "      <td>490</td>\n",
       "      <td>100000</td>\n",
       "    </tr>\n",
       "    <tr>\n",
       "      <th>24</th>\n",
       "      <td>Light aggregate concrete HOT</td>\n",
       "      <td>0.000</td>\n",
       "      <td>100000</td>\n",
       "      <td>1100</td>\n",
       "      <td>800</td>\n",
       "      <td>940</td>\n",
       "    </tr>\n",
       "    <tr>\n",
       "      <th>25</th>\n",
       "      <td>Light aggregate concrete COLD</td>\n",
       "      <td>0.000</td>\n",
       "      <td>40000</td>\n",
       "      <td>650</td>\n",
       "      <td>830</td>\n",
       "      <td>930</td>\n",
       "    </tr>\n",
       "  </tbody>\n",
       "</table>\n",
       "</div>"
      ],
      "text/plain": [
       "                                           Material     k      T1      T2   \\\n",
       "0                     Hot rolled bars 0.2 % stress   0.000    6000     620   \n",
       "1                     Hot rolled bars 2.0 % stress   0.000  100000  100000   \n",
       "2            Hot rolled bars 0.2 % residual stress   1.000  100000  100000   \n",
       "3            Hot rolled bars 2.0 % residual stress   1.000  100000  100000   \n",
       "4                    Cold worked bars 0.2 % stress   0.000  100000     900   \n",
       "5                    Cold worked bars 2.0 % stress   0.000  100000    5000   \n",
       "6           Cold worked bars 0.2 % residual stress   0.580  100000    5000   \n",
       "7           Cold worked bars 2.0 % residual stress   0.520  100000    1500   \n",
       "8              C-w prestressing steel 0.2 % stress   0.000    2000     360   \n",
       "9              C-w prestressing steel 2.0 % stress   0.000  100000     490   \n",
       "10    C-w prestressing steel 0.2 % residual stress   0.200  100000     750   \n",
       "11    C-w prestressing steel 2.0 % residual stress   0.200  100000     950   \n",
       "12      Quenched and Tempered 1500 MPa 0.2% stress   0.000    1100  100000   \n",
       "13      Quenched and Tempered 1500 MPa 2.0% stress   0.000    3000    1400   \n",
       "14      Quenched and Temp 1500 MPa 0.2% res stress   0.213  100000   10000   \n",
       "15       Quenched and Temp 1500 MPa 2.0% resstress   0.213  100000   10000   \n",
       "16      Quenched and Self-temp 550 MPa 0.2% stress   0.000  100000    1150   \n",
       "17      Quenched and Self-temp 550 MPa 2.0% stress   0.000  100000  100000   \n",
       "18  Quenched and Self-temp 550 MPa 0.2% res stress   0.418  100000  100000   \n",
       "19   Quenched and Self-temp 550 MPa 2.0% resstress   0.437  100000  100000   \n",
       "20                          Siliceous concrete HOT   0.000   15000     800   \n",
       "21                         Siliceous concrete COLD   0.000    3500     600   \n",
       "22                         Main group concrete HOT   0.000  100000    1080   \n",
       "23                        Main group concrete COLD   0.000   10000     780   \n",
       "24                    Light aggregate concrete HOT   0.000  100000    1100   \n",
       "25                   Light aggregate concrete COLD   0.000   40000     650   \n",
       "\n",
       "       T8      T64  \n",
       "0      565    1100  \n",
       "1      593  100000  \n",
       "2   100000  100000  \n",
       "3   100000  100000  \n",
       "4      555  100000  \n",
       "5      560  100000  \n",
       "6      590     730  \n",
       "7      580     650  \n",
       "8      430  100000  \n",
       "9      450  100000  \n",
       "10     550     650  \n",
       "11     550     650  \n",
       "12     430  100000  \n",
       "13     450  100000  \n",
       "14     590     660  \n",
       "15     590     660  \n",
       "16     540     700  \n",
       "17     590     700  \n",
       "18     700     900  \n",
       "19     700     900  \n",
       "20     570  100000  \n",
       "21     480     680  \n",
       "22     690    1000  \n",
       "23     490  100000  \n",
       "24     800     940  \n",
       "25     830     930  "
      ]
     },
     "execution_count": 24,
     "metadata": {},
     "output_type": "execute_result"
    }
   ],
   "source": [
    "cte"
   ]
  },
  {
   "cell_type": "code",
   "execution_count": 25,
   "metadata": {},
   "outputs": [],
   "source": [
    "def material_constants(mat_index):\n",
    "    k = cte['k '][mat_index]\n",
    "    T1 = cte['T1 '][mat_index]*dC\n",
    "    T2 = cte['T2 '][mat_index]*dC\n",
    "    T8 = cte['T8 '][mat_index]*dC\n",
    "    T64 = cte['T64'][mat_index]*dC\n",
    "    return k, T1, T2, T8, T64\n",
    "\n"
   ]
  },
  {
   "cell_type": "code",
   "execution_count": 26,
   "metadata": {},
   "outputs": [],
   "source": [
    "from handcalcs import handcalc\n",
    "@handcalc(jupyter_display = True)\n",
    "def material_deterioration(T,k,T1,T2,T8,T64):\n",
    "    \"\"\"\n",
    "    Calculate the deterioration of a material.\n",
    "    \"\"\"\n",
    "    xi = k + (1-k)/(1+T/T1+(T/T2)**2+(T/T8)**8+(T/T64)**64)\n",
    "    return xi\n"
   ]
  },
  {
   "cell_type": "code",
   "execution_count": 27,
   "metadata": {},
   "outputs": [
    {
     "data": {
      "text/latex": [
       "\\[\n",
       "\\begin{aligned}\n",
       "\\xi &= k + \\frac{ 1 - k }{ 1 + \\frac{ T }{ \\mathrm{T1} } + \\left( \\frac{ T }{ \\mathrm{T2} } \\right) ^{ 2 } + \\left( \\frac{ T }{ \\mathrm{T8} } \\right) ^{ 8 } + \\left( \\frac{ T }{ \\mathrm{T64} } \\right) ^{ 64 } } \\\\&= 0.0 + \\frac{ 1 - 0.0 }{ 1 + \\frac{ 284.000\\ \\text{°C} }{ 2.000\\ \\text{k°C} } + \\left( \\frac{ 284.000\\ \\text{°C} }{ 360.000\\ \\text{°C} } \\right) ^{ 2 } + \\left( \\frac{ 284.000\\ \\text{°C} }{ 430.000\\ \\text{°C} } \\right) ^{ 8 } + \\left( \\frac{ 284.000\\ \\text{°C} }{ 100.000\\ \\text{k°C} } \\right) ^{ 64 } } \\\\&= 5.554 \\times 10 ^ {-1 }  \\\\\n",
       "\\end{aligned}\n",
       "\\]"
      ],
      "text/plain": [
       "<IPython.core.display.Latex object>"
      ]
     },
     "metadata": {},
     "output_type": "display_data"
    },
    {
     "data": {
      "text/latex": [
       "\\[\n",
       "\\begin{aligned}\n",
       "\\xi &= k + \\frac{ 1 - k }{ 1 + \\frac{ T }{ \\mathrm{T1} } + \\left( \\frac{ T }{ \\mathrm{T2} } \\right) ^{ 2 } + \\left( \\frac{ T }{ \\mathrm{T8} } \\right) ^{ 8 } + \\left( \\frac{ T }{ \\mathrm{T64} } \\right) ^{ 64 } } \\\\&= 0.2 + \\frac{ 1 - 0.2 }{ 1 + \\frac{ 286.000\\ \\text{°C} }{ 100.000\\ \\text{k°C} } + \\left( \\frac{ 286.000\\ \\text{°C} }{ 750.000\\ \\text{°C} } \\right) ^{ 2 } + \\left( \\frac{ 286.000\\ \\text{°C} }{ 550.000\\ \\text{°C} } \\right) ^{ 8 } + \\left( \\frac{ 286.000\\ \\text{°C} }{ 650.000\\ \\text{°C} } \\right) ^{ 64 } } \\\\&= 8.935 \\times 10 ^ {-1 }  \\\\\n",
       "\\end{aligned}\n",
       "\\]"
      ],
      "text/plain": [
       "<IPython.core.display.Latex object>"
      ]
     },
     "metadata": {},
     "output_type": "display_data"
    }
   ],
   "source": [
    "k, T1, T2, T8, T64 = material_constants(8)\n",
    "xi_sH = material_deterioration(T_max,k,T1,T2,T8,T64)\n",
    "k, T1, T2, T8, T64 = material_constants(10)\n",
    "xi_sC = material_deterioration(T_cold,k,T1,T2,T8,T64)"
   ]
  },
  {
   "cell_type": "markdown",
   "metadata": {},
   "source": [
    "**Before fire**"
   ]
  },
  {
   "cell_type": "markdown",
   "metadata": {},
   "source": [
    "Using effective prestress strength per wire = 110 kN, provided by the supplier"
   ]
  },
  {
   "cell_type": "code",
   "execution_count": 41,
   "metadata": {},
   "outputs": [
    {
     "data": {
      "text/latex": [
       "\\[\n",
       "\\begin{aligned}\n",
       "M_{max_{fi}} &= q_{d} \\cdot \\frac{ \\left( L \\right) ^{ 2 } }{ 8 }  = 35.66\\ \\text{kN/m} \\cdot \\frac{ \\left( 9.60\\ \\text{m} \\right) ^{ 2 } }{ 8 } &= 410.84\\ \\text{kN} \\cdot \\text{m}  \n",
       "\\\\[10pt]\n",
       "F_{su20} &= 110.00\\ \\text{kN} \\; \n",
       "\\\\[10pt]\n",
       "y_{20} &= 16 \\cdot \\frac{ F_{su20} }{ \\mathrm{fck}_{20} \\cdot b }  = 16 \\cdot \\frac{ 110.00\\ \\text{kN} }{ 45.00\\ \\text{MPa} \\cdot 270.00\\ \\text{mm} } &= 144.86\\ \\text{mm}  \n",
       "\\\\[10pt]\n",
       "M_{u20} &= 16 \\cdot F_{su20} \\cdot \\left( d - \\frac{ y_{20} }{ 2 } \\right)  = 16 \\cdot 110.00\\ \\text{kN} \\cdot \\left( 585.00\\ \\text{mm} - \\frac{ 144.86\\ \\text{mm} }{ 2 } \\right) &= 902.13\\ \\text{kN} \\cdot \\text{m}  \n",
       "\\\\[10pt]\n",
       "\\mu_{20} &= \\frac{ M_{max_{fi}} }{ M_{u20} }  = \\frac{ 410.84\\ \\text{kN} \\cdot \\text{m} }{ 902.13\\ \\text{kN} \\cdot \\text{m} } &= 4.55 \\times 10 ^ {-1 }  \n",
       "\\end{aligned}\n",
       "\\]"
      ],
      "text/plain": [
       "<IPython.core.display.Latex object>"
      ]
     },
     "metadata": {},
     "output_type": "display_data"
    }
   ],
   "source": [
    "%%render 2\n",
    "\n",
    "M_max_fi = q_d*L**2/8\n",
    "F_su20 = (110*kN)\n",
    "y_20 = 16*F_su20/(fck_20*b)\n",
    "M_u20 = 16*F_su20*(d-y_20/2)\n",
    "mu_20 = M_max_fi/M_u20"
   ]
  },
  {
   "cell_type": "markdown",
   "metadata": {},
   "source": [
    "**HOT - During fire**"
   ]
  },
  {
   "cell_type": "code",
   "execution_count": 29,
   "metadata": {},
   "outputs": [
    {
     "data": {
      "text/latex": [
       "\\[\n",
       "\\begin{aligned}\n",
       "F_{sufi} &= \\xi_{sH} \\cdot F_{su20}  = 5.55 \\times 10 ^ {-1 } \\cdot 110.00\\ \\text{kN} &= 61.09\\ \\text{kN}  \n",
       "\\\\[10pt]\n",
       "y_{H} &= \\frac{ F_{sufi} }{ \\xi_{CMH} \\cdot \\mathrm{fck}_{20} \\cdot b }  = \\frac{ 61.09\\ \\text{kN} }{ 1.0 \\cdot 45.00\\ \\text{MPa} \\cdot 270.00\\ \\text{mm} } &= 5.04\\ \\text{mm}  \n",
       "\\\\[10pt]\n",
       "M_{u_{fi}} &= F_{sufi} \\cdot \\left( d - 0.5 \\cdot y_{H} \\right)  = 61.09\\ \\text{kN} \\cdot \\left( 585.00\\ \\text{mm} - 0.5 \\cdot 5.04\\ \\text{mm} \\right) &= 35.59\\ \\text{kN} \\cdot \\text{m}  \n",
       "\\\\[10pt]\n",
       "\\mu_{fi} &= \\frac{ M_{max_{fi}} }{ M_{u_{fi}} }  = \\frac{ 410.84\\ \\text{kN} \\cdot \\text{m} }{ 35.59\\ \\text{kN} \\cdot \\text{m} } &= 11.55  \n",
       "\\end{aligned}\n",
       "\\]"
      ],
      "text/plain": [
       "<IPython.core.display.Latex object>"
      ]
     },
     "metadata": {},
     "output_type": "display_data"
    }
   ],
   "source": [
    "%%render 2\n",
    "\n",
    "F_sufi = xi_sH*F_su20\n",
    "y_H = F_sufi/(xi_CMH*fck_20*b)\n",
    "M_u_fi = F_sufi*(d-0.5*y_H)\n",
    "mu_fi = M_max_fi/M_u_fi"
   ]
  },
  {
   "cell_type": "markdown",
   "metadata": {},
   "source": [
    "**COLD - After fire**"
   ]
  },
  {
   "cell_type": "code",
   "execution_count": 30,
   "metadata": {},
   "outputs": [
    {
     "data": {
      "text/latex": [
       "\\[\n",
       "\\begin{aligned}\n",
       "F_{suC} &= \\xi_{sC} \\cdot F_{su20}  = 8.93 \\times 10 ^ {-1 } \\cdot 110.00\\ \\text{kN} &= 98.28\\ \\text{kN}  \n",
       "\\\\[10pt]\n",
       "y_{C} &= \\frac{ F_{suC} }{ \\xi_{CMC} \\cdot \\mathrm{fck}_{20} \\cdot b }  = \\frac{ 98.28\\ \\text{kN} }{ 9.66 \\times 10 ^ {-1 } \\cdot 45.00\\ \\text{MPa} \\cdot 270.00\\ \\text{mm} } &= 8.37\\ \\text{mm}  \n",
       "\\\\[10pt]\n",
       "M_{u_{C}} &= F_{suC} \\cdot \\left( d - \\frac{ y_{C} }{ 2 } \\right)  = 98.28\\ \\text{kN} \\cdot \\left( 585.00\\ \\text{mm} - \\frac{ 8.37\\ \\text{mm} }{ 2 } \\right) &= 57.08\\ \\text{kN} \\cdot \\text{m}  \n",
       "\\\\[10pt]\n",
       "\\mu_{C} &= \\frac{ M_{max_{fi}} }{ M_{u_{C}} }  = \\frac{ 410.84\\ \\text{kN} \\cdot \\text{m} }{ 57.08\\ \\text{kN} \\cdot \\text{m} } &= 7.2  \n",
       "\\end{aligned}\n",
       "\\]"
      ],
      "text/plain": [
       "<IPython.core.display.Latex object>"
      ]
     },
     "metadata": {},
     "output_type": "display_data"
    }
   ],
   "source": [
    "%%render 2\n",
    "\n",
    "F_suC = xi_sC*F_su20\n",
    "y_C = F_suC/(xi_CMC*fck_20*b)\n",
    "M_u_C = F_suC*(d-y_C/2)\n",
    "mu_C = M_max_fi/M_u_C"
   ]
  },
  {
   "cell_type": "markdown",
   "metadata": {},
   "source": [
    "Over-reinforcment check"
   ]
  },
  {
   "cell_type": "code",
   "execution_count": 31,
   "metadata": {},
   "outputs": [
    {
     "data": {
      "text/latex": [
       "\\[\n",
       "\\begin{aligned}\n",
       "\\varepsilon_{s} &= \\frac{ d - \\frac{ 5 }{ 4 } \\cdot y_{C} }{ \\frac{ 5 }{ 4 } \\cdot y_{C} } \\cdot \\frac{ 0.35 }{ 100 } \\cdot \\frac{1} { \\xi_{CMC} } \\\\&= \\frac{ 585.00\\ \\text{mm} - \\frac{ 5 }{ 4 } \\cdot 8.37\\ \\text{mm} }{ \\frac{ 5 }{ 4 } \\cdot 8.37\\ \\text{mm} } \\cdot \\frac{ 0.35 }{ 100 } \\cdot \\frac{1} { 9.66 \\times 10 ^ {-1 } } \\\\&= 1.99 \\times 10 ^ {-1 }  \\\\\n",
       "\\\\[10pt]\n",
       "\\varepsilon_{smin} &= \\frac{ \\mathrm{fyk}_{20} }{ E_{s20} }  = \\frac{ 500.00\\ \\text{MPa} }{ 200.00\\ \\text{GPa} } &= 2.50 \\times 10 ^ {-3 }  \n",
       "\\end{aligned}\n",
       "\\]"
      ],
      "text/plain": [
       "<IPython.core.display.Latex object>"
      ]
     },
     "metadata": {},
     "output_type": "display_data"
    }
   ],
   "source": [
    "%%render 2\n",
    "\n",
    "varepsilon_s = (d-5/4*y_C)/(5/4*y_C)*0.35/100/xi_CMC\n",
    "varepsilon_smin = fyk_20/E_s20"
   ]
  },
  {
   "cell_type": "code",
   "execution_count": 32,
   "metadata": {},
   "outputs": [
    {
     "data": {
      "text/markdown": [
       "The beam is not verified for fire"
      ],
      "text/plain": [
       "<IPython.core.display.Markdown object>"
      ]
     },
     "metadata": {},
     "output_type": "display_data"
    }
   ],
   "source": [
    "if varepsilon_s>varepsilon_smin and mu_fi<1:\n",
    "    display(Markdown('The beam is verified for fire'))\n",
    "else:\n",
    "    display(Markdown('The beam is not verified for fire'))"
   ]
  }
 ],
 "metadata": {
  "interpreter": {
   "hash": "73e03da126b73bfff3642ec5261d56fa25c444ea595de51041687efaa60dda41"
  },
  "kernelspec": {
   "display_name": "Python 3 (ipykernel)",
   "language": "python",
   "name": "python3"
  },
  "language_info": {
   "codemirror_mode": {
    "name": "ipython",
    "version": 3
   },
   "file_extension": ".py",
   "mimetype": "text/x-python",
   "name": "python",
   "nbconvert_exporter": "python",
   "pygments_lexer": "ipython3",
   "version": "3.8.12"
  }
 },
 "nbformat": 4,
 "nbformat_minor": 4
}
