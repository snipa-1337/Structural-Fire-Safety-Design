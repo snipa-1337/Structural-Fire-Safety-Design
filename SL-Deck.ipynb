{
 "cells": [
  {
   "cell_type": "code",
   "execution_count": 1,
   "metadata": {},
   "outputs": [],
   "source": [
    "import numpy as np\n",
    "import pandas as pd\n",
    "pd.options.mode.chained_assignment = None  # default='warn'\n",
    "import sympy as sp\n",
    "import handcalcs.render\n",
    "import forallpeople as si\n",
    "import matplotlib.pyplot as plt\n",
    "%matplotlib inline\n",
    "from math import tan, sin,cos, pi, radians, sqrt, trunc\n",
    "from IPython.display import display, Markdown\n",
    "si.environment('structural', top_level=True)"
   ]
  },
  {
   "cell_type": "markdown",
   "metadata": {},
   "source": [
    "<h2>SL-Deck verification</h2>\n",
    "\n",
    "<h3>Compartment beneath: Office workplace</h3>\n",
    "<h4>Loads</h4>"
   ]
  },
  {
   "cell_type": "code",
   "execution_count": 2,
   "metadata": {},
   "outputs": [
    {
     "data": {
      "text/latex": [
       "\\[\n",
       "\\begin{aligned}\n",
       "\\psi_{11} &= 0.4 \\; \n",
       "\\\\[10pt]\n",
       "G_{k} &= \\left( 3.88 + 1.21 \\right) \\cdot \\frac{ \\mathrm{kN} }{ \\left( m \\right) ^{ 2 } }  = \\left( 3.88 + 1.21 \\right) \\cdot \\frac{ kN }{ \\left( m \\right) ^{ 2 } } &= 5.09\\ \\text{kPa}  \n",
       "\\\\[10pt]\n",
       "Q_{k} &= 4.81 \\cdot \\frac{ \\mathrm{kN} }{ \\left( m \\right) ^{ 2 } }  = 4.81 \\cdot \\frac{ kN }{ \\left( m \\right) ^{ 2 } } &= 4.81\\ \\text{kPa}  \n",
       "\\end{aligned}\n",
       "\\]"
      ],
      "text/plain": [
       "<IPython.core.display.Latex object>"
      ]
     },
     "metadata": {},
     "output_type": "display_data"
    }
   ],
   "source": [
    "%%render 2\n",
    "\n",
    "psi_11 = 0.4\n",
    "G_k = (3.88+1.21)*kN/m**2\n",
    "Q_k = 4.81*kN/m**2"
   ]
  },
  {
   "cell_type": "markdown",
   "metadata": {},
   "source": [
    "Load combination for fire:"
   ]
  },
  {
   "cell_type": "code",
   "execution_count": 3,
   "metadata": {},
   "outputs": [
    {
     "data": {
      "text/latex": [
       "\\[\n",
       "\\begin{aligned}\n",
       "q_{d} &= G_{k} + \\psi_{11} \\cdot Q_{k}  = 5.09\\ \\text{kPa} + 0.4 \\cdot 4.81\\ \\text{kPa} &= 7.01\\ \\text{kPa}  \n",
       "\\end{aligned}\n",
       "\\]"
      ],
      "text/plain": [
       "<IPython.core.display.Latex object>"
      ]
     },
     "metadata": {},
     "output_type": "display_data"
    }
   ],
   "source": [
    "%%render 2\n",
    "q_d = G_k+psi_11*Q_k"
   ]
  },
  {
   "cell_type": "markdown",
   "metadata": {},
   "source": [
    "<h4>Slab parameters</h4>"
   ]
  },
  {
   "cell_type": "code",
   "execution_count": 4,
   "metadata": {},
   "outputs": [
    {
     "data": {
      "text/latex": [
       "\\[\n",
       "\\begin{aligned}\n",
       "L &= 8.40\\ \\text{m} \\; \n",
       " &d &= 270.00\\ \\text{mm} \\; \n",
       " &w &= 2.40\\ \\text{m} \\; \n",
       "\\\\[10pt]\n",
       " \\mathrm{fck}_{20} &= 55.00\\ \\text{MPa} \\; \n",
       " &\\mathrm{fp}_{20} &= 1.63\\ \\text{GPa} \\; \n",
       " &\\phi_{s} &= 12.50\\ \\text{mm} \\; \n",
       "\\\\[10pt]\n",
       " A_{w} &= 93.00\\ \\text{mm}^{2} \\; \n",
       " &A_{p} &= 1302.00\\ \\text{mm}^{2} \\; \n",
       " &d_{s} &= 210.00\\ \\text{mm} \\; \n",
       "\\\\[10pt]\n",
       " E_{s20} &= 210.00\\ \\text{GPa} \\;\\end{aligned}\n",
       "\\]"
      ],
      "text/plain": [
       "<IPython.core.display.Latex object>"
      ]
     },
     "metadata": {},
     "output_type": "display_data"
    }
   ],
   "source": [
    "%%render param 2\n",
    "\n",
    "L = 8.4*m\n",
    "d = 270*mm\n",
    "w = 2400*mm\n",
    "fck_20 = 55*MPa\n",
    "fp_20 = 1634*MPa\n",
    "phi_s = 12.5*mm\n",
    "A_w = 93*mm**2\n",
    "A_p = 14*A_w\n",
    "d_s = d - 60*mm\n",
    "E_s20 = 210*GPa\n"
   ]
  },
  {
   "cell_type": "markdown",
   "metadata": {},
   "source": [
    "From CONFIRE\n",
    "\n",
    "<img src = \"Confire3.png\" width=400>"
   ]
  },
  {
   "cell_type": "code",
   "execution_count": 5,
   "metadata": {},
   "outputs": [
    {
     "data": {
      "text/latex": [
       "\\[\n",
       "\\begin{aligned}\n",
       "T_{max} &= 207.00\\ \\text{°C} \\; \n",
       " &T_{cold} &= 207.00\\ \\text{°C} \\; \n",
       " &\\xi_{CMH} &= 1 \\; \n",
       "\\\\[10pt]\n",
       " \\xi_{CMC} &= 9.91 \\times 10 ^ {-1 } \\;\\end{aligned}\n",
       "\\]"
      ],
      "text/plain": [
       "<IPython.core.display.Latex object>"
      ]
     },
     "metadata": {},
     "output_type": "display_data"
    }
   ],
   "source": [
    "%%render param 2\n",
    "\n",
    "T_max = (207*dC)\n",
    "T_cold = (207*dC) \n",
    "xi_CMH = 1\n",
    "xi_CMC = 0.9914"
   ]
  },
  {
   "cell_type": "code",
   "execution_count": 6,
   "metadata": {},
   "outputs": [],
   "source": [
    "cte = pd.read_excel('strength-reduction-constants.xlsx')"
   ]
  },
  {
   "cell_type": "code",
   "execution_count": 7,
   "metadata": {},
   "outputs": [],
   "source": [
    "def material_constants(mat_index):\n",
    "    k = cte['k '][mat_index]\n",
    "    T1 = cte['T1 '][mat_index]*dC\n",
    "    T2 = cte['T2 '][mat_index]*dC\n",
    "    T8 = cte['T8 '][mat_index]*dC\n",
    "    T64 = cte['T64'][mat_index]*dC\n",
    "    return k, T1, T2, T8, T64\n",
    "\n"
   ]
  },
  {
   "cell_type": "code",
   "execution_count": 8,
   "metadata": {},
   "outputs": [],
   "source": [
    "from handcalcs import handcalc\n",
    "@handcalc(jupyter_display = True)\n",
    "def material_deterioration(T,k,T1,T2,T8,T64):\n",
    "    \"\"\"\n",
    "    Calculate the deterioration of a material.\n",
    "    \"\"\"\n",
    "    xi = k + (1-k)/(1+T/T1+(T/T2)**2+(T/T8)**8+(T/T64)**64)\n",
    "    return xi\n"
   ]
  },
  {
   "cell_type": "code",
   "execution_count": 9,
   "metadata": {},
   "outputs": [
    {
     "data": {
      "text/latex": [
       "\\[\n",
       "\\begin{aligned}\n",
       "\\xi &= k + \\frac{ 1 - k }{ 1 + \\frac{ T }{ \\mathrm{T1} } + \\left( \\frac{ T }{ \\mathrm{T2} } \\right) ^{ 2 } + \\left( \\frac{ T }{ \\mathrm{T8} } \\right) ^{ 8 } + \\left( \\frac{ T }{ \\mathrm{T64} } \\right) ^{ 64 } } \\\\&= 0.0 + \\frac{ 1 - 0.0 }{ 1 + \\frac{ 207.000\\ \\text{°C} }{ 2.000\\ \\text{k°C} } + \\left( \\frac{ 207.000\\ \\text{°C} }{ 360.000\\ \\text{°C} } \\right) ^{ 2 } + \\left( \\frac{ 207.000\\ \\text{°C} }{ 430.000\\ \\text{°C} } \\right) ^{ 8 } + \\left( \\frac{ 207.000\\ \\text{°C} }{ 100.000\\ \\text{k°C} } \\right) ^{ 64 } } \\\\&= 6.959 \\times 10 ^ {-1 }  \\\\\n",
       "\\end{aligned}\n",
       "\\]"
      ],
      "text/plain": [
       "<IPython.core.display.Latex object>"
      ]
     },
     "metadata": {},
     "output_type": "display_data"
    }
   ],
   "source": [
    "k, T1, T2, T8, T64 = material_constants(8)\n",
    "xi_sH = material_deterioration(T_max,k,T1,T2,T8,T64)\n"
   ]
  },
  {
   "cell_type": "code",
   "execution_count": 10,
   "metadata": {},
   "outputs": [
    {
     "data": {
      "text/latex": [
       "\\[\n",
       "\\begin{aligned}\n",
       "\\xi_{sH} &= 6.96 \\times 10 ^ {-1 } \\; \n",
       "\\end{aligned}\n",
       "\\]"
      ],
      "text/plain": [
       "<IPython.core.display.Latex object>"
      ]
     },
     "metadata": {},
     "output_type": "display_data"
    }
   ],
   "source": [
    "%%render 2\n",
    "xi_sH"
   ]
  },
  {
   "cell_type": "code",
   "execution_count": 11,
   "metadata": {},
   "outputs": [
    {
     "data": {
      "text/latex": [
       "\\[\n",
       "\\begin{aligned}\n",
       "\\xi &= k + \\frac{ 1 - k }{ 1 + \\frac{ T }{ \\mathrm{T1} } + \\left( \\frac{ T }{ \\mathrm{T2} } \\right) ^{ 2 } + \\left( \\frac{ T }{ \\mathrm{T8} } \\right) ^{ 8 } + \\left( \\frac{ T }{ \\mathrm{T64} } \\right) ^{ 64 } } \\\\&= 0.2 + \\frac{ 1 - 0.2 }{ 1 + \\frac{ 207.000\\ \\text{°C} }{ 100.000\\ \\text{k°C} } + \\left( \\frac{ 207.000\\ \\text{°C} }{ 750.000\\ \\text{°C} } \\right) ^{ 2 } + \\left( \\frac{ 207.000\\ \\text{°C} }{ 550.000\\ \\text{°C} } \\right) ^{ 8 } + \\left( \\frac{ 207.000\\ \\text{°C} }{ 650.000\\ \\text{°C} } \\right) ^{ 64 } } \\\\&= 9.417 \\times 10 ^ {-1 }  \\\\\n",
       "\\end{aligned}\n",
       "\\]"
      ],
      "text/plain": [
       "<IPython.core.display.Latex object>"
      ]
     },
     "metadata": {},
     "output_type": "display_data"
    }
   ],
   "source": [
    "k, T1, T2, T8, T64 = material_constants(10)\n",
    "xi_sC = material_deterioration(T_cold,k,T1,T2,T8,T64)"
   ]
  },
  {
   "cell_type": "code",
   "execution_count": 12,
   "metadata": {},
   "outputs": [
    {
     "data": {
      "text/latex": [
       "\\[\n",
       "\\begin{aligned}\n",
       "\\xi_{sC} &= 9.42 \\times 10 ^ {-1 } \\; \n",
       "\\end{aligned}\n",
       "\\]"
      ],
      "text/plain": [
       "<IPython.core.display.Latex object>"
      ]
     },
     "metadata": {},
     "output_type": "display_data"
    }
   ],
   "source": [
    "%%render 2\n",
    "xi_sC"
   ]
  },
  {
   "cell_type": "markdown",
   "metadata": {},
   "source": [
    "**Before fire**"
   ]
  },
  {
   "cell_type": "code",
   "execution_count": 13,
   "metadata": {},
   "outputs": [
    {
     "data": {
      "text/latex": [
       "\\[\n",
       "\\begin{aligned}\n",
       "M_{max_{ALS}} &= q_{d} \\cdot \\frac{ \\left( L \\right) ^{ 2 } }{ 8 } \\cdot w  = 7.01\\ \\text{kPa} \\cdot \\frac{ \\left( 8.40\\ \\text{m} \\right) ^{ 2 } }{ 8 } \\cdot 2.40\\ \\text{m} &= 148.47\\ \\text{kN} \\cdot \\text{m}  \n",
       "\\\\[10pt]\n",
       "F_{su20} &= A_{p} \\cdot \\mathrm{fp}_{20}  = 1302.00\\ \\text{mm}^{2} \\cdot 1.63\\ \\text{GPa} &= 2.13\\ \\text{MN}  \n",
       "\\\\[10pt]\n",
       "y_{20} &= \\frac{ F_{su20} }{ \\mathrm{fck}_{20} \\cdot w }  = \\frac{ 2.13\\ \\text{MN} }{ 55.00\\ \\text{MPa} \\cdot 2.40\\ \\text{m} } &= 16.12\\ \\text{mm}  \n",
       "\\\\[10pt]\n",
       "M_{u20} &= F_{su20} \\cdot \\left( d_{s} - \\frac{ y_{20} }{ 2 } \\right)  = 2.13\\ \\text{MN} \\cdot \\left( 210.00\\ \\text{mm} - \\frac{ 16.12\\ \\text{mm} }{ 2 } \\right) &= 429.62\\ \\text{kN} \\cdot \\text{m}  \n",
       "\\\\[10pt]\n",
       "\\mu_{20} &= \\frac{ M_{max_{ALS}} }{ M_{u20} }  = \\frac{ 148.47\\ \\text{kN} \\cdot \\text{m} }{ 429.62\\ \\text{kN} \\cdot \\text{m} } &= 3.46 \\times 10 ^ {-1 }  \n",
       "\\end{aligned}\n",
       "\\]"
      ],
      "text/plain": [
       "<IPython.core.display.Latex object>"
      ]
     },
     "metadata": {},
     "output_type": "display_data"
    }
   ],
   "source": [
    "%%render 2\n",
    "\n",
    "M_max_ALS = q_d*L**2/8*w\n",
    "F_su20 = A_p*fp_20\n",
    "y_20 = F_su20/(fck_20*w)\n",
    "M_u20 = F_su20*(d_s-y_20/2)\n",
    "mu_20 = M_max_ALS/M_u20"
   ]
  },
  {
   "cell_type": "markdown",
   "metadata": {},
   "source": [
    "**HOT - During fire**"
   ]
  },
  {
   "cell_type": "code",
   "execution_count": 18,
   "metadata": {},
   "outputs": [
    {
     "name": "stdout",
     "output_type": "stream",
     "text": [
      "\\[\n",
      "\\begin{aligned}\n",
      "F_{suH} &= \\xi_{sH} \\cdot F_{su20} \\; \n",
      "\\\\[10pt]\n",
      "y_{H} &= \\frac{ F_{suH} }{ \\xi_{CMH} \\cdot \\mathrm{fck}_{20} \\cdot w } \\; \n",
      "\\\\[10pt]\n",
      "M_{u_{H}} &= F_{suH} \\cdot \\left( d_{s} - 0.5 \\cdot y_{H} \\right) \\; \n",
      "\\\\[10pt]\n",
      "\\mu_{H} &= \\frac{ M_{max_{ALS}} }{ M_{u_{H}} } \\; \n",
      "\\end{aligned}\n",
      "\\]\n"
     ]
    }
   ],
   "source": [
    "%%tex symbolic\n",
    "\n",
    "F_suH = xi_sH*F_su20\n",
    "y_H = F_suH/(xi_CMH*fck_20*w)\n",
    "M_u_H = F_suH*(d_s-0.5*y_H)\n",
    "mu_H = M_max_ALS/M_u_H"
   ]
  },
  {
   "cell_type": "markdown",
   "metadata": {},
   "source": [
    "**COLD - After fire**"
   ]
  },
  {
   "cell_type": "code",
   "execution_count": 15,
   "metadata": {},
   "outputs": [
    {
     "data": {
      "text/latex": [
       "\\[\n",
       "\\begin{aligned}\n",
       "F_{suC} &= \\xi_{sC} \\cdot F_{su20}  = 9.42 \\times 10 ^ {-1 } \\cdot 2.13\\ \\text{MN} &= 2.00\\ \\text{MN}  \n",
       "\\\\[10pt]\n",
       "y_{C} &= \\frac{ F_{suC} }{ \\xi_{CMC} \\cdot \\mathrm{fck}_{20} \\cdot w }  = \\frac{ 2.00\\ \\text{MN} }{ 9.91 \\times 10 ^ {-1 } \\cdot 55.00\\ \\text{MPa} \\cdot 2.40\\ \\text{m} } &= 15.31\\ \\text{mm}  \n",
       "\\\\[10pt]\n",
       "M_{u_{C}} &= F_{suC} \\cdot \\left( d_{s} - \\frac{ y_{C} }{ 2 } \\right)  = 2.00\\ \\text{MN} \\cdot \\left( 210.00\\ \\text{mm} - \\frac{ 15.31\\ \\text{mm} }{ 2 } \\right) &= 405.37\\ \\text{kN} \\cdot \\text{m}  \n",
       "\\\\[10pt]\n",
       "\\mu_{C} &= \\frac{ M_{max_{ALS}} }{ M_{u_{C}} }  = \\frac{ 148.47\\ \\text{kN} \\cdot \\text{m} }{ 405.37\\ \\text{kN} \\cdot \\text{m} } &= 3.66 \\times 10 ^ {-1 }  \n",
       "\\end{aligned}\n",
       "\\]"
      ],
      "text/plain": [
       "<IPython.core.display.Latex object>"
      ]
     },
     "metadata": {},
     "output_type": "display_data"
    }
   ],
   "source": [
    "%%render 2\n",
    "\n",
    "F_suC = xi_sC*F_su20\n",
    "y_C = F_suC/(xi_CMC*fck_20*w)\n",
    "M_u_C = F_suC*(d_s-y_C/2)\n",
    "mu_C = M_max_ALS/M_u_C"
   ]
  },
  {
   "cell_type": "markdown",
   "metadata": {},
   "source": [
    "Over-reinforcment check"
   ]
  },
  {
   "cell_type": "code",
   "execution_count": 16,
   "metadata": {},
   "outputs": [
    {
     "data": {
      "text/latex": [
       "\\[\n",
       "\\begin{aligned}\n",
       "\\varepsilon_{s} &= \\frac{ d_{s} - \\frac{ 5 }{ 4 } \\cdot y_{C} }{ \\frac{ 5 }{ 4 } \\cdot y_{C} } \\cdot \\frac{ 0.35 }{ 100 } \\cdot \\frac{1} { \\xi_{CMC} } \\\\&= \\frac{ 210.00\\ \\text{mm} - \\frac{ 5 }{ 4 } \\cdot 15.31\\ \\text{mm} }{ \\frac{ 5 }{ 4 } \\cdot 15.31\\ \\text{mm} } \\cdot \\frac{ 0.35 }{ 100 } \\cdot \\frac{1} { 9.91 \\times 10 ^ {-1 } } \\\\&= 3.52 \\times 10 ^ {-2 }  \\\\\n",
       "\\\\[10pt]\n",
       "\\varepsilon_{smin} &= \\frac{ \\mathrm{fp}_{20} }{ E_{s20} } + \\frac{ 0.2 }{ 100 }  = \\frac{ 1.63\\ \\text{GPa} }{ 210.00\\ \\text{GPa} } + \\frac{ 0.2 }{ 100 } &= 0.01  \n",
       "\\end{aligned}\n",
       "\\]"
      ],
      "text/plain": [
       "<IPython.core.display.Latex object>"
      ]
     },
     "metadata": {},
     "output_type": "display_data"
    }
   ],
   "source": [
    "%%render 2\n",
    "\n",
    "varepsilon_s = (d_s-5/4*y_C)/(5/4*y_C)*0.35/100/xi_CMC\n",
    "varepsilon_smin = fp_20/E_s20 + 0.2/100"
   ]
  },
  {
   "cell_type": "code",
   "execution_count": 17,
   "metadata": {},
   "outputs": [
    {
     "data": {
      "text/markdown": [
       "The slab is verified for fire"
      ],
      "text/plain": [
       "<IPython.core.display.Markdown object>"
      ]
     },
     "metadata": {},
     "output_type": "display_data"
    }
   ],
   "source": [
    "if varepsilon_s>varepsilon_smin:\n",
    "    display(Markdown('The slab is verified for fire'))\n",
    "else:\n",
    "    display(Markdown('The slab is not verified for fire'))"
   ]
  }
 ],
 "metadata": {
  "interpreter": {
   "hash": "e42634819b8c191a5d07eaf23810ff32516dd8d3875f28ec3e488928fbd3c187"
  },
  "kernelspec": {
   "display_name": "Python 3 (ipykernel)",
   "language": "python",
   "name": "python3"
  },
  "language_info": {
   "codemirror_mode": {
    "name": "ipython",
    "version": 3
   },
   "file_extension": ".py",
   "mimetype": "text/x-python",
   "name": "python",
   "nbconvert_exporter": "python",
   "pygments_lexer": "ipython3",
   "version": "3.8.13"
  }
 },
 "nbformat": 4,
 "nbformat_minor": 4
}
