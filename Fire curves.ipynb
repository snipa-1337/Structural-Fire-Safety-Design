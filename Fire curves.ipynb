{
 "cells": [
  {
   "cell_type": "markdown",
   "id": "7f6480f7-6dd1-4487-afcf-0b7c7b96428c",
   "metadata": {},
   "source": [
    "<h3>Compartment: Name</h3>\n",
    "\n",
    "Enclosure area\n",
    "\n",
    "<img src=\"pic.png\" style=\"width: 500px;\"/>"
   ]
  },
  {
   "cell_type": "code",
   "execution_count": 4,
   "id": "58a6d472",
   "metadata": {
    "tags": []
   },
   "outputs": [],
   "source": [
    "import numpy as np\n",
    "import pandas as pd\n",
    "import sympy as sp\n",
    "import handcalcs.render\n",
    "from handcalcs import handcalc\n",
    "import forallpeople as si\n",
    "import matplotlib.pyplot as plt\n",
    "%matplotlib inline\n",
    "from math import tan, sin,cos, pi, radians, sqrt, trunc\n",
    "from IPython.display import display, Markdown\n",
    "si.environment('thermal', top_level=True)"
   ]
  },
  {
   "cell_type": "code",
   "execution_count": 5,
   "id": "c1295fe9-28c9-4311-946d-ee6d7ece5ca0",
   "metadata": {
    "tags": []
   },
   "outputs": [],
   "source": [
    "def Fire_load(building_type):\n",
    "    # Fire load densities according to EN 1991-1-2 DK Annex\n",
    "    if building_type == 'hospital' or building_type == 'cinema' or building_type == 'lecture hall':\n",
    "        q = 150  # MJ/m^2\n",
    "    elif building_type == 'office' or building_type == 'residence':\n",
    "        q = 200  # MJ/m^2\n",
    "    elif building_type == 'car park':\n",
    "        q = 300  # MJ/m^2\n",
    "    else:\n",
    "        raise ValueError(\"Please input a valid building type\")\n",
    "    return q*10**6*J_m2"
   ]
  },
  {
   "cell_type": "markdown",
   "id": "20420fd2",
   "metadata": {},
   "source": [
    "<h4>Fuel load density</h4>"
   ]
  },
  {
   "cell_type": "code",
   "execution_count": 6,
   "id": "e213be93",
   "metadata": {
    "tags": []
   },
   "outputs": [],
   "source": [
    "q = Fire_load('lecture hall')"
   ]
  },
  {
   "cell_type": "code",
   "execution_count": 7,
   "id": "3ebe33d5-6793-4709-bb0b-fb42ecdd60e9",
   "metadata": {},
   "outputs": [
    {
     "data": {
      "text/latex": [
       "\\[\n",
       "\\begin{aligned}\n",
       "q &= 150.00\\ \\text{MJ} \\cdot \\text{m⁻²} \\; \n",
       "\\end{aligned}\n",
       "\\]"
      ],
      "text/plain": [
       "<IPython.core.display.Latex object>"
      ]
     },
     "metadata": {},
     "output_type": "display_data"
    }
   ],
   "source": [
    "%%render 2\n",
    "q"
   ]
  },
  {
   "cell_type": "markdown",
   "id": "caf5e199",
   "metadata": {},
   "source": [
    "<h4>Opening factor<h4>"
   ]
  },
  {
   "cell_type": "markdown",
   "id": "a6a39c93",
   "metadata": {},
   "source": [
    "Enclosure area"
   ]
  },
  {
   "cell_type": "code",
   "execution_count": 8,
   "id": "9bdc3340-ad7c-4565-a2f7-45fd1ed986a1",
   "metadata": {
    "tags": []
   },
   "outputs": [
    {
     "data": {
      "text/latex": [
       "\\[\n",
       "\\begin{aligned}\n",
       "B &= 5.50\\ \\text{m} \\; \n",
       " &L &= 4.50\\ \\text{m} \\; \n",
       " &H &= 3.50\\ \\text{m} \\; \n",
       "\\\\[10pt]\\end{aligned}\n",
       "\\]"
      ],
      "text/plain": [
       "<IPython.core.display.Latex object>"
      ]
     },
     "metadata": {},
     "output_type": "display_data"
    }
   ],
   "source": [
    "%%render param 2\n",
    "#Area of the \"cube\" of the compartment\n",
    "\n",
    "B = 5.5*m\n",
    "L = 4.5*m\n",
    "H = 3.5*m\n"
   ]
  },
  {
   "cell_type": "code",
   "execution_count": 9,
   "id": "24ab609f",
   "metadata": {
    "tags": []
   },
   "outputs": [
    {
     "data": {
      "text/latex": [
       "\\[\n",
       "\\begin{aligned}\n",
       "A_{f} &= B \\cdot L  = 5.50\\ \\text{m} \\cdot 4.50\\ \\text{m} &= 24.75\\ \\text{m}^{2}  \n",
       "\\\\[10pt]\n",
       "A_{c} &= 24.75\\ \\text{m}^{2} \\; \n",
       "\\\\[10pt]\n",
       "A_{w_{1}} &= H \\cdot L  = 3.50\\ \\text{m} \\cdot 4.50\\ \\text{m} &= 15.75\\ \\text{m}^{2}  \n",
       "\\\\[10pt]\n",
       "A_{w_{2}} &= H \\cdot B  = 3.50\\ \\text{m} \\cdot 5.50\\ \\text{m} &= 19.25\\ \\text{m}^{2}  \n",
       "\\\\[10pt]\n",
       "A_{t} &= A_{f} + A_{c} + 2 \\cdot \\left( A_{w_{1}} + A_{w_{2}} \\right) \\\\&= 24.75\\ \\text{m}^{2} + 24.75\\ \\text{m}^{2} + 2 \\cdot \\left( 15.75\\ \\text{m}^{2} + 19.25\\ \\text{m}^{2} \\right) \\\\&= 119.50\\ \\text{m}^{2}  \\\\\n",
       "\\end{aligned}\n",
       "\\]"
      ],
      "text/plain": [
       "<IPython.core.display.Latex object>"
      ]
     },
     "metadata": {},
     "output_type": "display_data"
    }
   ],
   "source": [
    "%%render 2\n",
    "\n",
    "A_f = B*L\n",
    "A_c = A_f\n",
    "A_w_1 = H*L\n",
    "A_w_2 = H*B\n",
    "A_t = A_f + A_c + 2*(A_w_1 + A_w_2)"
   ]
  },
  {
   "cell_type": "markdown",
   "id": "838424da",
   "metadata": {},
   "source": [
    "Air flow factor"
   ]
  },
  {
   "cell_type": "code",
   "execution_count": 15,
   "id": "378340e5",
   "metadata": {
    "jupyter": {
     "source_hidden": true
    },
    "tags": []
   },
   "outputs": [
    {
     "data": {
      "text/latex": [
       "\\[\n",
       "\\begin{aligned}\n",
       "h_{win_{i}} &= 2.052 \\cdot m \\; \\;\\textrm{(height of window, i)}\n",
       "\\\\[10pt]\n",
       "w_{win_{i}} &= 0.8 \\cdot m \\; \\;\\textrm{(width of window, i)}\n",
       "\\\\[10pt]\n",
       "h_{door_{i}} &= 2.1 \\cdot m \\; \\;\\textrm{(height of door, i)}\n",
       "\\\\[10pt]\n",
       "w_{door_{i}} &= 0.74 \\cdot m \\; \\;\\textrm{(width of door, i)}\n",
       "\\end{aligned}\n",
       "\\]"
      ],
      "text/plain": [
       "<IPython.core.display.Latex object>"
      ]
     },
     "metadata": {},
     "output_type": "display_data"
    }
   ],
   "source": [
    "%%render symbolic 2\n",
    "\n",
    "h_win_i = 2.052*m #height of window, i\n",
    "w_win_i = 0.8*m #width of window, i\n",
    "\n",
    "h_door_i = 2.1*m#height of door, i\n",
    "w_door_i = 0.74*m#width of door, i\n"
   ]
  },
  {
   "cell_type": "code",
   "execution_count": 17,
   "id": "e443b92d",
   "metadata": {
    "tags": []
   },
   "outputs": [
    {
     "data": {
      "text/latex": [
       "\\[\n",
       "\\begin{aligned}\n",
       "A_{win_{i}} &= h_{win_{i}} \\cdot w_{win_{i}} \\; \\;\\textrm{(area of window,i)}\n",
       "\\\\[10pt]\n",
       "A_{door_{i}} &= h_{door_{i}} \\cdot w_{door_{i}} \\; \\;\\textrm{(area of door,i)}\n",
       "\\\\[10pt]\n",
       "A_{o} &= A_{win_{i}} + A_{door_{i}} \\; \\;\\textrm{(Total opening area)}\n",
       "\\\\[10pt]\n",
       "h_{av} &= \\frac{ h_{win_{i}} \\cdot A_{win_{i}} + h_{door_{i}} \\cdot A_{door_{i}} }{ A_{o} } \\; \\;\\textrm{(Average opening height)}\n",
       "\\\\[10pt]\n",
       "\\mathrm{AF} &= \\left( A_{o} \\cdot \\sqrt { h_{av} } \\right) \\cdot \\left( m \\right) ^{ \\left( \\frac{ 1 }{ 2 } \\right) } \\; \\;\\textrm{(Air flow factor)}\n",
       "\\\\[10pt]\n",
       "O &= \\mathrm{max} \\; \\;\\textrm{(Opening factor)}\n",
       "\\end{aligned}\n",
       "\\]"
      ],
      "text/plain": [
       "<IPython.core.display.Latex object>"
      ]
     },
     "metadata": {},
     "output_type": "display_data"
    }
   ],
   "source": [
    "%%render symbolic 2\n",
    "\n",
    "A_win_i = h_win_i*w_win_i #area of window,i\n",
    "A_door_i = h_door_i*w_door_i #area of door,i\n",
    "A_o = A_win_i + A_door_i #Total opening area\n",
    "h_av = (h_win_i*A_win_i+h_door_i*A_door_i)/A_o #Average opening height\n",
    "AF = (A_o*sqrt(h_av))*m**(1/2) #Air flow factor\n",
    "O = max((AF/A_t).prefix('unity'),(0.02*m**0.5).prefix('unity')) #Opening factor"
   ]
  },
  {
   "cell_type": "code",
   "execution_count": null,
   "id": "8c556d84-12c3-4985-914d-897f08b65033",
   "metadata": {},
   "outputs": [],
   "source": [
    "(5.52*2.1+5.52*2.1)/11.04"
   ]
  },
  {
   "cell_type": "code",
   "execution_count": null,
   "id": "c2a778ea",
   "metadata": {},
   "outputs": [],
   "source": [
    "%%render 2\n",
    "t_max = 0.0078*(q.value/10**6)/O.value"
   ]
  },
  {
   "cell_type": "markdown",
   "id": "3ad23ac8",
   "metadata": {
    "tags": []
   },
   "source": [
    "<h4>Thermal inertia</h4>"
   ]
  },
  {
   "cell_type": "code",
   "execution_count": null,
   "id": "1e333af7",
   "metadata": {
    "tags": []
   },
   "outputs": [],
   "source": [
    "%%render 2\n",
    "\n",
    "rho = 2300*kg/(m**3)\n",
    "c = 1000*J/(kg*K)\n",
    "lamb = 0.8*W/(m*K)\n",
    "b = (rho*c*lamb)**0.5"
   ]
  },
  {
   "cell_type": "markdown",
   "id": "e89513ae",
   "metadata": {},
   "source": [
    "* For different layers in the wall"
   ]
  },
  {
   "cell_type": "code",
   "execution_count": null,
   "id": "27a1b125-6be3-448f-80f1-7ae295da2d73",
   "metadata": {},
   "outputs": [],
   "source": [
    "def diff_layers(s1,rho_l_1,c_l_1,lamb_l_1,rho_l_2,c_l_2,lamb_l_2):\n",
    "    \"\"\"\n",
    "    Layer on the left is fire exposed and layer number 1\n",
    "    s1 = thickness of layer 1 in meters\n",
    "    rho_l_1 = density of layer 1 in kg/m^3\n",
    "    c_l_1 = specific heat of layer 1 in J/kg/K\n",
    "    lamb_l_1 = thermal conductivity of layer 1 in W/m/K\n",
    "    \"\"\"\n",
    "    b_l_1 = (rho_l_1*c_l_1*lamb_l_1)**0.5\n",
    "    b_l_2 = (rho_l_2*c_l_2*lamb_l_2)**0.5\n",
    "    if b_l_1 < b_l_2:\n",
    "        b_w_1 = b_l_1\n",
    "    else:\n",
    "        \"\"\"\n",
    "        Penetration depth of the enclosure\n",
    "        \"\"\"\n",
    "        D = lamb_l_1/(c_l_1*rho_l_1) #Thermal diffusivity\n",
    "        s_lim = (D*t_max*60)**0.5 #penetration depth\n",
    "        if s1 <= s_lim:\n",
    "            b_w_1 = s1*b_l_1/s_lim + b_l_2*(1-s1/s_lim)\n",
    "        else:\n",
    "            b_w_1 = b_l_1\n",
    "    return b_w_1\n",
    "        "
   ]
  },
  {
   "cell_type": "markdown",
   "id": "23542d3f-6e26-4c3e-8f80-f56f6eb6000f",
   "metadata": {},
   "source": [
    "* For different walls in the enclosure"
   ]
  },
  {
   "cell_type": "code",
   "execution_count": null,
   "id": "67a0a7aa",
   "metadata": {},
   "outputs": [],
   "source": [
    "%%render 2\n",
    "b_f = 1\n",
    "b_w = 1\n",
    "b_c = 1\n",
    "b_t = (A_f*b_f + A_w_1*b_w + A_w_2*b_w + A_c*b_c)/A_t"
   ]
  },
  {
   "cell_type": "markdown",
   "id": "26da80a0",
   "metadata": {},
   "source": [
    "Parametric curve validity check"
   ]
  },
  {
   "cell_type": "code",
   "execution_count": null,
   "id": "013172a0-ea26-4319-bbd2-e1e3f0823a77",
   "metadata": {
    "tags": []
   },
   "outputs": [],
   "source": [
    "if B*L >= 500: \n",
    "    display(Markdown('Compartment size not compatible with model.'))\n",
    "elif H >= 4:\n",
    "    display(Markdown('Compartment height not compatible with model.'))\n",
    "elif not(0.019 < O <= 0.2):\n",
    "    display(Markdown('Opening factor not compatible with model.'))\n",
    "elif not(100<=b_t<=2200):\n",
    "    display(Markdown('Thermal inertia not compatible with model.'))\n",
    "elif not(50*10**9 < q*(A_t) < 1000*10**9):\n",
    "    display(Markdown('Fuel load not compatible with model.'))\n",
    "else:\n",
    "    display(Markdown('Compartment size, height, opening factor, thermal inertia, and fuel load are compatible with model.'))"
   ]
  },
  {
   "cell_type": "code",
   "execution_count": null,
   "id": "fff04a97-1ad9-431d-af1e-92af7103b6f5",
   "metadata": {},
   "outputs": [],
   "source": [
    "def gamma_f(O,b):\n",
    "    return (O.value/0.04/(b.value/1160))**2"
   ]
  },
  {
   "cell_type": "code",
   "execution_count": null,
   "id": "1cb244bf-3d01-4447-b5a8-8f54de483631",
   "metadata": {},
   "outputs": [],
   "source": [
    "gamma = gamma_f(O,b)"
   ]
  },
  {
   "cell_type": "code",
   "execution_count": null,
   "id": "cf8945f2-1b7b-4e98-be11-452e81ba43c8",
   "metadata": {},
   "outputs": [],
   "source": [
    "t_max = 0.0078*(q.value/10**6)/O.value\n",
    "t = np.arange(0,t_max*5)\n",
    "T = 20+345*np.log10(8*gamma_f(O,b)*t+1)/(1+0.04*(t/t_max)**3.5)\n",
    "T_max = T.max()\n",
    "plt.style.use('ggplot')\n",
    "plt.plot(t,T, label=\"DS parametric fire curve\", color = 'red')\n",
    "plt.ylim(ymax=max(T)*1.2)\n",
    "plt.legend()\n",
    "plt.xlabel(\"Time [min]\")\n",
    "plt.ylabel(\"Temperature [C]\")\n",
    "plt.text(0.5 * (0 + t_max), 0.1 * (0 + T_max),\n",
    "     r\"$T=20 + \\frac{345\\cdot log_{10}(8\\Gamma \\cdot t+1)}{1+0.04(t/t_{max})^{3.5}}$\", horizontalalignment='left',\n",
    "     fontsize=20)\n",
    "plt.show()"
   ]
  }
 ],
 "metadata": {
  "interpreter": {
   "hash": "e42634819b8c191a5d07eaf23810ff32516dd8d3875f28ec3e488928fbd3c187"
  },
  "kernelspec": {
   "display_name": "Python 3 (ipykernel)",
   "language": "python",
   "name": "python3"
  },
  "language_info": {
   "codemirror_mode": {
    "name": "ipython",
    "version": 3
   },
   "file_extension": ".py",
   "mimetype": "text/x-python",
   "name": "python",
   "nbconvert_exporter": "python",
   "pygments_lexer": "ipython3",
   "version": "3.8.13"
  }
 },
 "nbformat": 4,
 "nbformat_minor": 5
}
