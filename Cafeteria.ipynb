{
 "cells": [
  {
   "cell_type": "markdown",
   "id": "7f6480f7-6dd1-4487-afcf-0b7c7b96428c",
   "metadata": {},
   "source": [
    "<h3>Compartment: Cafeteria, Delivery area, Trash area</h3>\n",
    "\n",
    "Enclosure area\n",
    "\n",
    "<img src=\"Cafeteria.png\" style=\"width: 500px;\"/>"
   ]
  },
  {
   "cell_type": "code",
   "execution_count": 188,
   "id": "58a6d472",
   "metadata": {
    "tags": []
   },
   "outputs": [],
   "source": [
    "import numpy as np\n",
    "import pandas as pd\n",
    "import sympy as sp\n",
    "import handcalcs.render\n",
    "from handcalcs import handcalc\n",
    "import forallpeople as si\n",
    "import matplotlib.pyplot as plt\n",
    "%matplotlib inline\n",
    "from math import tan, sin,cos, pi, radians, sqrt, trunc\n",
    "from IPython.display import display, Markdown\n",
    "si.environment('thermal', top_level=True)"
   ]
  },
  {
   "cell_type": "code",
   "execution_count": 189,
   "id": "c1295fe9-28c9-4311-946d-ee6d7ece5ca0",
   "metadata": {
    "tags": []
   },
   "outputs": [],
   "source": [
    "from fire_functions import Fire_load, diff_layers, gamma_f"
   ]
  },
  {
   "cell_type": "markdown",
   "id": "20420fd2",
   "metadata": {},
   "source": [
    "<h4>Fuel load density</h4>"
   ]
  },
  {
   "cell_type": "code",
   "execution_count": 190,
   "id": "e213be93",
   "metadata": {
    "tags": []
   },
   "outputs": [],
   "source": [
    "q = Fire_load('office')"
   ]
  },
  {
   "cell_type": "code",
   "execution_count": 191,
   "id": "3ebe33d5-6793-4709-bb0b-fb42ecdd60e9",
   "metadata": {},
   "outputs": [
    {
     "data": {
      "text/latex": [
       "\\[\n",
       "\\begin{aligned}\n",
       "q &= 200.00\\ \\text{MJ} \\cdot \\text{m⁻²} \\; \n",
       "\\end{aligned}\n",
       "\\]"
      ],
      "text/plain": [
       "<IPython.core.display.Latex object>"
      ]
     },
     "metadata": {},
     "output_type": "display_data"
    }
   ],
   "source": [
    "%%render 2\n",
    "q"
   ]
  },
  {
   "cell_type": "markdown",
   "id": "caf5e199",
   "metadata": {},
   "source": [
    "<h4>Opening factor<h4>"
   ]
  },
  {
   "cell_type": "markdown",
   "id": "a6a39c93",
   "metadata": {},
   "source": [
    "Enclosure area"
   ]
  },
  {
   "cell_type": "code",
   "execution_count": 192,
   "id": "9bdc3340-ad7c-4565-a2f7-45fd1ed986a1",
   "metadata": {
    "tags": []
   },
   "outputs": [
    {
     "data": {
      "text/latex": [
       "\\[\n",
       "\\begin{aligned}\n",
       "B &= 21.90\\ \\text{m} \\; \n",
       " &L &= 23.50\\ \\text{m} \\; \n",
       " &H &= 4.00\\ \\text{m} \\; \n",
       "\\\\[10pt]\n",
       " C_{w1} &= 10.84\\ \\text{m} \\; \n",
       " &C_{w2} &= 12.76\\ \\text{m} \\;\\end{aligned}\n",
       "\\]"
      ],
      "text/plain": [
       "<IPython.core.display.Latex object>"
      ]
     },
     "metadata": {},
     "output_type": "display_data"
    }
   ],
   "source": [
    "%%render param 2\n",
    "#Area of the \"cube\" of the compartment\n",
    "\n",
    "B = 21.9*m\n",
    "L = 23.5*m\n",
    "H = 4*m\n",
    "C_w1 = (5.22*2+0.4)*m\n",
    "C_w2 = 12.76*m\n"
   ]
  },
  {
   "cell_type": "code",
   "execution_count": 193,
   "id": "24ab609f",
   "metadata": {
    "tags": []
   },
   "outputs": [
    {
     "data": {
      "text/latex": [
       "\\[\n",
       "\\begin{aligned}\n",
       "A_{f} &= B \\cdot L - \\left( C_{w1} \\cdot C_{w2} + 3.3 \\cdot m \\cdot 4.81 \\cdot m \\right) \\\\&= 21.90\\ \\text{m} \\cdot 23.50\\ \\text{m} - \\left( 10.84\\ \\text{m} \\cdot 12.76\\ \\text{m} + 3.3 \\cdot m \\cdot 4.81 \\cdot m \\right) \\\\&= 360.46\\ \\text{m}^{2}  \\\\\n",
       "\\\\[10pt]\n",
       "A_{c} &= 360.46\\ \\text{m}^{2} \\; \n",
       "\\end{aligned}\n",
       "\\]"
      ],
      "text/plain": [
       "<IPython.core.display.Latex object>"
      ]
     },
     "metadata": {},
     "output_type": "display_data"
    }
   ],
   "source": [
    "%%render 2\n",
    "\n",
    "A_f = B*L-(C_w1*C_w2+3.3*m*4.81*m)\n",
    "A_c = A_f"
   ]
  },
  {
   "cell_type": "code",
   "execution_count": 194,
   "id": "4389d447-1211-4c35-a97f-8c08e72905a8",
   "metadata": {},
   "outputs": [
    {
     "data": {
      "text/latex": [
       "\\[\n",
       "\\begin{aligned}\n",
       "\\mathrm{Facade}_{w} &= L + 2 \\cdot B + 6.58 \\cdot m  = 23.50\\ \\text{m} + 2 \\cdot 21.90\\ \\text{m} + 6.58 \\cdot m &= 73.88\\ \\text{m}  \n",
       "\\\\[10pt]\n",
       "\\mathrm{Ins}_{w} &= 7.94 \\cdot m + 8.19 \\cdot m  = 7.94 \\cdot m + 8.19 \\cdot m &= 16.13\\ \\text{m}  \n",
       "\\\\[10pt]\n",
       "\\mathrm{Core}_{w} &= C_{w1} + 8.76 \\cdot m  = 10.84\\ \\text{m} + 8.76 \\cdot m &= 19.60\\ \\text{m}  \n",
       "\\end{aligned}\n",
       "\\]"
      ],
      "text/plain": [
       "<IPython.core.display.Latex object>"
      ]
     },
     "metadata": {},
     "output_type": "display_data"
    }
   ],
   "source": [
    "%%render 2\n",
    "\n",
    "Facade_w = L+2*B +6.58*m\n",
    "Ins_w = 7.94*m + 8.19*m\n",
    "Core_w = C_w1 + 8.76*m"
   ]
  },
  {
   "cell_type": "code",
   "execution_count": 195,
   "id": "88b1b622-766b-4578-9bb4-978d99b9a7d5",
   "metadata": {},
   "outputs": [
    {
     "data": {
      "text/latex": [
       "\\[\n",
       "\\begin{aligned}\n",
       "A_{F} &= \\mathrm{Facade}_{w} \\cdot H  = 73.88\\ \\text{m} \\cdot 4.00\\ \\text{m} &= 295.52\\ \\text{m}^{2}  \n",
       "\\\\[10pt]\n",
       "A_{Ins} &= H \\cdot \\mathrm{Ins}_{w}  = 4.00\\ \\text{m} \\cdot 16.13\\ \\text{m} &= 64.52\\ \\text{m}^{2}  \n",
       "\\\\[10pt]\n",
       "A_{Core} &= H \\cdot \\mathrm{Core}_{w}  = 4.00\\ \\text{m} \\cdot 19.60\\ \\text{m} &= 78.40\\ \\text{m}^{2}  \n",
       "\\\\[10pt]\n",
       "A_{t} &= A_{f} + A_{c} + A_{F} + A_{Ins} + A_{Core}  = 360.46\\ \\text{m}^{2} + 360.46\\ \\text{m}^{2} + 295.52\\ \\text{m}^{2} + 64.52\\ \\text{m}^{2} + 78.40\\ \\text{m}^{2} &= 1159.36\\ \\text{m}^{2}  \n",
       "\\end{aligned}\n",
       "\\]"
      ],
      "text/plain": [
       "<IPython.core.display.Latex object>"
      ]
     },
     "metadata": {},
     "output_type": "display_data"
    }
   ],
   "source": [
    "%%render 2\n",
    "\n",
    "A_F = Facade_w*H\n",
    "A_Ins = H*Ins_w\n",
    "A_Core = H*Core_w\n",
    "A_t = A_f + A_c + A_F + A_Ins +A_Core"
   ]
  },
  {
   "cell_type": "markdown",
   "id": "838424da",
   "metadata": {},
   "source": [
    "Air flow factor"
   ]
  },
  {
   "cell_type": "code",
   "execution_count": 196,
   "id": "378340e5",
   "metadata": {
    "tags": []
   },
   "outputs": [
    {
     "data": {
      "text/latex": [
       "\\[\n",
       "\\begin{aligned}\n",
       "h_{door_{1}} &= 3.39\\ \\text{m} \\; \\;\\textrm{(height of door, 1)}\n",
       " &w_{door_{1}} &= 1.00\\ \\text{m} \\; \\;\\textrm{(width of door, 1)}\n",
       " &h_{door_{2}} &= 2.51\\ \\text{m} \\; \\;\\textrm{(height of door, 2)}\n",
       "\\\\[10pt]\n",
       " w_{door_{2}} &= 1.00\\ \\text{m} \\; \\;\\textrm{(width of door, 2)}\\end{aligned}\n",
       "\\]"
      ],
      "text/plain": [
       "<IPython.core.display.Latex object>"
      ]
     },
     "metadata": {},
     "output_type": "display_data"
    }
   ],
   "source": [
    "%%render param 2\n",
    "\n",
    "h_door_1 = 3.39*m#height of door, 1\n",
    "w_door_1 = 1*m#width of door, 1\n",
    "\n",
    "h_door_2 = 2.51*m #height of door, 2\n",
    "w_door_2 = 1*m #width of door, 2\n"
   ]
  },
  {
   "cell_type": "code",
   "execution_count": 197,
   "id": "e443b92d",
   "metadata": {
    "tags": []
   },
   "outputs": [
    {
     "data": {
      "text/latex": [
       "\\[\n",
       "\\begin{aligned}\n",
       "A_{door_{1}} &= h_{door_{1}} \\cdot w_{door_{1}}  = 3.39\\ \\text{m} \\cdot 1.00\\ \\text{m} &= 3.39\\ \\text{m}^{2} \\; \\;\\textrm{(area of door,1)}\n",
       "\\\\[10pt]\n",
       "A_{door_{2}} &= h_{door_{2}} \\cdot w_{door_{2}}  = 2.51\\ \\text{m} \\cdot 1.00\\ \\text{m} &= 2.51\\ \\text{m}^{2} \\; \\;\\textrm{(area of door,2)}\n",
       "\\\\[10pt]\n",
       "A_{o} &= 6 \\cdot A_{door_{1}} + 3 \\cdot A_{door_{2}}  = 6 \\cdot 3.39\\ \\text{m}^{2} + 3 \\cdot 2.51\\ \\text{m}^{2} &= 27.87\\ \\text{m}^{2} \\; \\;\\textrm{(Total opening area)}\n",
       "\\\\[10pt]\n",
       "h_{av} &= \\frac{ 6 \\cdot h_{door_{1}} \\cdot A_{door_{1}} + 3 \\cdot h_{door_{2}} \\cdot A_{door_{2}} }{ A_{o} }  = \\frac{ 6 \\cdot 3.39\\ \\text{m} \\cdot 3.39\\ \\text{m}^{2} + 3 \\cdot 2.51\\ \\text{m} \\cdot 2.51\\ \\text{m}^{2} }{ 27.87\\ \\text{m}^{2} } &= 3.15\\ \\text{m} \\; \\;\\textrm{(Average opening height)}\n",
       "\\\\[10pt]\n",
       "\\mathrm{AF} &= \\left( A_{o} \\cdot \\sqrt { h_{av} } \\right) \\cdot \\left( m \\right) ^{ \\left( \\frac{ 1 }{ 2 } \\right) }  = \\left( 27.87\\ \\text{m}^{2} \\cdot \\sqrt { 3.15\\ \\text{m} } \\right) \\cdot \\left( m \\right) ^{ \\left( \\frac{ 1 }{ 2 } \\right) } &= 49.48\\ \\text{m}^{2.5} \\; \\;\\textrm{(Air flow factor)}\n",
       "\\\\[10pt]\n",
       "O &= 0.04\\ \\text{m}^{0.5} \\; \\;\\textrm{(Opening factor)}\n",
       "\\end{aligned}\n",
       "\\]"
      ],
      "text/plain": [
       "<IPython.core.display.Latex object>"
      ]
     },
     "metadata": {},
     "output_type": "display_data"
    }
   ],
   "source": [
    "%%render 2\n",
    "\n",
    "A_door_1 = h_door_1*w_door_1 #area of door,1\n",
    "A_door_2 = h_door_2*w_door_2 #area of door,2\n",
    "A_o =  6*A_door_1 + 3*A_door_2 #Total opening area\n",
    "h_av = (6*h_door_1*A_door_1+3*h_door_2*A_door_2)/A_o #Average opening height\n",
    "AF = (A_o*sqrt(h_av))*m**(1/2) #Air flow factor\n",
    "O = max((AF/A_t).prefix('unity'),(0.02*m**0.5).prefix('unity')) #Opening factor"
   ]
  },
  {
   "cell_type": "code",
   "execution_count": 198,
   "id": "c2a778ea",
   "metadata": {},
   "outputs": [
    {
     "data": {
      "text/latex": [
       "\\[\n",
       "\\begin{aligned}\n",
       "t_{max} &= 0.0078 \\cdot \\frac{ \\frac{ \\mathrm{q.value} }{ \\left( 10 \\right) ^{ 6 } } }{ \\mathrm{O.value} }  = 0.0078 \\cdot \\frac{ \\frac{ q.value }{ \\left( 10 \\right) ^{ 6 } } }{ O.value } &= 36.55 \\; \\;\\textrm{(min)}\n",
       "\\end{aligned}\n",
       "\\]"
      ],
      "text/plain": [
       "<IPython.core.display.Latex object>"
      ]
     },
     "metadata": {},
     "output_type": "display_data"
    }
   ],
   "source": [
    "%%render 2\n",
    "t_max = 0.0078*(q.value/10**6)/O.value #min"
   ]
  },
  {
   "cell_type": "markdown",
   "id": "3ad23ac8",
   "metadata": {
    "tags": []
   },
   "source": [
    "<h4>Thermal inertia</h4>\n",
    "Glass façade\n",
    "\n",
    "The façade in the Cafeteria compartment is composed only by façade glass"
   ]
  },
  {
   "cell_type": "code",
   "execution_count": 199,
   "id": "1f57de04-8f8c-4ff4-959a-7788762d25b9",
   "metadata": {
    "tags": []
   },
   "outputs": [],
   "source": [
    "rho = (2700*kg/(m**3)).prefix('unity')\n",
    "c = 840*J/(kg*K)\n",
    "lamb = 0.0266*W/(m*K)\n"
   ]
  },
  {
   "cell_type": "code",
   "execution_count": 200,
   "id": "514d17f6-523e-47f7-94bf-8611caf1199d",
   "metadata": {},
   "outputs": [
    {
     "data": {
      "text/latex": [
       "\\[\n",
       "\\begin{aligned}\n",
       "b_{G} &= \\left( \\rho \\cdot c \\cdot \\lambda \\right) ^{ 0.5 } \\\\&= \\left( 2700.00\\ \\text{kg} \\cdot \\text{m⁻³} \\cdot 840.00\\ \\text{J} \\cdot \\text{kg⁻¹} \\cdot \\text{K⁻¹} \\cdot 26.60\\ \\text{mW} \\cdot \\text{m⁻¹} \\cdot \\text{K⁻¹} \\right) ^{ 0.5 } \\\\&= 245.62\\ \\text{kg} \\cdot \\text{s}^{-2.5} \\cdot \\text{K}^{-1.0}  \\\\\n",
       "\\end{aligned}\n",
       "\\]"
      ],
      "text/plain": [
       "<IPython.core.display.Latex object>"
      ]
     },
     "metadata": {},
     "output_type": "display_data"
    }
   ],
   "source": [
    "%%render 2\n",
    "\n",
    "b_G = (rho*c*lamb)**0.5"
   ]
  },
  {
   "cell_type": "code",
   "execution_count": 201,
   "id": "75421a05-ebaa-4122-8eb3-74ce7152dcf2",
   "metadata": {},
   "outputs": [
    {
     "data": {
      "text/latex": [
       "\\[\n",
       "\\begin{aligned}\n",
       "b_{F} &= 245.62\\ \\text{kg} \\cdot \\text{s}^{-2.5} \\cdot \\text{K}^{-1.0} \\; \n",
       "\\end{aligned}\n",
       "\\]"
      ],
      "text/plain": [
       "<IPython.core.display.Latex object>"
      ]
     },
     "metadata": {},
     "output_type": "display_data"
    }
   ],
   "source": [
    "%%render 2\n",
    "\n",
    "b_F = b_G"
   ]
  },
  {
   "cell_type": "markdown",
   "id": "a9cf78d5-2642-4ab7-959b-b58762727928",
   "metadata": {},
   "source": [
    "Core walls - concrete"
   ]
  },
  {
   "cell_type": "code",
   "execution_count": 202,
   "id": "b0d302b3-5c5c-4fa5-b249-0da3f40f99a3",
   "metadata": {},
   "outputs": [
    {
     "data": {
      "text/latex": [
       "\\[\n",
       "\\begin{aligned}\n",
       "b_{Core} &= 1365.00\\ \\text{kg} \\cdot \\text{s}^{-2.5} \\cdot \\text{K}^{-1.0} \\; \n",
       "\\end{aligned}\n",
       "\\]"
      ],
      "text/plain": [
       "<IPython.core.display.Latex object>"
      ]
     },
     "metadata": {},
     "output_type": "display_data"
    }
   ],
   "source": [
    "%%render 2\n",
    "\n",
    "b_Core = (1365*W*s**0.5/K/m**2)"
   ]
  },
  {
   "cell_type": "markdown",
   "id": "4dfbd178-e7c3-47de-b18b-8aab8fde50ba",
   "metadata": {},
   "source": [
    "Insulated walls"
   ]
  },
  {
   "cell_type": "code",
   "execution_count": 203,
   "id": "bd330b59-43f6-42da-ac92-70570fd69900",
   "metadata": {},
   "outputs": [],
   "source": [
    "b_Ins = diff_layers(25/1000,1180,951,0.154,150,790,0.218,t_max)*W*s**0.5/K/m**2"
   ]
  },
  {
   "cell_type": "code",
   "execution_count": 204,
   "id": "69f49e97-4aa0-4d18-95d0-30dfc4177028",
   "metadata": {},
   "outputs": [
    {
     "data": {
      "text/latex": [
       "\\[\n",
       "\\begin{aligned}\n",
       "b_{Ins} &= 415.71\\ \\text{kg} \\cdot \\text{s}^{-2.5} \\cdot \\text{K}^{-1.0} \\; \n",
       "\\end{aligned}\n",
       "\\]"
      ],
      "text/plain": [
       "<IPython.core.display.Latex object>"
      ]
     },
     "metadata": {},
     "output_type": "display_data"
    }
   ],
   "source": [
    "%%render 2\n",
    "b_Ins"
   ]
  },
  {
   "cell_type": "markdown",
   "id": "2771f913-70bc-4393-8745-3e7caed0aa9a",
   "metadata": {},
   "source": [
    "Floor"
   ]
  },
  {
   "cell_type": "code",
   "execution_count": 205,
   "id": "52cd6df8-cea0-4475-b2fd-c1b66bf5d8a0",
   "metadata": {},
   "outputs": [],
   "source": [
    "b_f = diff_layers(30/1000,1150,1000,0.4,1180,951,0.154,t_max)*W*s**0.5/K/m**2"
   ]
  },
  {
   "cell_type": "code",
   "execution_count": 206,
   "id": "9ffc9169-a5c0-40a1-a9ad-e4a6cb78835a",
   "metadata": {},
   "outputs": [
    {
     "data": {
      "text/latex": [
       "\\[\n",
       "\\begin{aligned}\n",
       "b_{f} &= 678.23\\ \\text{kg} \\cdot \\text{s}^{-2.5} \\cdot \\text{K}^{-1.0} \\; \n",
       "\\end{aligned}\n",
       "\\]"
      ],
      "text/plain": [
       "<IPython.core.display.Latex object>"
      ]
     },
     "metadata": {},
     "output_type": "display_data"
    }
   ],
   "source": [
    "%%render 2\n",
    "\n",
    "b_f"
   ]
  },
  {
   "cell_type": "markdown",
   "id": "41caf8b1-33e7-487b-a6bd-a8e39bfee3fc",
   "metadata": {
    "tags": []
   },
   "source": [
    "The ceiling of the compartment is a concrete SL-Deck\n"
   ]
  },
  {
   "cell_type": "code",
   "execution_count": 207,
   "id": "83749192-cba2-4c0c-b6c5-38868457eb9f",
   "metadata": {},
   "outputs": [
    {
     "data": {
      "text/latex": [
       "\\[\n",
       "\\begin{aligned}\n",
       "b_{c} &= 1365.00\\ \\text{kg} \\cdot \\text{s}^{-2.5} \\cdot \\text{K}^{-1.0} \\; \n",
       "\\end{aligned}\n",
       "\\]"
      ],
      "text/plain": [
       "<IPython.core.display.Latex object>"
      ]
     },
     "metadata": {},
     "output_type": "display_data"
    }
   ],
   "source": [
    "%%render 2\n",
    "\n",
    "b_c = (1365*W_m_K*s**0.5/m)"
   ]
  },
  {
   "cell_type": "markdown",
   "id": "23542d3f-6e26-4c3e-8f80-f56f6eb6000f",
   "metadata": {},
   "source": [
    "* For different walls in the enclosure"
   ]
  },
  {
   "cell_type": "code",
   "execution_count": 208,
   "id": "67a0a7aa",
   "metadata": {},
   "outputs": [
    {
     "data": {
      "text/latex": [
       "\\[\n",
       "\\begin{aligned}\n",
       "b_{t} &= \\frac{ A_{f} \\cdot b_{f} + A_{c} \\cdot b_{c} + A_{F} \\cdot b_{F} + A_{Ins} \\cdot b_{Ins} + A_{Core} \\cdot b_{Core} }{ A_{t} } \\; \n",
       "\\end{aligned}\n",
       "\\]"
      ],
      "text/plain": [
       "<IPython.core.display.Latex object>"
      ]
     },
     "metadata": {},
     "output_type": "display_data"
    }
   ],
   "source": [
    "%%render symbolic\n",
    "\n",
    "b_t = (A_f*b_f +A_c*b_c + A_F*b_F + A_Ins*b_Ins +A_Core*b_Core)/A_t"
   ]
  },
  {
   "cell_type": "code",
   "execution_count": 209,
   "id": "c07c65e2",
   "metadata": {},
   "outputs": [
    {
     "data": {
      "text/latex": [
       "\\[\n",
       "\\begin{aligned}\n",
       "b_{t} &= 813.32\\ \\text{kg} \\cdot \\text{s}^{-2.5} \\cdot \\text{K}^{-1.0} \\; \n",
       "\\end{aligned}\n",
       "\\]"
      ],
      "text/plain": [
       "<IPython.core.display.Latex object>"
      ]
     },
     "metadata": {},
     "output_type": "display_data"
    }
   ],
   "source": [
    "%%render 2\n",
    "b_t"
   ]
  },
  {
   "cell_type": "markdown",
   "id": "26da80a0",
   "metadata": {},
   "source": [
    "Parametric curve validity check"
   ]
  },
  {
   "cell_type": "code",
   "execution_count": 210,
   "id": "013172a0-ea26-4319-bbd2-e1e3f0823a77",
   "metadata": {
    "tags": []
   },
   "outputs": [
    {
     "data": {
      "text/markdown": [
       "Compartment height not compatible with model."
      ],
      "text/plain": [
       "<IPython.core.display.Markdown object>"
      ]
     },
     "metadata": {},
     "output_type": "display_data"
    }
   ],
   "source": [
    "if A_f >= 500: \n",
    "    display(Markdown('Compartment size not compatible with model.'))\n",
    "elif H >= 4:\n",
    "    display(Markdown('Compartment height not compatible with model.'))\n",
    "elif not(0.019 < O <= 0.2):\n",
    "    display(Markdown('Opening factor not compatible with model.'))\n",
    "elif not(100<=b_t<=2200):\n",
    "    display(Markdown('Thermal inertia not compatible with model.'))\n",
    "elif not(50*10**9 < q*(A_t) < 1000*10**9):\n",
    "    display(Markdown('Fuel load not compatible with model.'))\n",
    "else:\n",
    "    display(Markdown('Compartment size, height, opening factor, thermal inertia, and fuel load are compatible with model.'))"
   ]
  },
  {
   "cell_type": "code",
   "execution_count": 211,
   "id": "cf8945f2-1b7b-4e98-be11-452e81ba43c8",
   "metadata": {},
   "outputs": [
    {
     "data": {
      "image/png": "[encoded data removed]",
      "text/plain": [
       "<Figure size 432x288 with 1 Axes>"
      ]
     },
     "metadata": {},
     "output_type": "display_data"
    }
   ],
   "source": [
    "t_max = 0.0078*(q.value/10**6)/O.value\n",
    "t = np.arange(0,t_max*5)\n",
    "T = 20+345*np.log10(8*gamma_f(O,b_t)*t+1)/(1+0.04*(t/t_max)**3.5)\n",
    "T_max = T.max()\n",
    "plt.style.use('ggplot')\n",
    "plt.plot(t,T, label=\"Cafeteria, Delivery and Trash area\", color = 'red')\n",
    "plt.ylim(ymax=max(T)*1.2)\n",
    "plt.legend()\n",
    "plt.xlabel(\"Time [min]\")\n",
    "plt.ylabel(\"Temperature [C]\")\n",
    "plt.text(0.5 * (0 + t_max), 0.1 * (0 + T_max),\n",
    "     r\"$T=20 + \\frac{345\\cdot log_{10}(8\\Gamma \\cdot t+1)}{1+0.04(t/t_{max})^{3.5}}$\", horizontalalignment='left',\n",
    "     fontsize=20)\n",
    "plt.annotate(str(round(T_max,2)),xy=(0.8*t[T.argmax()],1.05*T.max()))\n",
    "plt.show()"
   ]
  },
  {
   "cell_type": "code",
   "execution_count": 212,
   "id": "ed08bce0-c5fe-4d09-9bc4-004c6a0a42a5",
   "metadata": {},
   "outputs": [
    {
     "data": {
      "text/markdown": [
       "Maximum temperature 960 °C"
      ],
      "text/plain": [
       "<IPython.core.display.Markdown object>"
      ]
     },
     "metadata": {},
     "output_type": "display_data"
    },
    {
     "data": {
      "text/markdown": [
       "occurs at 37 minutes"
      ],
      "text/plain": [
       "<IPython.core.display.Markdown object>"
      ]
     },
     "metadata": {},
     "output_type": "display_data"
    }
   ],
   "source": [
    "T_max_dsp = T_max*dC\n",
    "t_max_dsp = t_max*minute\n",
    "display(Markdown('Maximum temperature %s' % round(T_max_dsp,0)))\n",
    "display(Markdown('occurs at %s' % round(t_max_dsp,0)))"
   ]
  }
 ],
 "metadata": {
  "interpreter": {
   "hash": "e42634819b8c191a5d07eaf23810ff32516dd8d3875f28ec3e488928fbd3c187"
  },
  "kernelspec": {
   "display_name": "Python 3 (ipykernel)",
   "language": "python",
   "name": "python3"
  },
  "language_info": {
   "codemirror_mode": {
    "name": "ipython",
    "version": 3
   },
   "file_extension": ".py",
   "mimetype": "text/x-python",
   "name": "python",
   "nbconvert_exporter": "python",
   "pygments_lexer": "ipython3",
   "version": "3.8.13"
  }
 },
 "nbformat": 4,
 "nbformat_minor": 5
}
