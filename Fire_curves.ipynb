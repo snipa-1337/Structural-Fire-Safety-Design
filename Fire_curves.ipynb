{
 "cells": [
  {
   "cell_type": "markdown",
   "id": "7f6480f7-6dd1-4487-afcf-0b7c7b96428c",
   "metadata": {},
   "source": [
    "<h1> Fire curves </h1>\n",
    "\n",
    "\n",
    "<h3>Compartment properties</h3>"
   ]
  },
  {
   "cell_type": "code",
   "execution_count": 1,
   "id": "58a6d472",
   "metadata": {
    "tags": []
   },
   "outputs": [],
   "source": [
    "import numpy as np\n",
    "import pandas as pd\n",
    "import sympy as sp\n",
    "import handcalcs.render\n",
    "import forallpeople as si\n",
    "import matplotlib.pyplot as plt\n",
    "from math import tan, sin,cos, pi, radians, sqrt, trunc\n",
    "from IPython.display import display, Markdown\n",
    "si.environment('thermal', top_level=True)"
   ]
  },
  {
   "cell_type": "code",
   "execution_count": 2,
   "id": "c1295fe9-28c9-4311-946d-ee6d7ece5ca0",
   "metadata": {
    "tags": []
   },
   "outputs": [],
   "source": [
    "def Fire_load(building_type):\n",
    "    # Fire load densities according to EN 1991-1-2 DK Annex\n",
    "    if building_type == 'hospital' or building_type == 'cinema' or building_type == 'lecture hall':\n",
    "        q = 150  # MJ/m^2\n",
    "    elif building_type == 'office' or building_type == 'residence':\n",
    "        q = 200  # MJ/m^2\n",
    "    elif building_type == 'car park':\n",
    "        q = 300  # MJ/m^2\n",
    "    else:\n",
    "        raise ValueError(\"Please input a valid building type\")\n",
    "    return q*10**6*J_m2"
   ]
  },
  {
   "cell_type": "markdown",
   "id": "20420fd2",
   "metadata": {},
   "source": [
    "<h4>Fuel load density</h4>"
   ]
  },
  {
   "cell_type": "code",
   "execution_count": 3,
   "id": "e213be93",
   "metadata": {
    "tags": []
   },
   "outputs": [],
   "source": [
    "q = Fire_load('lecture hall')"
   ]
  },
  {
   "cell_type": "code",
   "execution_count": 4,
   "id": "3ebe33d5-6793-4709-bb0b-fb42ecdd60e9",
   "metadata": {},
   "outputs": [
    {
     "data": {
      "text/latex": [
       "\\[\n",
       "\\begin{aligned}\n",
       "q &= 150.00\\ \\text{MJ} \\cdot \\text{m⁻²} \\; \n",
       "\\end{aligned}\n",
       "\\]"
      ],
      "text/plain": [
       "<IPython.core.display.Latex object>"
      ]
     },
     "metadata": {},
     "output_type": "display_data"
    }
   ],
   "source": [
    "%%render 2\n",
    "q"
   ]
  },
  {
   "cell_type": "markdown",
   "id": "caf5e199",
   "metadata": {},
   "source": [
    "<h4>Opening factor<h4>"
   ]
  },
  {
   "cell_type": "markdown",
   "id": "a6a39c93",
   "metadata": {},
   "source": [
    "Enclosure area"
   ]
  },
  {
   "cell_type": "code",
   "execution_count": 5,
   "id": "9bdc3340-ad7c-4565-a2f7-45fd1ed986a1",
   "metadata": {
    "tags": []
   },
   "outputs": [
    {
     "data": {
      "text/latex": [
       "\\[\n",
       "\\begin{aligned}\n",
       "B &= 5.50\\ \\text{m} \\; \n",
       " &L &= 4.50\\ \\text{m} \\; \n",
       " &H &= 3.50\\ \\text{m} \\; \n",
       "\\\\[10pt]\\end{aligned}\n",
       "\\]"
      ],
      "text/plain": [
       "<IPython.core.display.Latex object>"
      ]
     },
     "metadata": {},
     "output_type": "display_data"
    }
   ],
   "source": [
    "%%render param 2\n",
    "#Area of the \"cube\" of the compartment\n",
    "\n",
    "B = 5.5*m\n",
    "L = 4.5*m\n",
    "H = 3.5*m\n"
   ]
  },
  {
   "cell_type": "code",
   "execution_count": 6,
   "id": "24ab609f",
   "metadata": {
    "tags": []
   },
   "outputs": [
    {
     "data": {
      "text/latex": [
       "\\[\n",
       "\\begin{aligned}\n",
       "A_{t} &= 2 \\cdot \\left( B \\cdot L + B \\cdot H + L \\cdot H \\right)  = 2 \\cdot \\left( 5.50\\ \\text{m} \\cdot 4.50\\ \\text{m} + 5.50\\ \\text{m} \\cdot 3.50\\ \\text{m} + 4.50\\ \\text{m} \\cdot 3.50\\ \\text{m} \\right) &= 119.50\\ \\text{m}^{2}  \n",
       "\\end{aligned}\n",
       "\\]"
      ],
      "text/plain": [
       "<IPython.core.display.Latex object>"
      ]
     },
     "metadata": {},
     "output_type": "display_data"
    }
   ],
   "source": [
    "%%render 2\n",
    "\n",
    "A_t = 2*(B*L + B*H + L*H)"
   ]
  },
  {
   "cell_type": "markdown",
   "id": "838424da",
   "metadata": {},
   "source": [
    "Air flow factor"
   ]
  },
  {
   "cell_type": "code",
   "execution_count": 7,
   "id": "378340e5",
   "metadata": {
    "tags": []
   },
   "outputs": [
    {
     "data": {
      "text/latex": [
       "\\[\n",
       "\\begin{aligned}\n",
       "h_{win} &= 2.05\\ \\text{m} \\; \\;\\textrm{(height of window, i)}\n",
       " &w_{win} &= 800.00\\ \\text{mm} \\; \\;\\textrm{(width of window, i)}\n",
       " &h_{door} &= 0.00\\ \\text{m} \\; \\;\\textrm{(height of door, i)}\n",
       "\\\\[10pt]\n",
       " w_{door} &= 0.00\\ \\text{m} \\; \\;\\textrm{(width of door, i)}\\end{aligned}\n",
       "\\]"
      ],
      "text/plain": [
       "<IPython.core.display.Latex object>"
      ]
     },
     "metadata": {},
     "output_type": "display_data"
    }
   ],
   "source": [
    "%%render param 2\n",
    "\n",
    "h_win = 2.052*m #height of window, i\n",
    "w_win = 0.8*m #width of window, i\n",
    "\n",
    "h_door = 0*m#height of door, i\n",
    "w_door = 0*m#width of door, i\n"
   ]
  },
  {
   "cell_type": "code",
   "execution_count": 26,
   "id": "e443b92d",
   "metadata": {
    "tags": []
   },
   "outputs": [
    {
     "data": {
      "text/latex": [
       "\\[\n",
       "\\begin{aligned}\n",
       "A_{win} &= h_{win} \\cdot w_{win}  = 2.05\\ \\text{m} \\cdot 800.00\\ \\text{mm} &= 1.64\\ \\text{m}^{2} \\; \\;\\textrm{(area of window,i)}\n",
       "\\\\[10pt]\n",
       "A_{door} &= h_{door} \\cdot w_{door}  = 0.00\\ \\text{m} \\cdot 0.00\\ \\text{m} &= 0.00\\ \\text{m}^{2} \\; \\;\\textrm{(area of door,i)}\n",
       "\\\\[10pt]\n",
       "A_{o} &= A_{win} + A_{door}  = 1.64\\ \\text{m}^{2} + 0.00\\ \\text{m}^{2} &= 1.64\\ \\text{m}^{2} \\; \\;\\textrm{(Total opening area)}\n",
       "\\\\[10pt]\n",
       "h_{av} &= \\frac{ h_{win} \\cdot A_{win} + h_{door} \\cdot A_{door} }{ A_{o} }  = \\frac{ 2.05\\ \\text{m} \\cdot 1.64\\ \\text{m}^{2} + 0.00\\ \\text{m} \\cdot 0.00\\ \\text{m}^{2} }{ 1.64\\ \\text{m}^{2} } &= 2.05\\ \\text{m} \\; \\;\\textrm{(Average opening height)}\n",
       "\\\\[10pt]\n",
       "\\mathrm{AF} &= \\left( A_{o} \\cdot \\sqrt { h_{av} } \\right) \\cdot \\left( m \\right) ^{ \\left( \\frac{ 1 }{ 2 } \\right) }  = \\left( 1.64\\ \\text{m}^{2} \\cdot \\sqrt { 2.05\\ \\text{m} } \\right) \\cdot \\left( m \\right) ^{ \\left( \\frac{ 1 }{ 2 } \\right) } &= 2.35\\ \\text{m}^{2.5} \\; \\;\\textrm{(Air flow factor)}\n",
       "\\\\[10pt]\n",
       "O &= \\left( \\frac{ \\mathrm{AF} }{ A_{t} } \\right)  = \\left( \\frac{ 2.35\\ \\text{m}^{2.5} }{ 119.50\\ \\text{m}^{2} } \\right) &= 0.02\\ \\text{m}^{0.5}  \n",
       "\\end{aligned}\n",
       "\\]"
      ],
      "text/plain": [
       "<IPython.core.display.Latex object>"
      ]
     },
     "metadata": {},
     "output_type": "display_data"
    }
   ],
   "source": [
    "%%render 2\n",
    "\n",
    "A_win = h_win*w_win #area of window,i\n",
    "A_door = h_door*w_door #area of door,i\n",
    "A_o = A_win + A_door #Total opening area\n",
    "h_av = (h_win*A_win+h_door*A_door)/A_o #Average opening height\n",
    "AF = (A_o*sqrt(h_av))*m**(1/2) #Air flow factor\n",
    "O = (AF/A_t).prefix('unity')"
   ]
  },
  {
   "cell_type": "markdown",
   "id": "3ad23ac8",
   "metadata": {
    "tags": []
   },
   "source": [
    "<h4>Thermal inertia</h4>"
   ]
  },
  {
   "cell_type": "code",
   "execution_count": 9,
   "id": "1e333af7",
   "metadata": {
    "tags": []
   },
   "outputs": [
    {
     "data": {
      "text/latex": [
       "\\[\n",
       "\\begin{aligned}\n",
       "\\rho &= 2300 \\cdot \\frac{ \\mathrm{kg} }{ \\left( m \\right) ^{ 3 } }  = 2300 \\cdot \\frac{ kg }{ \\left( m \\right) ^{ 3 } } &= 2.30\\ \\text{kkg} \\cdot \\text{m⁻³}  \n",
       "\\\\[10pt]\n",
       "c &= 1000 \\cdot \\frac{ J }{ \\mathrm{kg} \\cdot K }  = 1000 \\cdot \\frac{ J }{ kg \\cdot K } &= 1.00\\ \\text{kJ} \\cdot \\text{kg⁻¹} \\cdot \\text{K⁻¹}  \n",
       "\\\\[10pt]\n",
       "\\lambda &= 0.8 \\cdot \\frac{ W }{ m \\cdot K }  = 0.8 \\cdot \\frac{ W }{ m \\cdot K } &= 800.00\\ \\text{mW} \\cdot \\text{m⁻¹} \\cdot \\text{K⁻¹}  \n",
       "\\\\[10pt]\n",
       "b &= \\left( \\rho \\cdot c \\cdot \\lambda \\right) ^{ 0.5 } \\\\&= \\left( 2.30\\ \\text{kkg} \\cdot \\text{m⁻³} \\cdot 1.00\\ \\text{kJ} \\cdot \\text{kg⁻¹} \\cdot \\text{K⁻¹} \\cdot 800.00\\ \\text{mW} \\cdot \\text{m⁻¹} \\cdot \\text{K⁻¹} \\right) ^{ 0.5 } \\\\&= 1356.47\\ \\text{kg} \\cdot \\text{s}^{-2.5} \\cdot \\text{K}^{-1.0}  \\\\\n",
       "\\end{aligned}\n",
       "\\]"
      ],
      "text/plain": [
       "<IPython.core.display.Latex object>"
      ]
     },
     "metadata": {},
     "output_type": "display_data"
    }
   ],
   "source": [
    "%%render 2\n",
    "\n",
    "rho = 2300*kg/(m**3)\n",
    "c = 1000*J/(kg*K)\n",
    "lamb = 0.8*W/(m*K)\n",
    "b = (rho*c*lamb)**0.5"
   ]
  },
  {
   "cell_type": "markdown",
   "id": "23542d3f-6e26-4c3e-8f80-f56f6eb6000f",
   "metadata": {},
   "source": [
    "* Add thermal inertia calculation of different layers and walls"
   ]
  },
  {
   "cell_type": "markdown",
   "id": "26da80a0",
   "metadata": {},
   "source": [
    "Parametric curve validity check"
   ]
  },
  {
   "cell_type": "code",
   "execution_count": 21,
   "id": "fad529e3",
   "metadata": {
    "tags": []
   },
   "outputs": [
    {
     "data": {
      "text/markdown": [
       "Fuel load not compatible with model."
      ],
      "text/plain": [
       "<IPython.core.display.Markdown object>"
      ]
     },
     "metadata": {},
     "output_type": "display_data"
    }
   ],
   "source": [
    "if B*L >= 500: \n",
    "    display(Markdown('Compartment size not compatible with model.'))\n",
    "elif H >= 4:\n",
    "    display(Markdown('Compartment height not compatible with model.'))\n",
    "elif not(0.019 < O <= 0.2):\n",
    "    display(Markdown('Opening factor not compatible with model.'))\n",
    "elif not(100<=b<=2200):\n",
    "    display(Markdown('Thermal inertia not compatible with model.'))\n",
    "elif not(50*10**9 < q*(A_t) < 1000*10**9):\n",
    "    display(Markdown('Fuel load not compatible with model.'))"
   ]
  },
  {
   "cell_type": "code",
   "execution_count": 11,
   "id": "eee7ec99-31cb-4b7b-95f0-b9678d6ffc9a",
   "metadata": {},
   "outputs": [],
   "source": [
    "t_max = 0.0078*(q.value/10**6)/O.value\n",
    "t_max = (t_max)*minute"
   ]
  },
  {
   "cell_type": "code",
   "execution_count": 12,
   "id": "c8a7118e-b2f0-4245-a579-65aaca18dfc2",
   "metadata": {},
   "outputs": [
    {
     "data": {
      "text/html": [
       "59.456 minutes"
      ],
      "text/latex": [
       "59.456\\ \\text{minutes}"
      ],
      "text/markdown": [
       "59.456 minutes"
      ],
      "text/plain": [
       "59.456 minutes"
      ]
     },
     "execution_count": 12,
     "metadata": {},
     "output_type": "execute_result"
    }
   ],
   "source": [
    "t_max"
   ]
  },
  {
   "cell_type": "code",
   "execution_count": 14,
   "id": "fff04a97-1ad9-431d-af1e-92af7103b6f5",
   "metadata": {},
   "outputs": [],
   "source": [
    "def gamma_f(O,b):\n",
    "    return (O.value/0.04/(b.value/1160))**2"
   ]
  },
  {
   "cell_type": "code",
   "execution_count": 15,
   "id": "1cb244bf-3d01-4447-b5a8-8f54de483631",
   "metadata": {},
   "outputs": [],
   "source": [
    "gamma = gamma_f(O,b)"
   ]
  },
  {
   "cell_type": "code",
   "execution_count": 16,
   "id": "dcfa4d17-8a07-4203-97da-ee586b75e903",
   "metadata": {},
   "outputs": [],
   "source": [
    "deltat = t_max/12"
   ]
  },
  {
   "cell_type": "code",
   "execution_count": 17,
   "id": "d99007eb-faaa-4f96-9c5e-f204dd297624",
   "metadata": {},
   "outputs": [
    {
     "data": {
      "text/html": [
       "4.955 minutes"
      ],
      "text/latex": [
       "4.955\\ \\text{minutes}"
      ],
      "text/markdown": [
       "4.955 minutes"
      ],
      "text/plain": [
       "4.955 minutes"
      ]
     },
     "execution_count": 17,
     "metadata": {},
     "output_type": "execute_result"
    }
   ],
   "source": [
    "deltat"
   ]
  },
  {
   "cell_type": "code",
   "execution_count": 18,
   "id": "7e2a673e-8b71-4b1e-a9da-b881f731fe43",
   "metadata": {},
   "outputs": [
    {
     "data": {
      "text/html": [
       "59.456 minutes"
      ],
      "text/latex": [
       "59.456\\ \\text{minutes}"
      ],
      "text/markdown": [
       "59.456 minutes"
      ],
      "text/plain": [
       "59.456 minutes"
      ]
     },
     "execution_count": 18,
     "metadata": {},
     "output_type": "execute_result"
    }
   ],
   "source": [
    "t_max"
   ]
  },
  {
   "cell_type": "code",
   "execution_count": 19,
   "id": "cf8945f2-1b7b-4e98-be11-452e81ba43c8",
   "metadata": {},
   "outputs": [
    {
     "data": {
      "image/png": "[encoded data removed]",
      "text/plain": [
       "<Figure size 432x288 with 1 Axes>"
      ]
     },
     "metadata": {},
     "output_type": "display_data"
    }
   ],
   "source": [
    "t_max = 0.0078*(q.value/10**6)/O.value\n",
    "t = np.arange(0,t_max*5)\n",
    "T = 20+345*np.log10(8*gamma_f(O,b)*t+1)/(1+0.04*(t/t_max)**3.5)\n",
    "T_max = T.max()\n",
    "plt.style.use('ggplot')\n",
    "plt.plot(t,T, label=\"DS parametric fire curve\", color = 'red')\n",
    "plt.ylim(ymax=max(T)*1.2)\n",
    "plt.legend()\n",
    "plt.xlabel(\"Time [min]\")\n",
    "plt.ylabel(\"Temperature [C]\")\n",
    "plt.text(0.5 * (0 + t_max), 0.1 * (0 + T_max),\n",
    "     r\"$T=20 + \\frac{345\\cdot log_{10}(8\\Gamma \\cdot t+1)}{1+0.04(t/t_{max})^{3.5}}$\", horizontalalignment='left',\n",
    "     fontsize=20)\n",
    "plt.show()"
   ]
  }
 ],
 "metadata": {
  "kernelspec": {
   "display_name": "Python 3 (ipykernel)",
   "language": "python",
   "name": "python3"
  },
  "language_info": {
   "codemirror_mode": {
    "name": "ipython",
    "version": 3
   },
   "file_extension": ".py",
   "mimetype": "text/x-python",
   "name": "python",
   "nbconvert_exporter": "python",
   "pygments_lexer": "ipython3",
   "version": "3.8.12"
  }
 },
 "nbformat": 4,
 "nbformat_minor": 5
}
