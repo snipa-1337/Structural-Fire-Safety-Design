{
 "cells": [
  {
   "cell_type": "code",
   "execution_count": 111,
   "metadata": {},
   "outputs": [],
   "source": [
    "import numpy as np\n",
    "import pandas as pd\n",
    "pd.options.mode.chained_assignment = None  # default='warn'\n",
    "import sympy as sp\n",
    "import handcalcs.render\n",
    "import forallpeople as si\n",
    "import matplotlib.pyplot as plt\n",
    "%matplotlib inline\n",
    "from math import tan, sin,cos, pi, radians, sqrt, trunc\n",
    "from IPython.display import display, Markdown\n",
    "si.environment('structural', top_level=True)"
   ]
  },
  {
   "cell_type": "markdown",
   "metadata": {},
   "source": [
    "<h2>Column verification</h2>\n",
    "\n",
    "<h3>Compartment: Entrance and Lounge</h3>\n",
    "\n",
    "<img src= \"critical_column.png\" style=\"width: 600px;\"/>"
   ]
  },
  {
   "cell_type": "markdown",
   "metadata": {},
   "source": [
    "<h4>Loads</h4>"
   ]
  },
  {
   "cell_type": "code",
   "execution_count": 112,
   "metadata": {},
   "outputs": [
    {
     "data": {
      "text/latex": [
       "\\[\n",
       "\\begin{aligned}\n",
       "F_{load} &= 7.40\\ \\text{MN} \\; \n",
       " &e_{load} &= 26.04\\ \\text{mm} \\;\\end{aligned}\n",
       "\\]"
      ],
      "text/plain": [
       "<IPython.core.display.Latex object>"
      ]
     },
     "metadata": {},
     "output_type": "display_data"
    }
   ],
   "source": [
    "%%render param 2\n",
    "\n",
    "F_load  = 7395.08*kN\n",
    "e_load = 192.60*kN*m/F_load"
   ]
  },
  {
   "cell_type": "markdown",
   "metadata": {},
   "source": [
    "<h4>Column parameters</h4>"
   ]
  },
  {
   "cell_type": "code",
   "execution_count": 113,
   "metadata": {},
   "outputs": [
    {
     "data": {
      "text/latex": [
       "\\[\n",
       "\\begin{aligned}\n",
       "L &= 11.40\\ \\text{m} \\; \n",
       " &b &= 660.00\\ \\text{mm} \\; \n",
       " &h &= 660.00\\ \\text{mm} \\; \n",
       "\\\\[10pt]\n",
       " c &= 40.00\\ \\text{mm} \\; \n",
       " &f_{ck20} &= 55.00\\ \\text{MPa} \\; \n",
       " &E_{c20} &= 36.00\\ \\text{GPa} \\; \n",
       "\\\\[10pt]\n",
       " \\phi_{s} &= 20.00\\ \\text{mm} \\; \n",
       " &f_{s20} &= 500.00\\ \\text{MPa} \\; \n",
       " &E_{s20} &= 200.00\\ \\text{GPa} \\; \n",
       "\\\\[10pt]\\end{aligned}\n",
       "\\]"
      ],
      "text/plain": [
       "<IPython.core.display.Latex object>"
      ]
     },
     "metadata": {},
     "output_type": "display_data"
    }
   ],
   "source": [
    "%%render param 2\n",
    "\n",
    "L = 11.4*m\n",
    "b = 660*mm\n",
    "h = 660*mm\n",
    "c = 40*mm\n",
    "f_ck20 = 55*MPa\n",
    "E_c20 = 36000*MPa\n",
    "phi_s = 20*mm\n",
    "f_s20 = 500*MPa\n",
    "E_s20 = 200*GPa\n"
   ]
  },
  {
   "cell_type": "markdown",
   "metadata": {},
   "source": [
    "From CONFIRE"
   ]
  },
  {
   "cell_type": "markdown",
   "metadata": {
    "tags": []
   },
   "source": [
    "<img src=\"confire_column4.png\" width=400>"
   ]
  },
  {
   "cell_type": "code",
   "execution_count": 114,
   "metadata": {},
   "outputs": [
    {
     "data": {
      "text/latex": [
       "\\[\n",
       "\\begin{aligned}\n",
       "T_{max} &= 549.00\\ \\text{°C} \\; \n",
       " &\\xi_{CMH} &= 1 \\; \n",
       " &\\eta_{H} &= 9.44 \\times 10 ^ {-1 } \\; \n",
       "\\\\[10pt]\n",
       " T_{cold} &= 552.00\\ \\text{°C} \\; \n",
       " &\\xi_{CMC} &= 9.92 \\times 10 ^ {-1 } \\; \n",
       " &\\eta_{C} &= 8.67 \\times 10 ^ {-1 } \\; \n",
       "\\\\[10pt]\\end{aligned}\n",
       "\\]"
      ],
      "text/plain": [
       "<IPython.core.display.Latex object>"
      ]
     },
     "metadata": {},
     "output_type": "display_data"
    }
   ],
   "source": [
    "%%render param 2\n",
    "\n",
    "T_max = (549*dC)\n",
    "xi_CMH = 1\n",
    "eta_H = 0.9438\n",
    "T_cold = (552*dC) \n",
    "xi_CMC = 0.9922\n",
    "eta_C = 0.8669"
   ]
  },
  {
   "cell_type": "code",
   "execution_count": 115,
   "metadata": {},
   "outputs": [],
   "source": [
    "cte = pd.read_excel('strength-reduction-constants.xlsx')"
   ]
  },
  {
   "cell_type": "code",
   "execution_count": 116,
   "metadata": {
    "jupyter": {
     "source_hidden": true
    },
    "tags": []
   },
   "outputs": [],
   "source": [
    "def material_constants(mat_index):\n",
    "    k = cte['k '][mat_index]\n",
    "    T1 = cte['T1 '][mat_index]*dC\n",
    "    T2 = cte['T2 '][mat_index]*dC\n",
    "    T8 = cte['T8 '][mat_index]*dC\n",
    "    T64 = cte['T64'][mat_index]*dC\n",
    "    return k, T1, T2, T8, T64\n",
    "\n"
   ]
  },
  {
   "cell_type": "code",
   "execution_count": 117,
   "metadata": {
    "jupyter": {
     "source_hidden": true
    },
    "tags": []
   },
   "outputs": [],
   "source": [
    "from handcalcs import handcalc\n",
    "@handcalc(jupyter_display = True)\n",
    "def material_deterioration(T,k,T1,T2,T8,T64):\n",
    "    \"\"\"\n",
    "    Calculate the deterioration of a material.\n",
    "    \"\"\"\n",
    "    xi = k + (1-k)/(1+T/T1+(T/T2)**2+(T/T8)**8+(T/T64)**64)\n",
    "    return xi\n"
   ]
  },
  {
   "cell_type": "markdown",
   "metadata": {},
   "source": [
    "Degradation factors for steel reinforcement\n",
    "\n",
    "HOT"
   ]
  },
  {
   "cell_type": "code",
   "execution_count": 118,
   "metadata": {},
   "outputs": [
    {
     "data": {
      "text/latex": [
       "\\[\n",
       "\\begin{aligned}\n",
       "\\xi &= k + \\frac{ 1 - k }{ 1 + \\frac{ T }{ \\mathrm{T1} } + \\left( \\frac{ T }{ \\mathrm{T2} } \\right) ^{ 2 } + \\left( \\frac{ T }{ \\mathrm{T8} } \\right) ^{ 8 } + \\left( \\frac{ T }{ \\mathrm{T64} } \\right) ^{ 64 } } \\\\&= 0.0 + \\frac{ 1 - 0.0 }{ 1 + \\frac{ 549.000\\ \\text{°C} }{ 6.000\\ \\text{k°C} } + \\left( \\frac{ 549.000\\ \\text{°C} }{ 620.000\\ \\text{°C} } \\right) ^{ 2 } + \\left( \\frac{ 549.000\\ \\text{°C} }{ 565.000\\ \\text{°C} } \\right) ^{ 8 } + \\left( \\frac{ 549.000\\ \\text{°C} }{ 1.100\\ \\text{k°C} } \\right) ^{ 64 } } \\\\&= 3.745 \\times 10 ^ {-1 }  \\\\\n",
       "\\end{aligned}\n",
       "\\]"
      ],
      "text/plain": [
       "<IPython.core.display.Latex object>"
      ]
     },
     "metadata": {},
     "output_type": "display_data"
    }
   ],
   "source": [
    "k, T1, T2, T8, T64 = material_constants(0)\n",
    "xi_sH = material_deterioration(T_max,k,T1,T2,T8,T64)\n"
   ]
  },
  {
   "cell_type": "code",
   "execution_count": 119,
   "metadata": {},
   "outputs": [
    {
     "data": {
      "text/latex": [
       "\\[\n",
       "\\begin{aligned}\n",
       "\\xi_{sH} &= 3.745 \\times 10 ^ {-1 } \\; \n",
       "\\end{aligned}\n",
       "\\]"
      ],
      "text/plain": [
       "<IPython.core.display.Latex object>"
      ]
     },
     "metadata": {},
     "output_type": "display_data"
    }
   ],
   "source": [
    "%%render\n",
    "xi_sH"
   ]
  },
  {
   "cell_type": "markdown",
   "metadata": {},
   "source": [
    "COLD"
   ]
  },
  {
   "cell_type": "code",
   "execution_count": 120,
   "metadata": {},
   "outputs": [
    {
     "data": {
      "text/latex": [
       "\\[\n",
       "\\begin{aligned}\n",
       "\\xi &= k + \\frac{ 1 - k }{ 1 + \\frac{ T }{ \\mathrm{T1} } + \\left( \\frac{ T }{ \\mathrm{T2} } \\right) ^{ 2 } + \\left( \\frac{ T }{ \\mathrm{T8} } \\right) ^{ 8 } + \\left( \\frac{ T }{ \\mathrm{T64} } \\right) ^{ 64 } } \\\\&= 1.0 + \\frac{ 1 - 1.0 }{ 1 + \\frac{ 552.000\\ \\text{°C} }{ 100.000\\ \\text{k°C} } + \\left( \\frac{ 552.000\\ \\text{°C} }{ 100.000\\ \\text{k°C} } \\right) ^{ 2 } + \\left( \\frac{ 552.000\\ \\text{°C} }{ 100.000\\ \\text{k°C} } \\right) ^{ 8 } + \\left( \\frac{ 552.000\\ \\text{°C} }{ 100.000\\ \\text{k°C} } \\right) ^{ 64 } } \\\\&= 1.0  \\\\\n",
       "\\end{aligned}\n",
       "\\]"
      ],
      "text/plain": [
       "<IPython.core.display.Latex object>"
      ]
     },
     "metadata": {},
     "output_type": "display_data"
    }
   ],
   "source": [
    "k, T1, T2, T8, T64 = material_constants(2)\n",
    "xi_sC = material_deterioration(T_cold,k,T1,T2,T8,T64)"
   ]
  },
  {
   "cell_type": "code",
   "execution_count": 121,
   "metadata": {},
   "outputs": [
    {
     "data": {
      "text/latex": [
       "\\[\n",
       "\\begin{aligned}\n",
       "\\xi_{sC} &= 1.0 \\; \n",
       "\\end{aligned}\n",
       "\\]"
      ],
      "text/plain": [
       "<IPython.core.display.Latex object>"
      ]
     },
     "metadata": {},
     "output_type": "display_data"
    }
   ],
   "source": [
    "%%render\n",
    "xi_sC"
   ]
  },
  {
   "cell_type": "markdown",
   "metadata": {},
   "source": [
    "**Before fire**"
   ]
  },
  {
   "cell_type": "code",
   "execution_count": 122,
   "metadata": {},
   "outputs": [
    {
     "data": {
      "text/latex": [
       "\\[\n",
       "\\begin{aligned}\n",
       "A_{s} &= 8 \\cdot \\pi \\cdot \\frac{ \\left( \\phi_{s} \\right) ^{ 2 } }{ 4 } \\\\&= 8 \\cdot 3.14 \\cdot \\frac{ \\left( 20.00\\ \\text{mm} \\right) ^{ 2 } }{ 4 } \\\\&= 2513.27\\ \\text{mm}^{2} \\; \\;\\textrm{(Rebar area)}\\\\\n",
       "\\\\[10pt]\n",
       "F_{su20} &= A_{s} \\cdot f_{s20} \\\\&= 2513.27\\ \\text{mm}^{2} \\cdot 500.00\\ \\text{MPa} \\\\&= 1.26\\ \\text{MN} \\; \\;\\textrm{(Rebar strength)}\\\\\n",
       "\\\\[10pt]\n",
       "I_{s} &= A_{s} \\cdot \\left( \\frac{ h }{ 2 } - \\left( c + \\frac{ \\phi_{s} }{ 2 } \\right) \\right) ^{ 2 } \\\\&= 2513.27\\ \\text{mm}^{2} \\cdot \\left( \\frac{ 660.00\\ \\text{mm} }{ 2 } - \\left( 40.00\\ \\text{mm} + \\frac{ 20.00\\ \\text{mm} }{ 2 } \\right) \\right) ^{ 2 } \\\\&= 197040691.23\\ \\text{mm}^{4} \\; \\;\\textrm{(Moment of inertia of steel bars)}\\\\\n",
       "\\\\[10pt]\n",
       "F_{sE20} &= \\left( \\pi \\right) ^{ 2 } \\cdot E_{s20} \\cdot \\frac{ I_{s} }{ \\left( L \\right) ^{ 2 } } \\\\&= \\left( 3.14 \\right) ^{ 2 } \\cdot 200.00\\ \\text{GPa} \\cdot \\frac{ 197040691.23\\ \\text{mm}^{4} }{ \\left( 11.40\\ \\text{m} \\right) ^{ 2 } } \\\\&= 2.99\\ \\text{MN} \\; \\;\\textrm{(Euler resistance)}\\\\\n",
       "\\end{aligned}\n",
       "\\]"
      ],
      "text/plain": [
       "<IPython.core.display.Latex object>"
      ]
     },
     "metadata": {},
     "output_type": "display_data"
    }
   ],
   "source": [
    "%%render long 2\n",
    "\n",
    "A_s = 8*pi*phi_s**2/4 #Rebar area\n",
    "F_su20 = A_s*f_s20 #Rebar strength\n",
    "I_s = A_s*(h/2-(c+phi_s/2))**2 #Moment of inertia of steel bars\n",
    "F_sE20 = pi**2*E_s20*I_s/L**2 #Euler resistance"
   ]
  },
  {
   "cell_type": "code",
   "execution_count": 123,
   "metadata": {},
   "outputs": [
    {
     "data": {
      "text/latex": [
       "\\[\n",
       "\\begin{aligned}\n",
       "A_{c20} &= b \\cdot h \\\\&= 660.00\\ \\text{mm} \\cdot 660.00\\ \\text{mm} \\\\&= 435600.00\\ \\text{mm}^{2} \\; \\;\\textrm{(Concrete area)}\\\\\n",
       "\\\\[10pt]\n",
       "I_{c20} &= b \\cdot \\frac{ \\left( h \\right) ^{ 3 } }{ 12 } \\\\&= 660.00\\ \\text{mm} \\cdot \\frac{ \\left( 660.00\\ \\text{mm} \\right) ^{ 3 } }{ 12 } \\\\&= 15812280000.00\\ \\text{mm}^{4} \\; \\;\\textrm{(Moment of inertia of concrete)}\\\\\n",
       "\\\\[10pt]\n",
       "F_{c20} &= A_{c20} \\cdot f_{ck20} \\\\&= 435600.00\\ \\text{mm}^{2} \\cdot 55.00\\ \\text{MPa} \\\\&= 23.96\\ \\text{MN} \\; \\;\\textrm{(Strength of concrete section)}\\\\\n",
       "\\\\[10pt]\n",
       "F_{cE20} &= \\left( \\pi \\right) ^{ 2 } \\cdot I_{c20} \\cdot \\frac{ E_{c20} }{ \\left( L \\right) ^{ 2 } } \\\\&= \\left( 3.14 \\right) ^{ 2 } \\cdot 15812280000.00\\ \\text{mm}^{4} \\cdot \\frac{ 36.00\\ \\text{GPa} }{ \\left( 11.40\\ \\text{m} \\right) ^{ 2 } } \\\\&= 43.23\\ \\text{MN} \\; \\;\\textrm{(Euler resistance)}\\\\\n",
       "\\\\[10pt]\n",
       "F_{R20} &= \\left( \\frac{ 1 }{ F_{c20} + F_{su20} } + \\frac{ 1 }{ F_{cE20} + F_{sE20} } \\right) ^{ -1 } \\\\&= \\left( \\frac{ 1 }{ 23.96\\ \\text{MN} + 1.26\\ \\text{MN} } + \\frac{ 1 }{ 43.23\\ \\text{MN} + 2.99\\ \\text{MN} } \\right) ^{ -1 } \\\\&= 16.31\\ \\text{MN} \\; \\;\\textrm{(Rankine resistance)}\\\\\n",
       "\\end{aligned}\n",
       "\\]"
      ],
      "text/plain": [
       "<IPython.core.display.Latex object>"
      ]
     },
     "metadata": {},
     "output_type": "display_data"
    }
   ],
   "source": [
    "%%render long 2\n",
    "\n",
    "A_c20 = b*h #Concrete area\n",
    "I_c20 = b*h**3/12 #Moment of inertia of concrete\n",
    "F_c20 = A_c20*f_ck20 #Strength of concrete section\n",
    "F_cE20 = pi**2*I_c20*E_c20/L**2 #Euler resistance\n",
    "F_R20 = (1/(F_c20+F_su20)+1/(F_cE20+F_sE20))**-1 #Rankine resistance"
   ]
  },
  {
   "cell_type": "markdown",
   "metadata": {},
   "source": [
    "Check on eccentricity and uncracked capacity\n",
    "\n",
    "No thermal contribution to the eccentricy"
   ]
  },
  {
   "cell_type": "code",
   "execution_count": 124,
   "metadata": {},
   "outputs": [],
   "source": [
    "e_20 = e_load"
   ]
  },
  {
   "cell_type": "code",
   "execution_count": 125,
   "metadata": {},
   "outputs": [
    {
     "data": {
      "text/markdown": [
       "Since $e_{20} <  b/6$, no tensile stress occur"
      ],
      "text/plain": [
       "<IPython.core.display.Markdown object>"
      ]
     },
     "metadata": {},
     "output_type": "display_data"
    }
   ],
   "source": [
    "if e_20 < b/6: display(Markdown('Since $e_{20} <  b/6$, no tensile stress occur'))\n",
    "else: display(Markdown('Tensile stresses will occur'))"
   ]
  },
  {
   "cell_type": "code",
   "execution_count": 126,
   "metadata": {},
   "outputs": [
    {
     "data": {
      "text/latex": [
       "\\[\n",
       "\\begin{aligned}\n",
       "F_{ucr20} &= F_{R20} \\cdot \\left( 1 - 2 \\cdot \\frac{ e_{20} }{ b } \\right)  = 16.31\\ \\text{MN} \\cdot \\left( 1 - 2 \\cdot \\frac{ 26.04\\ \\text{mm} }{ 660.00\\ \\text{mm} } \\right) &= 15.03\\ \\text{MN}  \n",
       "\\\\[10pt]\n",
       "& \\textrm{ Utilization factor}\\\\[10pt]\n",
       "\\mu &= \\frac{ F_{load} }{ F_{ucr20} }  = \\frac{ 7.40\\ \\text{MN} }{ 15.03\\ \\text{MN} } &= 4.92 \\times 10 ^ {-1 }  \n",
       "\\end{aligned}\n",
       "\\]"
      ],
      "text/plain": [
       "<IPython.core.display.Latex object>"
      ]
     },
     "metadata": {},
     "output_type": "display_data"
    }
   ],
   "source": [
    "%%render 2\n",
    "\n",
    "F_ucr20 = F_R20*(1-2*e_20/b)\n",
    "## Utilization factor\n",
    "mu = F_load/F_ucr20"
   ]
  },
  {
   "cell_type": "markdown",
   "metadata": {},
   "source": [
    "**HOT - During fire**\n",
    "\n",
    "Steel yield strength and Young modulus reduction"
   ]
  },
  {
   "cell_type": "code",
   "execution_count": 127,
   "metadata": {},
   "outputs": [
    {
     "data": {
      "text/latex": [
       "\\[\n",
       "\\begin{aligned}\n",
       "F_{suH} &= \\xi_{sH} \\cdot F_{su20}  = 3.74 \\times 10 ^ {-1 } \\cdot 1.26\\ \\text{MN} &= 470.60\\ \\text{kN}  \n",
       "\\\\[10pt]\n",
       "F_{sEH} &= \\xi_{sH} \\cdot F_{sE20}  = 3.74 \\times 10 ^ {-1 } \\cdot 2.99\\ \\text{MN} &= 1.12\\ \\text{MN}  \n",
       "\\end{aligned}\n",
       "\\]"
      ],
      "text/plain": [
       "<IPython.core.display.Latex object>"
      ]
     },
     "metadata": {},
     "output_type": "display_data"
    }
   ],
   "source": [
    "%%render 2\n",
    "\n",
    "F_suH = xi_sH*F_su20\n",
    "F_sEH = xi_sH*F_sE20"
   ]
  },
  {
   "cell_type": "markdown",
   "metadata": {},
   "source": [
    "Reduced cross-section"
   ]
  },
  {
   "cell_type": "code",
   "execution_count": 128,
   "metadata": {},
   "outputs": [
    {
     "data": {
      "text/latex": [
       "\\[\n",
       "\\begin{aligned}\n",
       "b_{H} &= b \\cdot \\left( \\eta_{H} \\right) ^{ \\left( \\frac{ 4 }{ 3 } \\right) }  = 660.00\\ \\text{mm} \\cdot \\left( 9.44 \\times 10 ^ {-1 } \\right) ^{ \\left( \\frac{ 4 }{ 3 } \\right) } &= 611.01\\ \\text{mm}  \n",
       "\\\\[10pt]\n",
       "h_{H} &= h - b \\cdot \\left( 1 - \\left( \\eta_{H} \\right) ^{ \\left( \\frac{ 4 }{ 3 } \\right) } \\right)  = 660.00\\ \\text{mm} - 660.00\\ \\text{mm} \\cdot \\left( 1 - \\left( 9.44 \\times 10 ^ {-1 } \\right) ^{ \\left( \\frac{ 4 }{ 3 } \\right) } \\right) &= 611.01\\ \\text{mm}  \n",
       "\\\\[10pt]\n",
       "A_{cH} &= b_{H} \\cdot h_{H}  = 611.01\\ \\text{mm} \\cdot 611.01\\ \\text{mm} &= 373337.09\\ \\text{mm}^{2}  \n",
       "\\end{aligned}\n",
       "\\]"
      ],
      "text/plain": [
       "<IPython.core.display.Latex object>"
      ]
     },
     "metadata": {},
     "output_type": "display_data"
    }
   ],
   "source": [
    "%%render 2\n",
    "\n",
    "b_H = b*eta_H**(4/3)\n",
    "#The next line is here only in case we change the section to a rectangular one. Otherwise, if it is squared the b_H will be the same as h_H\n",
    "h_H = h-b*(1-eta_H**(4/3))\n",
    "A_cH = b_H*h_H"
   ]
  },
  {
   "cell_type": "markdown",
   "metadata": {},
   "source": [
    "Reduced strength"
   ]
  },
  {
   "cell_type": "code",
   "execution_count": 129,
   "metadata": {},
   "outputs": [
    {
     "data": {
      "text/latex": [
       "\\[\n",
       "\\begin{aligned}\n",
       "F_{cH} &= A_{cH} \\cdot f_{ck20} \\cdot \\xi_{CMH}  = 373337.09\\ \\text{mm}^{2} \\cdot 55.00\\ \\text{MPa} \\cdot 1 &= 20.53\\ \\text{MN}  \n",
       "\\end{aligned}\n",
       "\\]"
      ],
      "text/plain": [
       "<IPython.core.display.Latex object>"
      ]
     },
     "metadata": {},
     "output_type": "display_data"
    }
   ],
   "source": [
    "%%render 2\n",
    "F_cH = A_cH*f_ck20*xi_CMH "
   ]
  },
  {
   "cell_type": "markdown",
   "metadata": {},
   "source": [
    "Reduced stiffness"
   ]
  },
  {
   "cell_type": "code",
   "execution_count": 130,
   "metadata": {},
   "outputs": [
    {
     "data": {
      "text/latex": [
       "\\[\n",
       "\\begin{aligned}\n",
       "E_{cH} &= E_{c20} \\cdot \\left( \\xi_{CMH} \\right) ^{ 2 }  = 36.00\\ \\text{GPa} \\cdot \\left( 1 \\right) ^{ 2 } &= 36.00\\ \\text{GPa}  \n",
       "\\\\[10pt]\n",
       "I_{cH} &= b_{H} \\cdot \\frac{ \\left( h_{H} \\right) ^{ 3 } }{ 12 }  = 611.01\\ \\text{mm} \\cdot \\frac{ \\left( 611.01\\ \\text{mm} \\right) ^{ 3 } }{ 12 } &= 11615048265.60\\ \\text{mm}^{4}  \n",
       "\\\\[10pt]\n",
       "F_{cEH} &= \\left( \\pi \\right) ^{ 2 } \\cdot I_{cH} \\cdot \\frac{ E_{cH} }{ \\left( L \\right) ^{ 2 } }  = \\left( 3.14 \\right) ^{ 2 } \\cdot 11615048265.60\\ \\text{mm}^{4} \\cdot \\frac{ 36.00\\ \\text{GPa} }{ \\left( 11.40\\ \\text{m} \\right) ^{ 2 } } &= 31.76\\ \\text{MN}  \n",
       "\\end{aligned}\n",
       "\\]"
      ],
      "text/plain": [
       "<IPython.core.display.Latex object>"
      ]
     },
     "metadata": {},
     "output_type": "display_data"
    }
   ],
   "source": [
    "%%render 2\n",
    "\n",
    "E_cH = E_c20*xi_CMH**2\n",
    "I_cH = b_H*h_H**3/12\n",
    "F_cEH = pi**2*I_cH*E_cH/L**2"
   ]
  },
  {
   "cell_type": "markdown",
   "metadata": {},
   "source": [
    "Rankine resistance"
   ]
  },
  {
   "cell_type": "code",
   "execution_count": 131,
   "metadata": {},
   "outputs": [
    {
     "data": {
      "text/latex": [
       "\\[\n",
       "\\begin{aligned}\n",
       "F_{RH} &= \\left( \\frac{ 1 }{ F_{cH} + F_{suH} } + \\frac{ 1 }{ F_{cEH} + F_{sEH} } \\right) ^{ -1 }  = \\left( \\frac{ 1 }{ 20.53\\ \\text{MN} + 470.60\\ \\text{kN} } + \\frac{ 1 }{ 31.76\\ \\text{MN} + 1.12\\ \\text{MN} } \\right) ^{ -1 } &= 12.82\\ \\text{MN}  \n",
       "\\end{aligned}\n",
       "\\]"
      ],
      "text/plain": [
       "<IPython.core.display.Latex object>"
      ]
     },
     "metadata": {},
     "output_type": "display_data"
    }
   ],
   "source": [
    "%%render 2\n",
    "\n",
    "F_RH = (1/(F_cH+F_suH)+1/(F_cEH+F_sEH))**-1"
   ]
  },
  {
   "cell_type": "markdown",
   "metadata": {},
   "source": [
    "Temperature at the edge"
   ]
  },
  {
   "cell_type": "code",
   "execution_count": 132,
   "metadata": {},
   "outputs": [
    {
     "data": {
      "text/latex": [
       "\\[\n",
       "\\begin{aligned}\n",
       "a_{cH} &= \\frac{ b }{ 2 } - \\frac{ b_{H} }{ 2 }  = \\frac{ 660.00\\ \\text{mm} }{ 2 } - \\frac{ 611.01\\ \\text{mm} }{ 2 } &= 24.49\\ \\text{mm}  \n",
       "\\\\[10pt]\n",
       "T_{cH} &= 603.00\\ \\text{°C} \\; \n",
       "\\end{aligned}\n",
       "\\]"
      ],
      "text/plain": [
       "<IPython.core.display.Latex object>"
      ]
     },
     "metadata": {},
     "output_type": "display_data"
    }
   ],
   "source": [
    "%%render 2\n",
    "\n",
    "a_cH = b/2-b_H/2\n",
    "T_cH = (603*dC)"
   ]
  },
  {
   "cell_type": "code",
   "execution_count": 133,
   "metadata": {},
   "outputs": [
    {
     "data": {
      "text/latex": [
       "\\[\n",
       "\\begin{aligned}\n",
       "\\mathrm{AE}_{cH} &= A_{cH} \\cdot E_{cH}  = 373337.09\\ \\text{mm}^{2} \\cdot 36.00\\ \\text{GPa} &= 13.44\\ \\text{GN}  \n",
       "\\\\[10pt]\n",
       "\\mathrm{EI}_{cH} &= I_{cH} \\cdot E_{cH}  = 11615048265.60\\ \\text{mm}^{4} \\cdot 36.00\\ \\text{GPa} &= 418.14\\ \\text{MN} \\cdot \\text{m²}  \n",
       "\\\\[10pt]\n",
       "\\mathrm{AE}_{sH} &= A_{s} \\cdot E_{s20} \\cdot \\xi_{sH}  = 2513.27\\ \\text{mm}^{2} \\cdot 200.00\\ \\text{GPa} \\cdot 3.74 \\times 10 ^ {-1 } &= 188.24\\ \\text{MN}  \n",
       "\\\\[10pt]\n",
       "\\mathrm{EI}_{sH} &= I_{s} \\cdot E_{s20} \\cdot \\xi_{sH}  = 197040691.23\\ \\text{mm}^{4} \\cdot 200.00\\ \\text{GPa} \\cdot 3.74 \\times 10 ^ {-1 } &= 14.76\\ \\text{MN} \\cdot \\text{m²}  \n",
       "\\end{aligned}\n",
       "\\]"
      ],
      "text/plain": [
       "<IPython.core.display.Latex object>"
      ]
     },
     "metadata": {},
     "output_type": "display_data"
    }
   ],
   "source": [
    "%%render 2\n",
    "\n",
    "AE_cH = A_cH*E_cH\n",
    "EI_cH = I_cH*E_cH\n",
    "AE_sH = A_s*E_s20*xi_sH\n",
    "EI_sH = I_s*E_s20*xi_sH\n"
   ]
  },
  {
   "cell_type": "markdown",
   "metadata": {},
   "source": [
    "Concrete stresses at the edges of the reduced cross-section"
   ]
  },
  {
   "cell_type": "code",
   "execution_count": 134,
   "metadata": {},
   "outputs": [
    {
     "data": {
      "text/latex": [
       "\\[\n",
       "\\begin{aligned}\n",
       "\\sigma_{c0H} &= F_{load} \\cdot \\frac{ E_{cH} }{ \\mathrm{AE}_{cH} + \\mathrm{AE}_{sH} } \\\\&= 7.40\\ \\text{MN} \\cdot \\frac{ 36.00\\ \\text{GPa} }{ 13.44\\ \\text{GN} + 188.24\\ \\text{MN} } \\\\&= 19.53\\ \\text{MPa}  \\\\\n",
       "\\\\[10pt]\n",
       "\\Delta_{\\sigma_{cH}} &= F_{load} \\cdot e_{load} \\cdot \\frac{ E_{cH} }{ \\mathrm{EI}_{cH} + \\mathrm{EI}_{sH} } \\cdot \\frac{ b_{H} }{ 2 } \\\\&= 7.40\\ \\text{MN} \\cdot 26.04\\ \\text{mm} \\cdot \\frac{ 36.00\\ \\text{GPa} }{ 418.14\\ \\text{MN} \\cdot \\text{m²} + 14.76\\ \\text{MN} \\cdot \\text{m²} } \\cdot \\frac{ 611.01\\ \\text{mm} }{ 2 } \\\\&= 4.89\\ \\text{MPa}  \\\\\n",
       "\\end{aligned}\n",
       "\\]"
      ],
      "text/plain": [
       "<IPython.core.display.Latex object>"
      ]
     },
     "metadata": {},
     "output_type": "display_data"
    }
   ],
   "source": [
    "%%render long 2\n",
    "\n",
    "sigma_c0H = F_load*E_cH/(AE_cH+AE_sH)\n",
    "Delta_sigma_cH = F_load*e_load*E_cH/(EI_cH+EI_sH)*b_H/2\n"
   ]
  },
  {
   "cell_type": "code",
   "execution_count": 135,
   "metadata": {},
   "outputs": [
    {
     "data": {
      "text/latex": [
       "\\[\n",
       "\\begin{aligned}\n",
       "\\sigma_{c1H} &= \\sigma_{c0H} + \\Delta_{\\sigma_{cH}}  = 19.53\\ \\text{MPa} + 4.89\\ \\text{MPa} &= 24.43\\ \\text{MPa}  \n",
       "\\\\[10pt]\n",
       "\\sigma_{c2H} &= \\sigma_{c0H} - \\Delta_{\\sigma_{cH}}  = 19.53\\ \\text{MPa} - 4.89\\ \\text{MPa} &= 14.64\\ \\text{MPa}  \n",
       "\\end{aligned}\n",
       "\\]"
      ],
      "text/plain": [
       "<IPython.core.display.Latex object>"
      ]
     },
     "metadata": {},
     "output_type": "display_data"
    }
   ],
   "source": [
    "%%render 2\n",
    "sigma_c1H = sigma_c0H + Delta_sigma_cH\n",
    "sigma_c2H = sigma_c0H - Delta_sigma_cH"
   ]
  },
  {
   "cell_type": "markdown",
   "metadata": {},
   "source": [
    "Transient factors"
   ]
  },
  {
   "cell_type": "code",
   "execution_count": 136,
   "metadata": {},
   "outputs": [
    {
     "data": {
      "text/latex": [
       "\\[\n",
       "\\begin{aligned}\n",
       "k_{tr10H} &= \\operatorname{max} { \\left( 1 - 2.35 \\cdot \\frac{ \\sigma_{c1H} }{ f_{ck20} } ,\\  0 \\right) }  = \\operatorname{max} { \\left( 1 - 2.35 \\cdot \\frac{ 24.428\\ \\text{MPa} }{ 55.000\\ \\text{MPa} } ,\\  0 \\right) } &= 0  \n",
       "\\\\[10pt]\n",
       "k_{tr20H} &= \\operatorname{max} { \\left( 1 - 2.35 \\cdot \\frac{ \\sigma_{c2H} }{ f_{ck20} } ,\\  0 \\right) }  = \\operatorname{max} { \\left( 1 - 2.35 \\cdot \\frac{ 14.641\\ \\text{MPa} }{ 55.000\\ \\text{MPa} } ,\\  0 \\right) } &= 3.744 \\times 10 ^ {-1 }  \n",
       "\\end{aligned}\n",
       "\\]"
      ],
      "text/plain": [
       "<IPython.core.display.Latex object>"
      ]
     },
     "metadata": {},
     "output_type": "display_data"
    }
   ],
   "source": [
    "%%render\n",
    "k_tr10H = max(1 - 2.35*sigma_c1H/f_ck20,0)\n",
    "k_tr20H = max(1 - 2.35*sigma_c2H/f_ck20,0)"
   ]
  },
  {
   "cell_type": "markdown",
   "metadata": {
    "tags": []
   },
   "source": [
    "Thermal deflection"
   ]
  },
  {
   "cell_type": "code",
   "execution_count": 137,
   "metadata": {},
   "outputs": [
    {
     "data": {
      "text/latex": [
       "\\[\n",
       "\\begin{aligned}\n",
       "e_{thH} &= 1.1 \\cdot \\frac{ \\left( 10 \\right) ^{ -5 } }{ K } \\cdot T_{cH} \\cdot \\frac{ k_{tr20H} - k_{tr10H} }{ b_{H} } \\cdot \\frac{ \\left( L \\right) ^{ 2 } }{ 8 } \\\\&= 1.1 \\cdot \\frac{ \\left( 10 \\right) ^{ -5 } }{ K } \\cdot 603.00\\ \\text{°C} \\cdot \\frac{ 3.74 \\times 10 ^ {-1 } - 0 }{ 611.01\\ \\text{mm} } \\cdot \\frac{ \\left( 11.40\\ \\text{m} \\right) ^{ 2 } }{ 8 } \\\\&= 66.03\\ \\text{mm}  \\\\\n",
       "\\\\[10pt]\n",
       "e_{H} &= e_{load} + e_{thH}  = 26.04\\ \\text{mm} + 66.03\\ \\text{mm} &= 92.07\\ \\text{mm}  \n",
       "\\end{aligned}\n",
       "\\]"
      ],
      "text/plain": [
       "<IPython.core.display.Latex object>"
      ]
     },
     "metadata": {},
     "output_type": "display_data"
    }
   ],
   "source": [
    "%%render 2\n",
    "e_thH = 1.1*10**-5/K*T_cH*(k_tr20H-k_tr10H)/b_H*L**2/8\n",
    "e_H = e_load + e_thH"
   ]
  },
  {
   "cell_type": "code",
   "execution_count": 138,
   "metadata": {},
   "outputs": [
    {
     "data": {
      "text/markdown": [
       "Since $e_{H} <  b_{H}/6$, no tensile stress occur"
      ],
      "text/plain": [
       "<IPython.core.display.Markdown object>"
      ]
     },
     "metadata": {},
     "output_type": "display_data"
    }
   ],
   "source": [
    "if e_H < b_H/6: display(Markdown('Since $e_{H} <  b_{H}/6$, no tensile stress occur'))\n",
    "else: display(Markdown('Tensile stresses will occur'))"
   ]
  },
  {
   "cell_type": "code",
   "execution_count": 139,
   "metadata": {},
   "outputs": [
    {
     "data": {
      "text/latex": [
       "\\[\n",
       "\\begin{aligned}\n",
       "F_{ucrH} &= F_{RH} \\cdot \\left( 1 - 2 \\cdot \\frac{ e_{H} }{ b_{H} } \\right)  = 12.82\\ \\text{MN} \\cdot \\left( 1 - 2 \\cdot \\frac{ 92.07\\ \\text{mm} }{ 611.01\\ \\text{mm} } \\right) &= 8.95\\ \\text{MN}  \n",
       "\\\\[10pt]\n",
       "& \\textrm{ Utilization factor}\\\\[10pt]\n",
       "\\mu_{H} &= \\frac{ F_{load} }{ F_{ucrH} }  = \\frac{ 7.40\\ \\text{MN} }{ 8.95\\ \\text{MN} } &= 8.26 \\times 10 ^ {-1 }  \n",
       "\\end{aligned}\n",
       "\\]"
      ],
      "text/plain": [
       "<IPython.core.display.Latex object>"
      ]
     },
     "metadata": {},
     "output_type": "display_data"
    }
   ],
   "source": [
    "%%render 2\n",
    "F_ucrH = F_RH*(1-2*e_H/b_H)\n",
    "## Utilization factor\n",
    "mu_H = F_load/F_ucrH"
   ]
  },
  {
   "cell_type": "markdown",
   "metadata": {},
   "source": [
    "**COLD - After fire**"
   ]
  },
  {
   "cell_type": "code",
   "execution_count": 140,
   "metadata": {},
   "outputs": [
    {
     "data": {
      "text/latex": [
       "\\[\n",
       "\\begin{aligned}\n",
       "F_{suC} &= 1.26\\ \\text{MN} \\; \n",
       "\\\\[10pt]\n",
       "F_{sEC} &= 2.99\\ \\text{MN} \\; \n",
       "\\end{aligned}\n",
       "\\]"
      ],
      "text/plain": [
       "<IPython.core.display.Latex object>"
      ]
     },
     "metadata": {},
     "output_type": "display_data"
    }
   ],
   "source": [
    "%%render 2\n",
    "\n",
    "F_suC = F_su20\n",
    "F_sEC = F_sE20"
   ]
  },
  {
   "cell_type": "markdown",
   "metadata": {},
   "source": [
    "Over-reinforcment check"
   ]
  },
  {
   "cell_type": "code",
   "execution_count": 141,
   "metadata": {},
   "outputs": [
    {
     "data": {
      "text/latex": [
       "\\[\n",
       "\\begin{aligned}\n",
       "b_{C} &= b \\cdot \\left( \\eta_{C} \\right) ^{ \\left( \\frac{ 4 }{ 3 } \\right) }  = 660.00\\ \\text{mm} \\cdot \\left( 8.67 \\times 10 ^ {-1 } \\right) ^{ \\left( \\frac{ 4 }{ 3 } \\right) } &= 545.55\\ \\text{mm}  \n",
       "\\\\[10pt]\n",
       "h_{C} &= h - b \\cdot \\left( 1 - \\left( \\eta_{C} \\right) ^{ \\left( \\frac{ 4 }{ 3 } \\right) } \\right)  = 660.00\\ \\text{mm} - 660.00\\ \\text{mm} \\cdot \\left( 1 - \\left( 8.67 \\times 10 ^ {-1 } \\right) ^{ \\left( \\frac{ 4 }{ 3 } \\right) } \\right) &= 545.55\\ \\text{mm}  \n",
       "\\\\[10pt]\n",
       "A_{cC} &= b_{C} \\cdot h_{C}  = 545.55\\ \\text{mm} \\cdot 545.55\\ \\text{mm} &= 297626.69\\ \\text{mm}^{2}  \n",
       "\\end{aligned}\n",
       "\\]"
      ],
      "text/plain": [
       "<IPython.core.display.Latex object>"
      ]
     },
     "metadata": {},
     "output_type": "display_data"
    }
   ],
   "source": [
    "%%render 2\n",
    "\n",
    "b_C = b*eta_C**(4/3)\n",
    "#The next line is here only in case we change the section to a rectangular one. Otherwise, if it is squared the b_H will be the same as h_H\n",
    "h_C = h-b*(1-eta_C**(4/3))\n",
    "A_cC = b_C*h_C"
   ]
  },
  {
   "cell_type": "markdown",
   "metadata": {},
   "source": [
    "Reduced strength"
   ]
  },
  {
   "cell_type": "code",
   "execution_count": 142,
   "metadata": {},
   "outputs": [
    {
     "data": {
      "text/latex": [
       "\\[\n",
       "\\begin{aligned}\n",
       "F_{cC} &= A_{cC} \\cdot f_{ck20} \\cdot \\xi_{CMC}  = 297626.69\\ \\text{mm}^{2} \\cdot 55.00\\ \\text{MPa} \\cdot 9.92 \\times 10 ^ {-1 } &= 16.24\\ \\text{MN}  \n",
       "\\end{aligned}\n",
       "\\]"
      ],
      "text/plain": [
       "<IPython.core.display.Latex object>"
      ]
     },
     "metadata": {},
     "output_type": "display_data"
    }
   ],
   "source": [
    "%%render 2\n",
    "F_cC = A_cC*f_ck20*xi_CMC "
   ]
  },
  {
   "cell_type": "markdown",
   "metadata": {},
   "source": [
    "Reduced stiffness"
   ]
  },
  {
   "cell_type": "code",
   "execution_count": 143,
   "metadata": {},
   "outputs": [
    {
     "data": {
      "text/latex": [
       "\\[\n",
       "\\begin{aligned}\n",
       "E_{cC} &= E_{c20} \\cdot \\left( \\xi_{CMC} \\right) ^{ 2 }  = 36.00\\ \\text{GPa} \\cdot \\left( 9.92 \\times 10 ^ {-1 } \\right) ^{ 2 } &= 35.44\\ \\text{GPa}  \n",
       "\\\\[10pt]\n",
       "I_{cC} &= b_{C} \\cdot \\frac{ \\left( h_{C} \\right) ^{ 3 } }{ 12 }  = 545.55\\ \\text{mm} \\cdot \\frac{ \\left( 545.55\\ \\text{mm} \\right) ^{ 3 } }{ 12 } &= 7381804036.33\\ \\text{mm}^{4}  \n",
       "\\\\[10pt]\n",
       "F_{cEC} &= \\left( \\pi \\right) ^{ 2 } \\cdot I_{cC} \\cdot \\frac{ E_{cC} }{ \\left( L \\right) ^{ 2 } }  = \\left( 3.14 \\right) ^{ 2 } \\cdot 7381804036.33\\ \\text{mm}^{4} \\cdot \\frac{ 35.44\\ \\text{GPa} }{ \\left( 11.40\\ \\text{m} \\right) ^{ 2 } } &= 19.87\\ \\text{MN}  \n",
       "\\end{aligned}\n",
       "\\]"
      ],
      "text/plain": [
       "<IPython.core.display.Latex object>"
      ]
     },
     "metadata": {},
     "output_type": "display_data"
    }
   ],
   "source": [
    "%%render 2\n",
    "\n",
    "E_cC = E_c20*xi_CMC**2\n",
    "I_cC = b_C*h_C**3/12\n",
    "F_cEC = pi**2*I_cC*E_cC/L**2"
   ]
  },
  {
   "cell_type": "markdown",
   "metadata": {},
   "source": [
    "Rankine resistance"
   ]
  },
  {
   "cell_type": "code",
   "execution_count": 144,
   "metadata": {},
   "outputs": [
    {
     "data": {
      "text/latex": [
       "\\[\n",
       "\\begin{aligned}\n",
       "F_{RC} &= \\left( \\frac{ 1 }{ F_{cC} + F_{suC} } + \\frac{ 1 }{ F_{cEC} + F_{sEC} } \\right) ^{ -1 }  = \\left( \\frac{ 1 }{ 16.24\\ \\text{MN} + 1.26\\ \\text{MN} } + \\frac{ 1 }{ 19.87\\ \\text{MN} + 2.99\\ \\text{MN} } \\right) ^{ -1 } &= 9.91\\ \\text{MN}  \n",
       "\\end{aligned}\n",
       "\\]"
      ],
      "text/plain": [
       "<IPython.core.display.Latex object>"
      ]
     },
     "metadata": {},
     "output_type": "display_data"
    }
   ],
   "source": [
    "%%render 2\n",
    "\n",
    "F_RC = (1/(F_cC+F_suC)+1/(F_cEC+F_sEC))**-1"
   ]
  },
  {
   "cell_type": "code",
   "execution_count": 145,
   "metadata": {},
   "outputs": [
    {
     "data": {
      "text/latex": [
       "\\[\n",
       "\\begin{aligned}\n",
       "a_{cC} &= \\frac{ b }{ 2 } - \\frac{ b_{C} }{ 2 }  = \\frac{ 660.00\\ \\text{mm} }{ 2 } - \\frac{ 545.55\\ \\text{mm} }{ 2 } &= 57.22\\ \\text{mm}  \n",
       "\\\\[10pt]\n",
       "e_{C} &= 26.04\\ \\text{mm} \\; \n",
       "\\end{aligned}\n",
       "\\]"
      ],
      "text/plain": [
       "<IPython.core.display.Latex object>"
      ]
     },
     "metadata": {},
     "output_type": "display_data"
    }
   ],
   "source": [
    "%%render 2\n",
    "a_cC = b/2-b_C/2\n",
    "e_C = e_load"
   ]
  },
  {
   "cell_type": "code",
   "execution_count": 146,
   "metadata": {},
   "outputs": [
    {
     "data": {
      "text/markdown": [
       "Since $e_{C} <  b_{C}/6$, no tensile stress occur"
      ],
      "text/plain": [
       "<IPython.core.display.Markdown object>"
      ]
     },
     "metadata": {},
     "output_type": "display_data"
    }
   ],
   "source": [
    "if e_C < b_C/6: display(Markdown('Since $e_{C} <  b_{C}/6$, no tensile stress occur'))\n",
    "else: display(Markdown('Tensile stresses will occur'))"
   ]
  },
  {
   "cell_type": "code",
   "execution_count": 147,
   "metadata": {},
   "outputs": [
    {
     "data": {
      "text/latex": [
       "\\[\n",
       "\\begin{aligned}\n",
       "F_{ucrC} &= F_{RC} \\cdot \\left( 1 - 2 \\cdot \\frac{ e_{C} }{ b_{C} } \\right)  = 9.91\\ \\text{MN} \\cdot \\left( 1 - 2 \\cdot \\frac{ 26.04\\ \\text{mm} }{ 545.55\\ \\text{mm} } \\right) &= 8.97\\ \\text{MN}  \n",
       "\\\\[10pt]\n",
       "& \\textrm{ Utilization factor}\\\\[10pt]\n",
       "\\mu_{C} &= \\frac{ F_{load} }{ F_{ucrC} }  = \\frac{ 7.40\\ \\text{MN} }{ 8.97\\ \\text{MN} } &= 8.25 \\times 10 ^ {-1 }  \n",
       "\\end{aligned}\n",
       "\\]"
      ],
      "text/plain": [
       "<IPython.core.display.Latex object>"
      ]
     },
     "metadata": {},
     "output_type": "display_data"
    }
   ],
   "source": [
    "%%render 2\n",
    "\n",
    "F_ucrC = F_RC*(1-2*e_C/b_C)\n",
    "## Utilization factor\n",
    "mu_C = F_load/F_ucrC"
   ]
  }
 ],
 "metadata": {
  "interpreter": {
   "hash": "e42634819b8c191a5d07eaf23810ff32516dd8d3875f28ec3e488928fbd3c187"
  },
  "kernelspec": {
   "display_name": "Python 3 (ipykernel)",
   "language": "python",
   "name": "python3"
  },
  "language_info": {
   "codemirror_mode": {
    "name": "ipython",
    "version": 3
   },
   "file_extension": ".py",
   "mimetype": "text/x-python",
   "name": "python",
   "nbconvert_exporter": "python",
   "pygments_lexer": "ipython3",
   "version": "3.8.13"
  }
 },
 "nbformat": 4,
 "nbformat_minor": 4
}
