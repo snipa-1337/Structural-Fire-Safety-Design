{
 "cells": [
  {
   "cell_type": "code",
   "execution_count": 117,
   "metadata": {},
   "outputs": [],
   "source": [
    "import numpy as np\n",
    "import pandas as pd\n",
    "pd.options.mode.chained_assignment = None  # default='warn'\n",
    "import sympy as sp\n",
    "import handcalcs.render\n",
    "import forallpeople as si\n",
    "import matplotlib.pyplot as plt\n",
    "%matplotlib inline\n",
    "from math import tan, sin,cos, pi, radians, sqrt, trunc\n",
    "from IPython.display import display, Markdown\n",
    "si.environment('structural', top_level=True)"
   ]
  },
  {
   "cell_type": "markdown",
   "metadata": {},
   "source": [
    "<h2>Delta Beam verification</h2>\n",
    "\n",
    "<h3>Compartment beneath: Office workspace</h3>\n",
    "\n",
    "<img src='DELTA-Roof.png' style=\"width: 600px;\"/>"
   ]
  },
  {
   "cell_type": "markdown",
   "metadata": {},
   "source": [
    "<h4>Beam parameters</h4>"
   ]
  },
  {
   "cell_type": "code",
   "execution_count": 118,
   "metadata": {},
   "outputs": [
    {
     "data": {
      "text/latex": [
       "\\[\n",
       "\\begin{aligned}\n",
       "L &= 14.56\\ \\text{m} \\; \n",
       " &b &= 500.00\\ \\text{mm} \\; \n",
       " &h &= 500.00\\ \\text{mm} \\; \n",
       "\\\\[10pt]\n",
       " \\mathrm{b1} &= 130.00\\ \\text{mm} \\; \n",
       " &\\mathrm{b2} &= 330.00\\ \\text{mm} \\; \n",
       " &\\mathrm{d2} &= 30.00\\ \\text{mm} \\; \n",
       "\\\\[10pt]\n",
       " B &= 760.00\\ \\text{mm} \\; \n",
       " &\\phi &= 150.00\\ \\text{mm} \\; \n",
       " &f_{yk} &= 355.00\\ \\text{MPa} \\; \n",
       "\\\\[10pt]\n",
       " \\rho &= 7850.00\\ \\text{kg} \\cdot \\text{m}^{-3} \\; \n",
       " &E_{s20} &= 210.00\\ \\text{GPa} \\;\\end{aligned}\n",
       "\\]"
      ],
      "text/plain": [
       "<IPython.core.display.Latex object>"
      ]
     },
     "metadata": {},
     "output_type": "display_data"
    }
   ],
   "source": [
    "%%render param 2\n",
    "\n",
    "L = 14.56*m\n",
    "b = 500*mm\n",
    "h = 500*mm\n",
    "b1 = 130*mm\n",
    "b2 = 330*mm\n",
    "d2 = 30*mm\n",
    "B = b+2*b1\n",
    "phi = 150*mm\n",
    "f_yk = 355*MPa\n",
    "rho = 7850*kg/m**3\n",
    "E_s20 = 210*GPa\n"
   ]
  },
  {
   "cell_type": "code",
   "execution_count": 119,
   "metadata": {},
   "outputs": [],
   "source": [
    "x = (B-2*b1-b2)/2"
   ]
  },
  {
   "cell_type": "code",
   "execution_count": 120,
   "metadata": {},
   "outputs": [
    {
     "data": {
      "text/latex": [
       "\\[\n",
       "\\begin{aligned}\n",
       "d_{web} &= \\left( \\left( h - \\mathrm{d2} \\right) ^{ 2 } + \\left( x \\right) ^{ 2 } \\right) ^{ 0.5 }  = \\left( \\left( 500.00\\ \\text{mm} - 30.00\\ \\text{mm} \\right) ^{ 2 } + \\left( 85.00\\ \\text{mm} \\right) ^{ 2 } \\right) ^{ 0.5 } &= 477.62\\ \\text{mm}  \n",
       "\\\\[10pt]\n",
       "d_{web_{net}} &= d_{web} - \\phi  = 477.62\\ \\text{mm} - 150.00\\ \\text{mm} &= 327.62\\ \\text{mm}  \n",
       "\\\\[10pt]\n",
       "h_{net} &= d_{web_{net}} + 2 \\cdot \\mathrm{d2}  = 327.62\\ \\text{mm} + 2 \\cdot 30.00\\ \\text{mm} &= 387.62\\ \\text{mm}  \n",
       "\\\\[10pt]\n",
       "A_{botplate} &= \\mathrm{d2} \\cdot B  = 30.00\\ \\text{mm} \\cdot 760.00\\ \\text{mm} &= 22800.00\\ \\text{mm}^{2}  \n",
       "\\\\[10pt]\n",
       "A_{topplate} &= \\mathrm{d2} \\cdot \\mathrm{b2}  = 30.00\\ \\text{mm} \\cdot 330.00\\ \\text{mm} &= 9900.00\\ \\text{mm}^{2}  \n",
       "\\\\[10pt]\n",
       "A_{web} &= 2 \\cdot \\mathrm{d2} \\cdot d_{web_{net}}  = 2 \\cdot 30.00\\ \\text{mm} \\cdot 327.62\\ \\text{mm} &= 19657.46\\ \\text{mm}^{2}  \n",
       "\\end{aligned}\n",
       "\\]"
      ],
      "text/plain": [
       "<IPython.core.display.Latex object>"
      ]
     },
     "metadata": {},
     "output_type": "display_data"
    }
   ],
   "source": [
    "%%render 2\n",
    "\n",
    "d_web = ((h-d2)**2+x**2)**0.5\n",
    "d_web_net = d_web - phi\n",
    "h_net = d_web_net+2*d2\n",
    "A_botplate = d2*B\n",
    "A_topplate = d2*b2\n",
    "A_web = 2*d2*d_web_net"
   ]
  },
  {
   "cell_type": "markdown",
   "metadata": {},
   "source": [
    "Plastic section modulus: Area x distance from centroid to the plastic neutral axis (Area in tension = Area in compression)"
   ]
  },
  {
   "cell_type": "code",
   "execution_count": 121,
   "metadata": {},
   "outputs": [
    {
     "data": {
      "text/latex": [
       "\\[\n",
       "\\begin{aligned}\n",
       "P_{NA} &= \\frac{ A_{botplate} - A_{topplate} + 2 \\cdot \\mathrm{d2} \\cdot h_{net} }{ 4 \\cdot \\mathrm{d2} } \\\\&= \\frac{ 22800.00\\ \\text{mm}^{2} - 9900.00\\ \\text{mm}^{2} + 2 \\cdot 30.00\\ \\text{mm} \\cdot 387.62\\ \\text{mm} }{ 4 \\cdot 30.00\\ \\text{mm} } \\\\&= 301.31\\ \\text{mm}  \\\\\n",
       "\\end{aligned}\n",
       "\\]"
      ],
      "text/plain": [
       "<IPython.core.display.Latex object>"
      ]
     },
     "metadata": {},
     "output_type": "display_data"
    }
   ],
   "source": [
    "%%render long 2\n",
    "\n",
    "P_NA = (A_botplate-A_topplate+2*d2*h_net)/(4*d2)"
   ]
  },
  {
   "cell_type": "code",
   "execution_count": 122,
   "metadata": {},
   "outputs": [
    {
     "data": {
      "text/latex": [
       "\\[\n",
       "\\begin{aligned}\n",
       "W_{Pl} &= A_{topplate} \\cdot \\left( P_{NA} - \\frac{ \\mathrm{d2} }{ 2 } \\right) + A_{botplate} \\cdot \\left( h_{net} - \\frac{ \\mathrm{d2} }{ 2 } - P_{NA} \\right) + A_{web} \\cdot \\left( P_{NA} - \\left( \\frac{ d_{web_{net}} }{ 2 } + \\mathrm{d2} \\right) \\right) \\; \n",
       "\\end{aligned}\n",
       "\\]"
      ],
      "text/plain": [
       "<IPython.core.display.Latex object>"
      ]
     },
     "metadata": {},
     "output_type": "display_data"
    }
   ],
   "source": [
    "%%render symbolic\n",
    "\n",
    "W_Pl = A_topplate*(P_NA-d2/2)+A_botplate*(h_net-d2/2-P_NA)+A_web*(P_NA-(d_web_net/2+d2))"
   ]
  },
  {
   "cell_type": "code",
   "execution_count": 123,
   "metadata": {},
   "outputs": [],
   "source": [
    "#another attempts to calculate wpl\n",
    "#W_Pl2 = A_topplate*(P_NA-d2/2)+2*(A_web*(P_NA-d_web_net/2))+A_botplate*((h_net-d2/2)-P_NA)\n",
    "#W_Pl3 = A_topplate*(P_NA-d2/2)+2*d2*(P_NA-d2)*((P_NA-d2)/2)+A_botplate*(h_net-P_NA-d2/2)+2*d2*(h_net-P_NA-d2)*((h_net-P_NA-d2)/2)"
   ]
  },
  {
   "cell_type": "code",
   "execution_count": 124,
   "metadata": {},
   "outputs": [
    {
     "data": {
      "text/latex": [
       "\\[\n",
       "\\begin{aligned}\n",
       "W_{Pl} &= 6573584.71\\ \\text{mm}^{3} \\; \n",
       "\\\\[10pt]\n",
       "M_{Pl} &= f_{yk} \\cdot W_{Pl}  = 355.00\\ \\text{MPa} \\cdot 6573584.71\\ \\text{mm}^{3} &= 2.33\\ \\text{MN} \\cdot \\text{m}  \n",
       "\\end{aligned}\n",
       "\\]"
      ],
      "text/plain": [
       "<IPython.core.display.Latex object>"
      ]
     },
     "metadata": {},
     "output_type": "display_data"
    }
   ],
   "source": [
    "%%render 2\n",
    "W_Pl\n",
    "M_Pl = f_yk*W_Pl"
   ]
  },
  {
   "cell_type": "markdown",
   "metadata": {
    "tags": []
   },
   "source": [
    "<h4>Loads</h4>"
   ]
  },
  {
   "cell_type": "code",
   "execution_count": 125,
   "metadata": {},
   "outputs": [
    {
     "data": {
      "text/latex": [
       "\\[\n",
       "\\begin{aligned}\n",
       "\\psi_{11} &= 0.4 \\; \n",
       " &l_{influence} &= 8.16\\ \\text{m} \\; \n",
       " &G_{k} &= 5.52\\ \\text{kPa} \\; \n",
       "\\\\[10pt]\n",
       " Q_{k} &= 800.00\\ \\text{Pa} \\; \n",
       " &G_{k_{beam}} &= 9.21\\ \\text{kN/m} \\;\\end{aligned}\n",
       "\\]"
      ],
      "text/plain": [
       "<IPython.core.display.Latex object>"
      ]
     },
     "metadata": {},
     "output_type": "display_data"
    }
   ],
   "source": [
    "%%render param 2\n",
    "psi_11 = 0.4\n",
    "l_influence = 8.16*m\n",
    "G_k = (3.88+1.64)*kN/m**2\n",
    "Q_k = 0.8*kN/m**2\n",
    "G_k_beam = 9.21*kN/m"
   ]
  },
  {
   "cell_type": "markdown",
   "metadata": {},
   "source": [
    "Load combination for fire:"
   ]
  },
  {
   "cell_type": "code",
   "execution_count": 148,
   "metadata": {},
   "outputs": [
    {
     "data": {
      "text/latex": [
       "\\[\n",
       "\\begin{aligned}\n",
       "q_{d} &= G_{k} \\cdot l_{influence} + G_{k_{beam}} + \\psi_{11} \\cdot Q_{k} \\cdot l_{influence} \\\\&= 5.52\\ \\text{kPa} \\cdot 8.16\\ \\text{m} + 9.21\\ \\text{kN/m} + 0.4 \\cdot 800.00\\ \\text{Pa} \\cdot 8.16\\ \\text{m} \\\\&= 56.86\\ \\text{kN/m}  \\\\\n",
       "\\\\[10pt]\n",
       "M_{max_{ALS}} &= q_{d} \\cdot \\frac{ \\left( L \\right) ^{ 2 } }{ 8 } \\\\&= 56.86\\ \\text{kN/m} \\cdot \\frac{ \\left( 14.56\\ \\text{m} \\right) ^{ 2 } }{ 8 } \\\\&= 1.51\\ \\text{MN} \\cdot \\text{m}  \\\\\n",
       "\\\\[10pt]\n",
       "\\mu_{20} &= \\frac{ M_{max_{ALS}} }{ M_{Pl} } \\\\&= \\frac{ 1.51\\ \\text{MN} \\cdot \\text{m} }{ 2.33\\ \\text{MN} \\cdot \\text{m} } \\\\&= 6.46 \\times 10 ^ {-1 }  \\\\\n",
       "\\end{aligned}\n",
       "\\]"
      ],
      "text/plain": [
       "<IPython.core.display.Latex object>"
      ]
     },
     "metadata": {},
     "output_type": "display_data"
    }
   ],
   "source": [
    "%%render long 2\n",
    "\n",
    "q_d = G_k*l_influence + G_k_beam + psi_11*Q_k*l_influence\n",
    "M_max_ALS = q_d*L**2/8\n",
    "mu_20 = M_max_ALS/M_Pl"
   ]
  },
  {
   "cell_type": "markdown",
   "metadata": {},
   "source": [
    "<h4>Compartment properties</h4>"
   ]
  },
  {
   "cell_type": "code",
   "execution_count": 127,
   "metadata": {},
   "outputs": [
    {
     "data": {
      "text/latex": [
       "\\[\n",
       "\\begin{aligned}\n",
       "q &= 200.00\\ \\text{MN/m} \\; \n",
       " &O &= 0.02\\ \\text{m}^{0.5} \\; \n",
       " &b &= 819.21\\ \\text{kg} \\cdot \\text{s}^{-2.5} \\cdot \\text{K} \\; \n",
       "\\\\[10pt]\\end{aligned}\n",
       "\\]"
      ],
      "text/plain": [
       "<IPython.core.display.Latex object>"
      ]
     },
     "metadata": {},
     "output_type": "display_data"
    }
   ],
   "source": [
    "%%render param 2\n",
    "\n",
    "q = 200*10**6*J_m2\n",
    "O = (0.02*m**0.5).prefix('unity')\n",
    "b = 819.21*W*s**0.5*m**-2*K\n"
   ]
  },
  {
   "cell_type": "markdown",
   "metadata": {},
   "source": [
    "Steel deterioration constants Hot rolled bars 0.2% stress"
   ]
  },
  {
   "cell_type": "code",
   "execution_count": 128,
   "metadata": {},
   "outputs": [
    {
     "data": {
      "text/latex": [
       "\\[\n",
       "\\begin{aligned}\n",
       "k &= 0 \\; \n",
       " &\\mathrm{T1} &= 100.00\\ \\text{k°C} \\; \n",
       " &\\mathrm{T2} &= 100.00\\ \\text{k°C} \\; \n",
       "\\\\[10pt]\n",
       " \\mathrm{T8} &= 593.00\\ \\text{°C} \\; \n",
       " &\\mathrm{T64} &= 100.00\\ \\text{k°C} \\;\\end{aligned}\n",
       "\\]"
      ],
      "text/plain": [
       "<IPython.core.display.Latex object>"
      ]
     },
     "metadata": {},
     "output_type": "display_data"
    }
   ],
   "source": [
    "%%render param 2\n",
    "k = 0\n",
    "T1 = 100000*dC\n",
    "T2 = 100000*dC\n",
    "T8 = 593*dC\n",
    "T64 = 100000*dC\n",
    "\n"
   ]
  },
  {
   "cell_type": "code",
   "execution_count": 129,
   "metadata": {},
   "outputs": [],
   "source": [
    "from handcalcs import handcalc\n",
    "@handcalc(jupyter_display = True)\n",
    "def material_deterioration(T,k,T1,T2,T8,T64):\n",
    "    \"\"\"\n",
    "    Calculate the deterioration of a material.\n",
    "    \"\"\"\n",
    "    xi = k + (1-k)/(1+T/T1+(T/T2)**2+(T/T8)**8+(T/T64)**64)\n",
    "    return xi\n"
   ]
  },
  {
   "cell_type": "markdown",
   "metadata": {},
   "source": [
    "The critical temperature for the beam in which $\\mu_{ALC} = \\xi_{sH}$ is 550 $^{\\circ }\\textrm{C}$"
   ]
  },
  {
   "cell_type": "code",
   "execution_count": 130,
   "metadata": {},
   "outputs": [
    {
     "data": {
      "text/latex": [
       "\\[\n",
       "\\begin{aligned}\n",
       "\\xi &= k + \\frac{ 1 - k }{ 1 + \\frac{ T }{ \\mathrm{T1} } + \\left( \\frac{ T }{ \\mathrm{T2} } \\right) ^{ 2 } + \\left( \\frac{ T }{ \\mathrm{T8} } \\right) ^{ 8 } + \\left( \\frac{ T }{ \\mathrm{T64} } \\right) ^{ 64 } } \\\\&= 0 + \\frac{ 1 - 0 }{ 1 + \\frac{ 550.000\\ \\text{°C} }{ 100.000\\ \\text{k°C} } + \\left( \\frac{ 550.000\\ \\text{°C} }{ 100.000\\ \\text{k°C} } \\right) ^{ 2 } + \\left( \\frac{ 550.000\\ \\text{°C} }{ 593.000\\ \\text{°C} } \\right) ^{ 8 } + \\left( \\frac{ 550.000\\ \\text{°C} }{ 100.000\\ \\text{k°C} } \\right) ^{ 64 } } \\\\&= 6.439 \\times 10 ^ {-1 }  \\\\\n",
       "\\end{aligned}\n",
       "\\]"
      ],
      "text/plain": [
       "<IPython.core.display.Latex object>"
      ]
     },
     "metadata": {},
     "output_type": "display_data"
    }
   ],
   "source": [
    "T_cr = 550*dC\n",
    "xi_sH = material_deterioration(T_cr,k,T1,T2,T8,T64)"
   ]
  },
  {
   "cell_type": "code",
   "execution_count": 131,
   "metadata": {},
   "outputs": [
    {
     "data": {
      "text/latex": [
       "\\[\n",
       "\\begin{aligned}\n",
       "\\xi_{sH} &= 6.44 \\times 10 ^ {-1 } \\; \n",
       "\\end{aligned}\n",
       "\\]"
      ],
      "text/plain": [
       "<IPython.core.display.Latex object>"
      ]
     },
     "metadata": {},
     "output_type": "display_data"
    }
   ],
   "source": [
    "%%render 2\n",
    "xi_sH"
   ]
  },
  {
   "cell_type": "code",
   "execution_count": 132,
   "metadata": {},
   "outputs": [
    {
     "data": {
      "text/latex": [
       "\\[\n",
       "\\begin{aligned}\n",
       "\\mu_{H} &= \\frac{ M_{max_{ALS}} }{ M_{Pl} \\cdot \\xi_{sH} }  = \\frac{ 1.51\\ \\text{MN} \\cdot \\text{m} }{ 2.33\\ \\text{MN} \\cdot \\text{m} \\cdot 6.44 \\times 10 ^ {-1 } } &= 1.0  \n",
       "\\end{aligned}\n",
       "\\]"
      ],
      "text/plain": [
       "<IPython.core.display.Latex object>"
      ]
     },
     "metadata": {},
     "output_type": "display_data"
    }
   ],
   "source": [
    "%%render 2\n",
    "mu_H = M_max_ALS/(M_Pl*xi_sH)"
   ]
  },
  {
   "cell_type": "markdown",
   "metadata": {},
   "source": [
    "The section factor of the insulation considers only the exposed area of the section, thus, the bottom plate."
   ]
  },
  {
   "cell_type": "code",
   "execution_count": 133,
   "metadata": {},
   "outputs": [
    {
     "data": {
      "text/latex": [
       "\\[\n",
       "\\begin{aligned}\n",
       "\\mathrm{SF} &= \\frac{ B + 2 \\cdot \\mathrm{d2} }{ A_{botplate} + A_{topplate} + A_{web} }  = \\frac{ 760.00\\ \\text{mm} + 2 \\cdot 30.00\\ \\text{mm} }{ 22800.00\\ \\text{mm}^{2} + 9900.00\\ \\text{mm}^{2} + 19657.46\\ \\text{mm}^{2} } &= 0.02\\ \\text{mm}^{-1}  \n",
       "\\end{aligned}\n",
       "\\]"
      ],
      "text/plain": [
       "<IPython.core.display.Latex object>"
      ]
     },
     "metadata": {},
     "output_type": "display_data"
    }
   ],
   "source": [
    "%%render 2\n",
    "\n",
    "SF = (B+2*d2)/(A_botplate+A_topplate+A_web)\n"
   ]
  },
  {
   "cell_type": "markdown",
   "metadata": {},
   "source": [
    "Thermal resistance of the intumescent paint with two coat Unitherm application (Pettersson)"
   ]
  },
  {
   "cell_type": "code",
   "execution_count": 134,
   "metadata": {},
   "outputs": [
    {
     "data": {
      "text/latex": [
       "\\[\n",
       "\\begin{aligned}\n",
       "\\mathrm{TR} &= 0.064\\ \\text{kg}^{-1} \\cdot \\text{s}^{3} \\cdot \\text{K} \\; \n",
       "\\end{aligned}\n",
       "\\]"
      ],
      "text/plain": [
       "<IPython.core.display.Latex object>"
      ]
     },
     "metadata": {},
     "output_type": "display_data"
    }
   ],
   "source": [
    "%%render 3\n",
    "TR = (0.064*m**2*dC/W)"
   ]
  },
  {
   "cell_type": "markdown",
   "metadata": {},
   "source": [
    "Specific heat capacity"
   ]
  },
  {
   "cell_type": "code",
   "execution_count": 135,
   "metadata": {},
   "outputs": [],
   "source": [
    "def steel_cp(T):\n",
    "    \"\"\"\n",
    "    Calculate the specific heat capacity of steel. For temperatures between 20 and 600 C.\n",
    "    \"\"\"\n",
    "    return 425 + 7.73E-1*T -1.69E-3*T**2 + 2.22E-6*T**3\n"
   ]
  },
  {
   "cell_type": "code",
   "execution_count": 136,
   "metadata": {},
   "outputs": [],
   "source": [
    "def gamma_f(O,b):\n",
    "    return (O.value/0.04/(b.value/1160))**2"
   ]
  },
  {
   "cell_type": "code",
   "execution_count": 137,
   "metadata": {},
   "outputs": [
    {
     "data": {
      "image/png": "[encoded data removed]",
      "text/plain": [
       "<Figure size 432x288 with 1 Axes>"
      ]
     },
     "metadata": {
      "needs_background": "light"
     },
     "output_type": "display_data"
    }
   ],
   "source": [
    "t_max = 0.0078*q.value/1E6/O.value\n",
    "delta_t = t_max/20\n",
    "t = np.arange(0,t_max*4,delta_t)\n",
    "#create a dataframe with vector t\n",
    "df = pd.DataFrame(t, columns=['t'])\n",
    "#add a column with the temperature at each t\n",
    "df['Tg'] = 20+345*np.log10(8*gamma_f(O,b)*df['t']+1)/(1+0.04*(df['t']/t_max)**3.5)\n",
    "#add a column with the average from current and previous step T\n",
    "df['Tg_avg'] = (df['Tg']+df['Tg'].shift(1))/2\n",
    "#add a column called T_s with only temperature 20 in the first step\n",
    "df['T_s'] = 20\n",
    "for i in range(1,len(df)):\n",
    "    df['T_s'][i] = df['T_s'][i-1]+1/(rho.value*steel_cp(df['T_s'][i-1]))*SF.value/TR.value*(df['Tg_avg'][i]-df['T_s'][i-1])*delta_t*60\n",
    "\n",
    "#plot T_s and Tg\n",
    "plt.plot(df['t'],df['T_s'],label='Steel temperature')\n",
    "plt.plot(df['t'],df['Tg'],label='Gas temperature')\n",
    "plt.legend()\n",
    "plt.title('Steel heating curve')\n",
    "plt.xlabel('Time (min)')\n",
    "plt.ylabel('Temperature (C)')\n",
    "#plot dashed line with T_cr\n",
    "plt.plot([0,t_max*4],[T_cr.value,T_cr.value],linestyle='--',color='red')\n",
    "#show max T_s\n",
    "plt.text(df['t'][df['T_s'].idxmax()],df['T_s'].max()+10,str(round(df['T_s'].max(),2))+' C')\n",
    "#show T_cr\n",
    "plt.text(df['t'][df['T_s'].idxmax()],T_cr.value+10,str(round(T_cr.value,2))+' C')\n",
    "\n",
    "\n",
    "plt.show()\n",
    "\n",
    "\n"
   ]
  },
  {
   "cell_type": "markdown",
   "metadata": {},
   "source": [
    "The design is too conservative since the temperature reached is almost 200 degrees below the critical level. In order to test whether the section can be verified without applying an insulation layer, an **uninsulated steel heating** verification will be performed. This approach is only reasonable due to the low exposure (only the bottom flange) of the delta section to fire.\n",
    "\n",
    "**Uninsolated verification**"
   ]
  },
  {
   "cell_type": "code",
   "execution_count": 138,
   "metadata": {},
   "outputs": [],
   "source": [
    "def res_emiss(egas, esteel):\n",
    "    er = 1/(egas**-1+esteel**-1-1)\n",
    "    return er"
   ]
  },
  {
   "cell_type": "code",
   "execution_count": 139,
   "metadata": {},
   "outputs": [],
   "source": [
    "egas = 0.85\n",
    "esteel = 0.8\n",
    "er = res_emiss(egas, esteel)"
   ]
  },
  {
   "cell_type": "code",
   "execution_count": 140,
   "metadata": {},
   "outputs": [
    {
     "data": {
      "image/png": "[encoded data removed]",
      "text/plain": [
       "<Figure size 432x288 with 1 Axes>"
      ]
     },
     "metadata": {
      "needs_background": "light"
     },
     "output_type": "display_data"
    }
   ],
   "source": [
    "t_max = 0.0078*q.value/1E6/O.value\n",
    "delta_t = t_max/20\n",
    "t = np.arange(0,t_max*4,delta_t)\n",
    "#create a dataframe with vector t\n",
    "df = pd.DataFrame(t, columns=['t'])\n",
    "#add a column with the temperature at each t\n",
    "df['Tg'] = 20+345*np.log10(8*gamma_f(O,b)*df['t']+1)/(1+0.04*(df['t']/t_max)**3.5)\n",
    "#add a column with the average from current and previous step T\n",
    "df['Tg_avg'] = (df['Tg']+df['Tg'].shift(1))/2\n",
    "#add a column called T_s with only temperature 20 in the first step\n",
    "df['T_s'] = 20\n",
    "for i in range(1,len(df)):\n",
    "    df['T_s'][i] = df['T_s'][i-1]+(25+5.6704*10**-8*er*(df['Tg_avg'][i]**4-df['T_s'][i-1]**4)/(df['Tg_avg'][i]-df['T_s'][i-1]**4))/(rho.value*steel_cp(df['T_s'][i-1]))*SF.value*(df['Tg_avg'][i]-df['T_s'][i-1])*delta_t*60\n",
    "#plot T_s and Tg\n",
    "plt.plot(df['t'],df['T_s'],label='Steel temperature - Uninsolated')\n",
    "plt.plot(df['t'],df['Tg'],label='Gas temperature')\n",
    "plt.legend()\n",
    "plt.title('Steel heating curve')\n",
    "plt.xlabel('Time (min)')\n",
    "plt.ylabel('Temperature (C)')\n",
    "#plot dashed line with T_cr\n",
    "plt.plot([0,t_max*4],[T_cr.value,T_cr.value],linestyle='--',color='red')\n",
    "#show max T_s\n",
    "plt.text(df['t'][df['T_s'].idxmax()],df['T_s'].max()+10,str(round(df['T_s'].max(),2))+' C')\n",
    "#show T_cr\n",
    "plt.text(df['t'][df['T_s'].idxmax()],T_cr.value+10,str(round(T_cr.value,2))+' C')\n",
    "\n",
    "\n",
    "plt.show()"
   ]
  },
  {
   "cell_type": "markdown",
   "metadata": {},
   "source": [
    "With gypsum plaster insulation"
   ]
  },
  {
   "cell_type": "code",
   "execution_count": 141,
   "metadata": {},
   "outputs": [],
   "source": [
    "def gyp_conductivity(T):\n",
    "    if T<200:\n",
    "        c = 0.210\n",
    "    elif T<300:\n",
    "        c = 0.140\n",
    "    elif T<400:\n",
    "        c = 0.157\n",
    "    elif T<500:\n",
    "        c = 0.181\n",
    "    elif T<600:\n",
    "        c = 0.198\n",
    "    else:\n",
    "        c= 0.220\n",
    "    return c"
   ]
  },
  {
   "cell_type": "code",
   "execution_count": 142,
   "metadata": {},
   "outputs": [
    {
     "data": {
      "image/png": "[encoded data removed]",
      "text/plain": [
       "<Figure size 432x288 with 1 Axes>"
      ]
     },
     "metadata": {
      "needs_background": "light"
     },
     "output_type": "display_data"
    }
   ],
   "source": [
    "d_ins = 10*mm\n",
    "A_ins = (d2+d_ins)*2+(B+2*d_ins)\n",
    "SF_ins = A_ins/(A_botplate+A_topplate+A_web)\n",
    "t_max = 0.0078*q.value/1E6/O.value\n",
    "delta_t = t_max/20\n",
    "t = np.arange(0,t_max*4,delta_t)\n",
    "#create a dataframe with vector t\n",
    "df = pd.DataFrame(t, columns=['t'])\n",
    "#add a column with the temperature at each t\n",
    "df['Tg'] = 20+345*np.log10(8*gamma_f(O,b)*df['t']+1)/(1+0.04*(df['t']/t_max)**3.5)\n",
    "#add a column with the average from current and previous step T\n",
    "df['Tg_avg'] = (df['Tg']+df['Tg'].shift(1))/2\n",
    "#add a column called T_s with only temperature 20 in the first step\n",
    "df['T_s'] = 20\n",
    "for i in range(1,len(df)):\n",
    "    df['T_s'][i] = df['T_s'][i-1]+1/(rho.value*steel_cp(df['T_s'][i-1]))*SF_ins.value*gyp_conductivity(df['Tg_avg'][i])/d_ins.value*(df['Tg_avg'][i]-df['T_s'][i-1])*delta_t*60\n",
    "\n",
    "#plot T_s and Tg\n",
    "plt.plot(df['t'],df['T_s'],label='Steel temperature - Gypsum 10 mm')\n",
    "plt.plot(df['t'],df['Tg'],label='Gas temperature')\n",
    "plt.legend()\n",
    "plt.title('Steel heating curve')\n",
    "plt.xlabel('Time (min)')\n",
    "plt.ylabel('Temperature (C)')\n",
    "#plot dashed line with T_cr\n",
    "plt.plot([0,t_max*4],[T_cr.value,T_cr.value],linestyle='--',color='red')\n",
    "#show max T_s\n",
    "plt.text(df['t'][df['T_s'].idxmax()],df['T_s'].max()+10,str(round(df['T_s'].max(),2))+' C')\n",
    "#show T_cr\n",
    "plt.text(df['t'][df['T_s'].idxmax()],T_cr.value+10,str(round(T_cr.value,2))+' C')\n",
    "\n",
    "\n",
    "plt.show()"
   ]
  },
  {
   "cell_type": "code",
   "execution_count": 147,
   "metadata": {},
   "outputs": [
    {
     "data": {
      "image/png": "[encoded data removed]",
      "text/plain": [
       "<Figure size 720x360 with 1 Axes>"
      ]
     },
     "metadata": {
      "needs_background": "light"
     },
     "output_type": "display_data"
    }
   ],
   "source": [
    "d_ins = 10*mm\n",
    "A_ins = (d2+d_ins)*2+(B+2*d_ins)\n",
    "SF_ins = A_ins/(A_botplate+A_topplate+A_web)\n",
    "t_max = 0.0078*q.value/1E6/O.value\n",
    "delta_t = t_max/20\n",
    "t = np.arange(0,t_max*4,delta_t)\n",
    "#create a dataframe with vector t\n",
    "df = pd.DataFrame(t, columns=['t'])\n",
    "#add a column with the temperature at each t\n",
    "df['Tg'] = 20+345*np.log10(8*gamma_f(O,b)*df['t']+1)/(1+0.04*(df['t']/t_max)**3.5)\n",
    "#add a column with the average from current and previous step T\n",
    "df['Tg_avg'] = (df['Tg']+df['Tg'].shift(1))/2\n",
    "#add a column called T_s with only temperature 20 in the first step\n",
    "df['T_s_ip'] = 20\n",
    "df['T_s'] = 20\n",
    "df['T_s_gy'] = 20\n",
    "for i in range(1,len(df)):\n",
    "    df['T_s_ip'][i] = df['T_s_ip'][i-1]+1/(rho.value*steel_cp(df['T_s_ip'][i-1]))*SF.value/TR.value*(df['Tg_avg'][i]-df['T_s_ip'][i-1])*delta_t*60\n",
    "    df['T_s'][i] = df['T_s'][i-1]+(25+5.6704*10**-8*er*(df['Tg_avg'][i]**4-df['T_s'][i-1]**4)/(df['Tg_avg'][i]-df['T_s'][i-1]**4))/(rho.value*steel_cp(df['T_s'][i-1]))*SF.value*(df['Tg_avg'][i]-df['T_s'][i-1])*delta_t*60\n",
    "    df['T_s_gy'][i] = df['T_s_gy'][i-1]+1/(rho.value*steel_cp(df['T_s_gy'][i-1]))*SF_ins.value*gyp_conductivity(df['Tg_avg'][i])/d_ins.value*(df['Tg_avg'][i]-df['T_s_gy'][i-1])*delta_t*60\n",
    "\n",
    "#plot T_s and Tg\n",
    "plt.figure(figsize=(10,5))\n",
    "plt.style.use('seaborn-white')\n",
    "plt.plot(df['t'],df['T_s'],label='Steel temperature - Uninsolated')\n",
    "plt.plot(df['t'],df['T_s_ip'],label='Steel temperature - Intumescent paint')\n",
    "plt.plot(df['t'],df['T_s_gy'],label='Steel temperature - Gypsum 10 mm')\n",
    "plt.plot(df['t'],df['Tg'],label='Gas temperature')\n",
    "plt.title('Steel heating curve')\n",
    "plt.xlabel('Time (min)')\n",
    "plt.ylabel('Temperature (C)')\n",
    "#plot dashed line with T_cr\n",
    "plt.plot([0,t_max*4],[T_cr.value,T_cr.value],linestyle='--',color='red', label='Critical Temperature')\n",
    "plt.legend()\n",
    "#show max T_s\n",
    "plt.text(df['t'][df['T_s'].idxmax()],df['T_s'].max()+10,str(round(df['T_s'].max(),2))+' C')\n",
    "#show max T_s_ip\n",
    "plt.text(df['t'][df['T_s_ip'].idxmax()],df['T_s_ip'].max()+10,str(round(df['T_s_ip'].max(),2))+' C')\n",
    "#show max T_s_gy\n",
    "plt.text(df['t'][df['T_s_gy'].idxmax()],df['T_s_gy'].max()-40,str(round(df['T_s_gy'].max(),2))+' C')\n",
    "#show T_cr\n",
    "plt.text(df['t'][df['T_s'].idxmax()],T_cr.value+10,str(round(T_cr.value,2))+' C')\n",
    "\n",
    "\n",
    "plt.show()"
   ]
  },
  {
   "cell_type": "code",
   "execution_count": null,
   "metadata": {},
   "outputs": [],
   "source": []
  }
 ],
 "metadata": {
  "interpreter": {
   "hash": "e42634819b8c191a5d07eaf23810ff32516dd8d3875f28ec3e488928fbd3c187"
  },
  "kernelspec": {
   "display_name": "Python 3 (ipykernel)",
   "language": "python",
   "name": "python3"
  },
  "language_info": {
   "codemirror_mode": {
    "name": "ipython",
    "version": 3
   },
   "file_extension": ".py",
   "mimetype": "text/x-python",
   "name": "python",
   "nbconvert_exporter": "python",
   "pygments_lexer": "ipython3",
   "version": "3.8.13"
  }
 },
 "nbformat": 4,
 "nbformat_minor": 4
}
